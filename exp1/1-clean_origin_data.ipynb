{
 "cells": [
  {
   "cell_type": "code",
   "execution_count": 34,
   "metadata": {},
   "outputs": [],
   "source": [
    "import os\n",
    "import pandas as pd\n",
    "import matplotlib.pyplot as plt"
   ]
  },
  {
   "cell_type": "code",
   "execution_count": 33,
   "metadata": {},
   "outputs": [],
   "source": [
    "\n",
    "files = os.listdir(\"./origin_data/\")\n",
    "\n",
    "for _file in files:\n",
    "    df = pd.read_csv(f\"./origin_data/{_file}\")\n",
    "    # NOTE dow从2019才有，先剔除。\n",
    "    if _file == \"DOW.csv\": continue\n",
    "\n",
    "    cols = [\"Dividends\", \"Stock Splits\", \"ts_code\", \"Name\"]\n",
    "    for col in cols:\n",
    "        if col in df.columns:\n",
    "            del df[col]\n",
    "    df[\"Adj Close\"] = df[\"Close\"].copy()\n",
    "\n",
    "    df.columns = \"Date,Open,High,Low,Close,Volume,Adj Close\".split(\",\")\n",
    "    length = df.query(\"Date >= '2010-01-01' & Date <= '2022-08-04'\").shape[0]\n",
    "    if length == 0:\n",
    "        print(_file)\n",
    "    else:\n",
    "        cols = df.columns\n",
    "        for col in cols:\n",
    "            if col == \"Date\": continue\n",
    "            df[col] = df[col].round(6)\n",
    "        df = df.query(\"Date >= '2010-01-01' & Date <= '2022-08-04'\")\n",
    "        df.to_csv(f\"./origin_data/{_file}\", index=False)"
   ]
  },
  {
   "cell_type": "code",
   "execution_count": 36,
   "metadata": {},
   "outputs": [],
   "source": [
    "\n",
    "files = os.listdir(\"./origin_data/\")\n",
    "\n",
    "for _file in files:\n",
    "    df = pd.read_csv(f\"./origin_data/{_file}\")\n",
    "    # NOTE dow从2019才有，先剔除。\n",
    "    if _file == \"DOW.csv\": continue\n",
    "\n",
    "    if not os.path.exists(f\"./Data/{_file.split('.csv')[0]}\"):\n",
    "        os.mkdir(f\"./Data/{_file.split('.csv')[0]}\")\n",
    "    df.to_csv(f\"./Data/{_file.split('.csv')[0]}/{_file}\", index=False)"
   ]
  },
  {
   "cell_type": "code",
   "execution_count": null,
   "metadata": {},
   "outputs": [],
   "source": []
  }
 ],
 "metadata": {
  "kernelspec": {
   "display_name": "Python 3.8.3 ('base')",
   "language": "python",
   "name": "python3"
  },
  "language_info": {
   "codemirror_mode": {
    "name": "ipython",
    "version": 3
   },
   "file_extension": ".py",
   "mimetype": "text/x-python",
   "name": "python",
   "nbconvert_exporter": "python",
   "pygments_lexer": "ipython3",
   "version": "3.8.3"
  },
  "orig_nbformat": 4,
  "vscode": {
   "interpreter": {
    "hash": "70b8d5fa9004939b645b5ed04b7a6b5965238ce0024678cbb559f81b063cafc3"
   }
  }
 },
 "nbformat": 4,
 "nbformat_minor": 2
}
