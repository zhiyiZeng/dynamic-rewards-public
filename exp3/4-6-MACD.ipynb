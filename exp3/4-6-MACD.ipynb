{
 "cells": [
  {
   "cell_type": "code",
   "execution_count": 1,
   "metadata": {},
   "outputs": [],
   "source": [
    "import warnings\n",
    "warnings.filterwarnings(\"ignore\")\n",
    "\n",
    "import re\n",
    "import os\n",
    "import random\n",
    "import numpy as np\n",
    "import pandas as pd\n",
    "import matplotlib.pyplot as plt\n",
    "from tqdm import tqdm\n",
    "import torch\n",
    "\n",
    "from DataLoader.DataLoader import DataLoader\n",
    "from DataLoader.DataBasedAgent import DataBasedAgent\n",
    "from DataLoader.DataRLAgent import DataRLAgent\n",
    "import DeepRLAgent.VanillaInput.Train as Train\n",
    "from PatternDetectionInCandleStick.Evaluation import Evaluation\n",
    "import distinctipy\n",
    "import talib\n",
    "\n",
    "from importlib import reload\n",
    "\n",
    "Train = reload(Train)\n",
    "DeepRL = Train.Train\n",
    "from utils_best_arm import add_train_portfo, add_test_portfo, plot_return, calc_return, plot_action_point, setup_logger\n",
    "pd.options.display.max_colwidth = 100\n",
    "\n",
    "device = \"cpu\"\n",
    "# device = torch.device(\"cuda\" if torch.cuda.is_available() else \"cpu\")\n",
    "CURRENT_PATH = os.getcwd()"
   ]
  },
  {
   "cell_type": "code",
   "execution_count": null,
   "metadata": {},
   "outputs": [],
   "source": []
  },
  {
   "cell_type": "code",
   "execution_count": 2,
   "metadata": {},
   "outputs": [],
   "source": [
    "def train(\n",
    "    DATASET_NAME, \n",
    "    split_point='2018-01-01', \n",
    "    begin_date='2010-01-01', \n",
    "    end_date='2020-08-24', \n",
    "    model_start_date=\"\",\n",
    "    model_end_date=\"\",\n",
    "    initial_investment=1000,\n",
    "    transaction_cost=0.0001,\n",
    "    load_from_file=True,\n",
    "    reward_type=\"profit\",\n",
    "    seed=42, \n",
    "    state_mode=1,\n",
    "    n_episodes=5,\n",
    "    lamb=0.0001,\n",
    "    GAMMA=0.7, \n",
    "    n_step=5, \n",
    "    BATCH_SIZE=10, \n",
    "    ReplayMemorySize=20,\n",
    "    TARGET_UPDATE=5,\n",
    "    window_size=None, \n",
    "    train_portfolios={},\n",
    "    test_portfolios={},\n",
    "    arms=[],\n",
    "    show_all = False,\n",
    "    ratio_threshold=0.9,\n",
    "):\n",
    "    data_loader = DataLoader(DATASET_NAME, split_point=split_point, begin_date=begin_date, end_date=end_date, load_from_file=load_from_file)\n",
    "    \n",
    "    dataTrain_agent = DataRLAgent(data_loader.data_train, state_mode, 'action_encoder_decoder', device, GAMMA, n_step, BATCH_SIZE, window_size, transaction_cost)\n",
    "    dataTest_agent = DataRLAgent(data_loader.data_test, state_mode, 'action_encoder_decoder', device, GAMMA, n_step, BATCH_SIZE, window_size, transaction_cost)\n",
    "    \n",
    "    np.random.seed(seed)\n",
    "    random.seed(seed)\n",
    "    torch.manual_seed(seed)\n",
    "\n",
    "    agent = DeepRL(data_loader, dataTrain_agent, dataTest_agent, \n",
    "                DATASET_NAME,  state_mode, window_size, transaction_cost,\n",
    "                BATCH_SIZE=BATCH_SIZE, GAMMA=GAMMA, ReplayMemorySize=ReplayMemorySize,\n",
    "                TARGET_UPDATE=TARGET_UPDATE, n_step=n_step, arms=arms)\n",
    "    \n",
    "    path = f\"./Results/{DATASET_NAME}/{model_start_date}~{model_end_date}/{seed}/train\"\n",
    "    arm = arms[0]\n",
    "    name = f'{arm[\"name\"]}_{arm[\"lamb\"]}'\n",
    "    model_path = f\"{path}/model_{name}_{seed}.pkl\"\n",
    "    agent_test = agent.test_MACD(initial_investment=initial_investment, test_type='test', model_path=model_path, symbol=DATASET_NAME)\n",
    "    test_portfolio = agent_test.get_daily_portfolio_value()\n",
    "    test_portfolio = pd.Series(test_portfolio).pct_change(1).fillna(0).values.tolist() \n",
    "    model_name = f'DQN-stock:{DATASET_NAME}-reward:{name}-seed:{seed}'\n",
    "    return data_loader, {\"name\": model_name, \"portfo\": test_portfolio}"
   ]
  },
  {
   "cell_type": "code",
   "execution_count": 8,
   "metadata": {},
   "outputs": [
    {
     "name": "stdout",
     "output_type": "stream",
     "text": [
      "AAPL\n"
     ]
    },
    {
     "name": "stderr",
     "output_type": "stream",
     "text": [
      "100%|██████████| 1/1 [00:00<00:00,  1.79it/s]\n"
     ]
    },
    {
     "name": "stdout",
     "output_type": "stream",
     "text": [
      "AMGN\n"
     ]
    },
    {
     "name": "stderr",
     "output_type": "stream",
     "text": [
      "100%|██████████| 1/1 [00:00<00:00,  1.69it/s]\n"
     ]
    },
    {
     "name": "stdout",
     "output_type": "stream",
     "text": [
      "AXP\n"
     ]
    },
    {
     "name": "stderr",
     "output_type": "stream",
     "text": [
      "100%|██████████| 1/1 [00:00<00:00,  1.43it/s]\n"
     ]
    },
    {
     "name": "stdout",
     "output_type": "stream",
     "text": [
      "BA\n"
     ]
    },
    {
     "name": "stderr",
     "output_type": "stream",
     "text": [
      "100%|██████████| 1/1 [00:00<00:00,  1.37it/s]\n"
     ]
    },
    {
     "name": "stdout",
     "output_type": "stream",
     "text": [
      "CAT\n"
     ]
    },
    {
     "name": "stderr",
     "output_type": "stream",
     "text": [
      "100%|██████████| 1/1 [00:00<00:00,  1.35it/s]\n"
     ]
    },
    {
     "name": "stdout",
     "output_type": "stream",
     "text": [
      "CRM\n"
     ]
    },
    {
     "name": "stderr",
     "output_type": "stream",
     "text": [
      "100%|██████████| 1/1 [00:00<00:00,  1.35it/s]\n"
     ]
    },
    {
     "name": "stdout",
     "output_type": "stream",
     "text": [
      "CSCO\n"
     ]
    },
    {
     "name": "stderr",
     "output_type": "stream",
     "text": [
      "100%|██████████| 1/1 [00:00<00:00,  1.17it/s]\n"
     ]
    },
    {
     "name": "stdout",
     "output_type": "stream",
     "text": [
      "CVX\n"
     ]
    },
    {
     "name": "stderr",
     "output_type": "stream",
     "text": [
      "100%|██████████| 1/1 [00:00<00:00,  1.27it/s]\n"
     ]
    },
    {
     "name": "stdout",
     "output_type": "stream",
     "text": [
      "DIS\n"
     ]
    },
    {
     "name": "stderr",
     "output_type": "stream",
     "text": [
      "100%|██████████| 1/1 [00:00<00:00,  1.12it/s]\n"
     ]
    },
    {
     "name": "stdout",
     "output_type": "stream",
     "text": [
      "GS\n"
     ]
    },
    {
     "name": "stderr",
     "output_type": "stream",
     "text": [
      "100%|██████████| 1/1 [00:00<00:00,  1.22it/s]\n"
     ]
    },
    {
     "name": "stdout",
     "output_type": "stream",
     "text": [
      "HD\n"
     ]
    },
    {
     "name": "stderr",
     "output_type": "stream",
     "text": [
      "100%|██████████| 1/1 [00:00<00:00,  1.34it/s]\n"
     ]
    },
    {
     "name": "stdout",
     "output_type": "stream",
     "text": [
      "HON\n"
     ]
    },
    {
     "name": "stderr",
     "output_type": "stream",
     "text": [
      "100%|██████████| 1/1 [00:00<00:00,  1.39it/s]\n"
     ]
    },
    {
     "name": "stdout",
     "output_type": "stream",
     "text": [
      "IBM\n"
     ]
    },
    {
     "name": "stderr",
     "output_type": "stream",
     "text": [
      "100%|██████████| 1/1 [00:00<00:00,  1.31it/s]\n"
     ]
    },
    {
     "name": "stdout",
     "output_type": "stream",
     "text": [
      "INTC\n"
     ]
    },
    {
     "name": "stderr",
     "output_type": "stream",
     "text": [
      "100%|██████████| 1/1 [00:00<00:00,  1.41it/s]\n"
     ]
    },
    {
     "name": "stdout",
     "output_type": "stream",
     "text": [
      "JNJ\n"
     ]
    },
    {
     "name": "stderr",
     "output_type": "stream",
     "text": [
      "100%|██████████| 1/1 [00:00<00:00,  1.38it/s]\n"
     ]
    },
    {
     "name": "stdout",
     "output_type": "stream",
     "text": [
      "JPM\n"
     ]
    },
    {
     "name": "stderr",
     "output_type": "stream",
     "text": [
      "100%|██████████| 1/1 [00:00<00:00,  1.41it/s]\n"
     ]
    },
    {
     "name": "stdout",
     "output_type": "stream",
     "text": [
      "KO\n"
     ]
    },
    {
     "name": "stderr",
     "output_type": "stream",
     "text": [
      "100%|██████████| 1/1 [00:00<00:00,  1.41it/s]\n"
     ]
    },
    {
     "name": "stdout",
     "output_type": "stream",
     "text": [
      "MCD\n"
     ]
    },
    {
     "name": "stderr",
     "output_type": "stream",
     "text": [
      "100%|██████████| 1/1 [00:00<00:00,  1.40it/s]\n"
     ]
    },
    {
     "name": "stdout",
     "output_type": "stream",
     "text": [
      "MMM\n"
     ]
    },
    {
     "name": "stderr",
     "output_type": "stream",
     "text": [
      "100%|██████████| 1/1 [00:00<00:00,  1.30it/s]\n"
     ]
    },
    {
     "name": "stdout",
     "output_type": "stream",
     "text": [
      "MRK\n"
     ]
    },
    {
     "name": "stderr",
     "output_type": "stream",
     "text": [
      "100%|██████████| 1/1 [00:00<00:00,  1.27it/s]\n"
     ]
    },
    {
     "name": "stdout",
     "output_type": "stream",
     "text": [
      "MSFT\n"
     ]
    },
    {
     "name": "stderr",
     "output_type": "stream",
     "text": [
      "100%|██████████| 1/1 [00:00<00:00,  1.14it/s]\n"
     ]
    },
    {
     "name": "stdout",
     "output_type": "stream",
     "text": [
      "NKE\n"
     ]
    },
    {
     "name": "stderr",
     "output_type": "stream",
     "text": [
      "100%|██████████| 1/1 [00:00<00:00,  1.29it/s]\n"
     ]
    },
    {
     "name": "stdout",
     "output_type": "stream",
     "text": [
      "PG\n"
     ]
    },
    {
     "name": "stderr",
     "output_type": "stream",
     "text": [
      "100%|██████████| 1/1 [00:00<00:00,  1.38it/s]\n"
     ]
    },
    {
     "name": "stdout",
     "output_type": "stream",
     "text": [
      "TRV\n"
     ]
    },
    {
     "name": "stderr",
     "output_type": "stream",
     "text": [
      "100%|██████████| 1/1 [00:00<00:00,  1.33it/s]\n"
     ]
    },
    {
     "name": "stdout",
     "output_type": "stream",
     "text": [
      "UNH\n"
     ]
    },
    {
     "name": "stderr",
     "output_type": "stream",
     "text": [
      "100%|██████████| 1/1 [00:00<00:00,  1.44it/s]\n"
     ]
    },
    {
     "name": "stdout",
     "output_type": "stream",
     "text": [
      "V\n"
     ]
    },
    {
     "name": "stderr",
     "output_type": "stream",
     "text": [
      "100%|██████████| 1/1 [00:00<00:00,  1.45it/s]\n"
     ]
    },
    {
     "name": "stdout",
     "output_type": "stream",
     "text": [
      "VZ\n"
     ]
    },
    {
     "name": "stderr",
     "output_type": "stream",
     "text": [
      "100%|██████████| 1/1 [00:00<00:00,  1.42it/s]\n"
     ]
    },
    {
     "name": "stdout",
     "output_type": "stream",
     "text": [
      "WBA\n"
     ]
    },
    {
     "name": "stderr",
     "output_type": "stream",
     "text": [
      "100%|██████████| 1/1 [00:00<00:00,  1.35it/s]\n"
     ]
    },
    {
     "name": "stdout",
     "output_type": "stream",
     "text": [
      "WMT\n"
     ]
    },
    {
     "name": "stderr",
     "output_type": "stream",
     "text": [
      "100%|██████████| 1/1 [00:00<00:00,  1.18it/s]\n"
     ]
    }
   ],
   "source": [
    "initial_investment = 1000\n",
    "\n",
    "\n",
    "kwargs = {\n",
    "    \"load_from_file\": True, \n",
    "    \"transaction_cost\": 0.0000,\n",
    "    \"initial_investment\": initial_investment,\n",
    "    \"state_mode\": 1,\n",
    "    \"GAMMA\": 0.7, \n",
    "    \"n_step\": 5, \n",
    "    \"BATCH_SIZE\": 10, \n",
    "    \"ReplayMemorySize\": 20,\n",
    "    \"TARGET_UPDATE\": 5,\n",
    "    \"window_size\": None, \n",
    "    \"lamb\": 0.0,\n",
    "}\n",
    "\n",
    "_file = \"AAPL\"\n",
    "\n",
    "_begin_date = '20{}-01-01'\n",
    "_end_date = '20{}-01-01'\n",
    "_split_point = '20{}-01-01' \n",
    "\n",
    "arms = [\n",
    "    { \"name\": \"profit\", \"lamb\": 0},\n",
    "]\n",
    "\n",
    "dates = [\n",
    "    (\"2019-06-23\", \"2020-06-22\", \"2016-01-01\", \"2019-01-01\"),\n",
    "    (\"2020-06-22\", \"2021-06-22\", \"2017-01-01\", \"2020-01-01\"),\n",
    "    (\"2021-06-23\", \"2022-06-23\", \"2018-01-01\", \"2021-01-01\"),\n",
    "]\n",
    "\n",
    "random_seeds = 1\n",
    "results = []\n",
    "portfolios_saved = {}\n",
    "files = sorted(os.listdir(\"./Data/\"))\n",
    "for _file in files[:]:\n",
    "    print(_file)\n",
    "    portfolios_saved[_file] = {}\n",
    "\n",
    "    for idx, arm in enumerate(arms[:]):\n",
    "        results2 = []\n",
    "        portfolios_saved[_file][f\"{arm['name']}-{arm['lamb']}\"] = []\n",
    "        \n",
    "        for seed in tqdm(range(random_seeds)):\n",
    "            \n",
    "            ls = []\n",
    "            bhs = []\n",
    "        \n",
    "            train_portfolios = {}\n",
    "            test_portfolios = {}\n",
    "            tmp_result = []\n",
    "            \n",
    "            for date in dates:\n",
    "                model_start_date = date[2]\n",
    "                model_end_date = date[3]\n",
    "                split_point = date[0]\n",
    "                end_date = date[1]\n",
    "\n",
    "                kwargs.update({\n",
    "                    \"begin_date\": \"2016-01-01\", \n",
    "                    \"end_date\": end_date, \n",
    "                    \"split_point\": split_point,\n",
    "                    \"model_start_date\": model_start_date,\n",
    "                    \"model_end_date\": model_end_date,\n",
    "                    \"DATASET_NAME\": _file,\n",
    "                    \"reward_type\": \"\",\n",
    "                    \"seed\": seed,\n",
    "                    \"n_episodes\": 140,\n",
    "                    \"arms\": [arm],\n",
    "                    \"show_all\": True,\n",
    "                    \"ratio_threshold\": 3,\n",
    "                    \"train_portfolios\": train_portfolios,\n",
    "                    \"test_portfolios\": test_portfolios,\n",
    "                })\n",
    "\n",
    "                data_loader, model = train(**kwargs)\n",
    "                ls.extend(model[\"portfo\"])\n",
    "                bh = data_loader.data_test_with_date[\"close\"]\n",
    "                bhs.append(bh)\n",
    "                tmp_result.extend(model[\"portfo\"])\n",
    "\n",
    "            add_test_portfo(test_portfolios, seed, ls)\n",
    "            if seed == 0: \n",
    "                bhs = pd.concat(bhs, axis=0)\n",
    "                bh_percentage = bhs.pct_change(1).fillna(0).values\n",
    "                add_test_portfo(test_portfolios, 'B&H', bh_percentage)\n",
    "            indexes = calc_return(bh_percentage, test_portfolios)\n",
    "            results2.append(indexes)\n",
    "            portfolios_saved[_file][f\"{arm['name']}-{arm['lamb']}\"].append(tmp_result)\n",
    "\n",
    "        # path = f\"./Results/{_file}/exp3_concat\"\n",
    "        # if not os.path.exists(path):\n",
    "        #     os.mkdir(path)\n",
    "        \n",
    "        # save_path = f\"{path}/MACD.csv\"\n",
    "\n",
    "        # portfolios_saved[_file][f\"{arm['name']}-{arm['lamb']}\"].insert(0, bh_percentage.tolist())\n",
    "        # _df_ = pd.DataFrame(portfolios_saved[_file][f\"{arm['name']}-{arm['lamb']}\"]).T.fillna(0)\n",
    "        # _df_.to_csv(save_path, index=False)\n",
    "\n",
    "        results2_df = pd.concat(results2, axis=1)\n",
    "        results2_bh = results2_df[\"B&H\"]\n",
    "        del results2_df[\"B&H\"]\n",
    "        final = pd.concat([\n",
    "            results2_bh,\n",
    "            results2_df.median(axis=1)\n",
    "        ], axis=1)\n",
    "        final.columns = [f\"{_file}-B&H\", f\"{_file}-{arm['name']}-{arm['lamb']}\"]\n",
    "        if idx > 0:\n",
    "            del final[f\"{_file}-B&H\"]\n",
    "        results.append(final)\n"
   ]
  },
  {
   "cell_type": "code",
   "execution_count": 9,
   "metadata": {},
   "outputs": [],
   "source": [
    "def output_bh(symbol):\n",
    "    raw_df = pd.read_csv(f\"./Data/{symbol}/{symbol}.csv\")\n",
    "    raw_df = raw_df[[\"Date\", \"Close\"]]\n",
    "    raw_df[\"pct\"] = raw_df[\"Close\"].pct_change(1)\n",
    "    raw_df = raw_df.query(\"Date >= '2016-01-01'\")\n",
    "    raw_df = raw_df.set_index(\"Date\")\n",
    "    del raw_df[\"Close\"]\n",
    "    raw_df = raw_df.reset_index()\n",
    "    dates = [\n",
    "        (\"2019-06-23\", \"2020-06-22\", \"2016-01-01\", \"2019-01-01\"),\n",
    "        (\"2020-06-22\", \"2021-06-22\", \"2017-01-01\", \"2020-01-01\"),\n",
    "        (\"2021-06-23\", \"2022-06-23\", \"2018-01-01\", \"2021-01-01\"),\n",
    "    ]\n",
    "    ls = []\n",
    "    for date in dates:\n",
    "        date1, date2, _, _ = date\n",
    "        ls.append(raw_df.query(f\"Date >= '{date1}' & Date <= '{date2}'\"))\n",
    "    bh = pd.concat(ls)\n",
    "    bh.reset_index(inplace=True)\n",
    "    del bh[\"index\"]\n",
    "    return bh\n",
    "\n",
    "symbol = \"AAPL\"\n",
    "# output_bh(symbol)"
   ]
  },
  {
   "cell_type": "code",
   "execution_count": null,
   "metadata": {},
   "outputs": [],
   "source": []
  },
  {
   "cell_type": "code",
   "execution_count": 11,
   "metadata": {},
   "outputs": [
    {
     "data": {
      "text/html": [
       "<div>\n",
       "<style scoped>\n",
       "    .dataframe tbody tr th:only-of-type {\n",
       "        vertical-align: middle;\n",
       "    }\n",
       "\n",
       "    .dataframe tbody tr th {\n",
       "        vertical-align: top;\n",
       "    }\n",
       "\n",
       "    .dataframe thead th {\n",
       "        text-align: right;\n",
       "    }\n",
       "</style>\n",
       "<table border=\"1\" class=\"dataframe\">\n",
       "  <thead>\n",
       "    <tr style=\"text-align: right;\">\n",
       "      <th></th>\n",
       "      <th>AAPL-B&amp;H</th>\n",
       "      <th>AAPL-MACD</th>\n",
       "      <th>AMGN-B&amp;H</th>\n",
       "      <th>AMGN-MACD</th>\n",
       "      <th>AXP-B&amp;H</th>\n",
       "      <th>AXP-MACD</th>\n",
       "      <th>BA-B&amp;H</th>\n",
       "      <th>BA-MACD</th>\n",
       "      <th>CAT-B&amp;H</th>\n",
       "      <th>CAT-MACD</th>\n",
       "      <th>...</th>\n",
       "      <th>UNH-B&amp;H</th>\n",
       "      <th>UNH-MACD</th>\n",
       "      <th>V-B&amp;H</th>\n",
       "      <th>V-MACD</th>\n",
       "      <th>VZ-B&amp;H</th>\n",
       "      <th>VZ-MACD</th>\n",
       "      <th>WBA-B&amp;H</th>\n",
       "      <th>WBA-MACD</th>\n",
       "      <th>WMT-B&amp;H</th>\n",
       "      <th>WMT-MACD</th>\n",
       "    </tr>\n",
       "    <tr>\n",
       "      <th>date</th>\n",
       "      <th></th>\n",
       "      <th></th>\n",
       "      <th></th>\n",
       "      <th></th>\n",
       "      <th></th>\n",
       "      <th></th>\n",
       "      <th></th>\n",
       "      <th></th>\n",
       "      <th></th>\n",
       "      <th></th>\n",
       "      <th></th>\n",
       "      <th></th>\n",
       "      <th></th>\n",
       "      <th></th>\n",
       "      <th></th>\n",
       "      <th></th>\n",
       "      <th></th>\n",
       "      <th></th>\n",
       "      <th></th>\n",
       "      <th></th>\n",
       "      <th></th>\n",
       "    </tr>\n",
       "  </thead>\n",
       "  <tbody>\n",
       "    <tr>\n",
       "      <th>2019-06-24</th>\n",
       "      <td>-0.001006</td>\n",
       "      <td>0.000000e+00</td>\n",
       "      <td>-0.012185</td>\n",
       "      <td>0.0</td>\n",
       "      <td>-0.004730</td>\n",
       "      <td>0.000000e+00</td>\n",
       "      <td>0.005782</td>\n",
       "      <td>0.000000</td>\n",
       "      <td>0.003585</td>\n",
       "      <td>0.000000e+00</td>\n",
       "      <td>...</td>\n",
       "      <td>-0.010465</td>\n",
       "      <td>0.000000e+00</td>\n",
       "      <td>0.002364</td>\n",
       "      <td>0.0</td>\n",
       "      <td>0.008655</td>\n",
       "      <td>0.000000e+00</td>\n",
       "      <td>-0.009533</td>\n",
       "      <td>0.000000e+00</td>\n",
       "      <td>0.000990</td>\n",
       "      <td>0.000000</td>\n",
       "    </tr>\n",
       "    <tr>\n",
       "      <th>2019-06-25</th>\n",
       "      <td>-0.015158</td>\n",
       "      <td>0.000000e+00</td>\n",
       "      <td>-0.002110</td>\n",
       "      <td>0.0</td>\n",
       "      <td>-0.007894</td>\n",
       "      <td>0.000000e+00</td>\n",
       "      <td>-0.012487</td>\n",
       "      <td>0.000000</td>\n",
       "      <td>-0.004912</td>\n",
       "      <td>0.000000e+00</td>\n",
       "      <td>...</td>\n",
       "      <td>-0.007931</td>\n",
       "      <td>0.000000e+00</td>\n",
       "      <td>-0.014783</td>\n",
       "      <td>0.0</td>\n",
       "      <td>-0.004634</td>\n",
       "      <td>0.000000e+00</td>\n",
       "      <td>0.019249</td>\n",
       "      <td>0.000000e+00</td>\n",
       "      <td>-0.004675</td>\n",
       "      <td>0.000000</td>\n",
       "    </tr>\n",
       "    <tr>\n",
       "      <th>2019-06-26</th>\n",
       "      <td>0.021629</td>\n",
       "      <td>0.000000e+00</td>\n",
       "      <td>-0.006886</td>\n",
       "      <td>0.0</td>\n",
       "      <td>0.003491</td>\n",
       "      <td>0.000000e+00</td>\n",
       "      <td>0.015217</td>\n",
       "      <td>0.000000</td>\n",
       "      <td>0.010769</td>\n",
       "      <td>0.000000e+00</td>\n",
       "      <td>...</td>\n",
       "      <td>-0.016918</td>\n",
       "      <td>0.000000e+00</td>\n",
       "      <td>-0.001284</td>\n",
       "      <td>0.0</td>\n",
       "      <td>-0.017414</td>\n",
       "      <td>0.000000e+00</td>\n",
       "      <td>-0.010765</td>\n",
       "      <td>0.000000e+00</td>\n",
       "      <td>-0.005058</td>\n",
       "      <td>0.000000</td>\n",
       "    </tr>\n",
       "    <tr>\n",
       "      <th>2019-06-27</th>\n",
       "      <td>-0.000300</td>\n",
       "      <td>0.000000e+00</td>\n",
       "      <td>0.004640</td>\n",
       "      <td>0.0</td>\n",
       "      <td>0.002832</td>\n",
       "      <td>0.000000e+00</td>\n",
       "      <td>-0.029125</td>\n",
       "      <td>0.000000</td>\n",
       "      <td>0.002590</td>\n",
       "      <td>0.000000e+00</td>\n",
       "      <td>...</td>\n",
       "      <td>0.011788</td>\n",
       "      <td>0.000000e+00</td>\n",
       "      <td>0.000994</td>\n",
       "      <td>0.0</td>\n",
       "      <td>0.004562</td>\n",
       "      <td>0.000000e+00</td>\n",
       "      <td>0.040855</td>\n",
       "      <td>0.000000e+00</td>\n",
       "      <td>-0.000545</td>\n",
       "      <td>0.000000</td>\n",
       "    </tr>\n",
       "    <tr>\n",
       "      <th>2019-06-28</th>\n",
       "      <td>-0.009112</td>\n",
       "      <td>0.000000e+00</td>\n",
       "      <td>0.001413</td>\n",
       "      <td>0.0</td>\n",
       "      <td>-0.004034</td>\n",
       "      <td>0.000000e+00</td>\n",
       "      <td>-0.000027</td>\n",
       "      <td>0.000000</td>\n",
       "      <td>0.005830</td>\n",
       "      <td>0.000000e+00</td>\n",
       "      <td>...</td>\n",
       "      <td>-0.009458</td>\n",
       "      <td>0.000000e+00</td>\n",
       "      <td>0.013549</td>\n",
       "      <td>0.0</td>\n",
       "      <td>-0.002096</td>\n",
       "      <td>0.000000e+00</td>\n",
       "      <td>0.002751</td>\n",
       "      <td>0.000000e+00</td>\n",
       "      <td>0.003542</td>\n",
       "      <td>0.000000</td>\n",
       "    </tr>\n",
       "    <tr>\n",
       "      <th>...</th>\n",
       "      <td>...</td>\n",
       "      <td>...</td>\n",
       "      <td>...</td>\n",
       "      <td>...</td>\n",
       "      <td>...</td>\n",
       "      <td>...</td>\n",
       "      <td>...</td>\n",
       "      <td>...</td>\n",
       "      <td>...</td>\n",
       "      <td>...</td>\n",
       "      <td>...</td>\n",
       "      <td>...</td>\n",
       "      <td>...</td>\n",
       "      <td>...</td>\n",
       "      <td>...</td>\n",
       "      <td>...</td>\n",
       "      <td>...</td>\n",
       "      <td>...</td>\n",
       "      <td>...</td>\n",
       "      <td>...</td>\n",
       "      <td>...</td>\n",
       "    </tr>\n",
       "    <tr>\n",
       "      <th>2022-06-16</th>\n",
       "      <td>-0.039651</td>\n",
       "      <td>6.672657e-03</td>\n",
       "      <td>-0.020672</td>\n",
       "      <td>0.0</td>\n",
       "      <td>-0.059636</td>\n",
       "      <td>-1.155230e-02</td>\n",
       "      <td>-0.002692</td>\n",
       "      <td>0.054376</td>\n",
       "      <td>-0.054417</td>\n",
       "      <td>-9.184272e-04</td>\n",
       "      <td>...</td>\n",
       "      <td>-0.014243</td>\n",
       "      <td>-1.692570e-02</td>\n",
       "      <td>-0.036246</td>\n",
       "      <td>0.0</td>\n",
       "      <td>-0.006307</td>\n",
       "      <td>-8.671076e-03</td>\n",
       "      <td>-0.026025</td>\n",
       "      <td>2.220446e-16</td>\n",
       "      <td>0.010387</td>\n",
       "      <td>0.000419</td>\n",
       "    </tr>\n",
       "    <tr>\n",
       "      <th>2022-06-17</th>\n",
       "      <td>0.011533</td>\n",
       "      <td>-1.110223e-16</td>\n",
       "      <td>0.017381</td>\n",
       "      <td>0.0</td>\n",
       "      <td>0.048582</td>\n",
       "      <td>2.220446e-16</td>\n",
       "      <td>0.025795</td>\n",
       "      <td>0.094630</td>\n",
       "      <td>-0.011038</td>\n",
       "      <td>2.220446e-16</td>\n",
       "      <td>...</td>\n",
       "      <td>-0.008836</td>\n",
       "      <td>-2.220446e-16</td>\n",
       "      <td>0.005078</td>\n",
       "      <td>0.0</td>\n",
       "      <td>0.003890</td>\n",
       "      <td>-1.110223e-16</td>\n",
       "      <td>-0.008823</td>\n",
       "      <td>0.000000e+00</td>\n",
       "      <td>-0.019317</td>\n",
       "      <td>-0.000670</td>\n",
       "    </tr>\n",
       "    <tr>\n",
       "      <th>2022-06-21</th>\n",
       "      <td>0.032761</td>\n",
       "      <td>0.000000e+00</td>\n",
       "      <td>0.015721</td>\n",
       "      <td>0.0</td>\n",
       "      <td>0.004023</td>\n",
       "      <td>0.000000e+00</td>\n",
       "      <td>-0.000366</td>\n",
       "      <td>-0.002692</td>\n",
       "      <td>0.019363</td>\n",
       "      <td>0.000000e+00</td>\n",
       "      <td>...</td>\n",
       "      <td>0.062514</td>\n",
       "      <td>0.000000e+00</td>\n",
       "      <td>0.023051</td>\n",
       "      <td>0.0</td>\n",
       "      <td>0.033041</td>\n",
       "      <td>0.000000e+00</td>\n",
       "      <td>0.019837</td>\n",
       "      <td>0.000000e+00</td>\n",
       "      <td>0.032801</td>\n",
       "      <td>0.010387</td>\n",
       "    </tr>\n",
       "    <tr>\n",
       "      <th>2022-06-22</th>\n",
       "      <td>-0.003827</td>\n",
       "      <td>0.000000e+00</td>\n",
       "      <td>0.007256</td>\n",
       "      <td>0.0</td>\n",
       "      <td>-0.002556</td>\n",
       "      <td>0.000000e+00</td>\n",
       "      <td>0.002998</td>\n",
       "      <td>0.025795</td>\n",
       "      <td>-0.043489</td>\n",
       "      <td>0.000000e+00</td>\n",
       "      <td>...</td>\n",
       "      <td>0.019487</td>\n",
       "      <td>0.000000e+00</td>\n",
       "      <td>-0.002932</td>\n",
       "      <td>0.0</td>\n",
       "      <td>0.002764</td>\n",
       "      <td>0.000000e+00</td>\n",
       "      <td>0.008728</td>\n",
       "      <td>0.000000e+00</td>\n",
       "      <td>-0.012114</td>\n",
       "      <td>-0.019317</td>\n",
       "    </tr>\n",
       "    <tr>\n",
       "      <th>2022-06-23</th>\n",
       "      <td>0.021574</td>\n",
       "      <td>0.000000e+00</td>\n",
       "      <td>0.012284</td>\n",
       "      <td>0.0</td>\n",
       "      <td>-0.018976</td>\n",
       "      <td>0.000000e+00</td>\n",
       "      <td>-0.023258</td>\n",
       "      <td>-0.000366</td>\n",
       "      <td>-0.048768</td>\n",
       "      <td>0.000000e+00</td>\n",
       "      <td>...</td>\n",
       "      <td>0.020687</td>\n",
       "      <td>0.000000e+00</td>\n",
       "      <td>0.014550</td>\n",
       "      <td>0.0</td>\n",
       "      <td>0.025596</td>\n",
       "      <td>0.000000e+00</td>\n",
       "      <td>0.010878</td>\n",
       "      <td>0.000000e+00</td>\n",
       "      <td>0.024277</td>\n",
       "      <td>0.032801</td>\n",
       "    </tr>\n",
       "  </tbody>\n",
       "</table>\n",
       "<p>758 rows × 58 columns</p>\n",
       "</div>"
      ],
      "text/plain": [
       "            AAPL-B&H     AAPL-MACD  AMGN-B&H  AMGN-MACD   AXP-B&H  \\\n",
       "date                                                                \n",
       "2019-06-24 -0.001006  0.000000e+00 -0.012185        0.0 -0.004730   \n",
       "2019-06-25 -0.015158  0.000000e+00 -0.002110        0.0 -0.007894   \n",
       "2019-06-26  0.021629  0.000000e+00 -0.006886        0.0  0.003491   \n",
       "2019-06-27 -0.000300  0.000000e+00  0.004640        0.0  0.002832   \n",
       "2019-06-28 -0.009112  0.000000e+00  0.001413        0.0 -0.004034   \n",
       "...              ...           ...       ...        ...       ...   \n",
       "2022-06-16 -0.039651  6.672657e-03 -0.020672        0.0 -0.059636   \n",
       "2022-06-17  0.011533 -1.110223e-16  0.017381        0.0  0.048582   \n",
       "2022-06-21  0.032761  0.000000e+00  0.015721        0.0  0.004023   \n",
       "2022-06-22 -0.003827  0.000000e+00  0.007256        0.0 -0.002556   \n",
       "2022-06-23  0.021574  0.000000e+00  0.012284        0.0 -0.018976   \n",
       "\n",
       "                AXP-MACD    BA-B&H   BA-MACD   CAT-B&H      CAT-MACD  ...  \\\n",
       "date                                                                  ...   \n",
       "2019-06-24  0.000000e+00  0.005782  0.000000  0.003585  0.000000e+00  ...   \n",
       "2019-06-25  0.000000e+00 -0.012487  0.000000 -0.004912  0.000000e+00  ...   \n",
       "2019-06-26  0.000000e+00  0.015217  0.000000  0.010769  0.000000e+00  ...   \n",
       "2019-06-27  0.000000e+00 -0.029125  0.000000  0.002590  0.000000e+00  ...   \n",
       "2019-06-28  0.000000e+00 -0.000027  0.000000  0.005830  0.000000e+00  ...   \n",
       "...                  ...       ...       ...       ...           ...  ...   \n",
       "2022-06-16 -1.155230e-02 -0.002692  0.054376 -0.054417 -9.184272e-04  ...   \n",
       "2022-06-17  2.220446e-16  0.025795  0.094630 -0.011038  2.220446e-16  ...   \n",
       "2022-06-21  0.000000e+00 -0.000366 -0.002692  0.019363  0.000000e+00  ...   \n",
       "2022-06-22  0.000000e+00  0.002998  0.025795 -0.043489  0.000000e+00  ...   \n",
       "2022-06-23  0.000000e+00 -0.023258 -0.000366 -0.048768  0.000000e+00  ...   \n",
       "\n",
       "             UNH-B&H      UNH-MACD     V-B&H  V-MACD    VZ-B&H       VZ-MACD  \\\n",
       "date                                                                           \n",
       "2019-06-24 -0.010465  0.000000e+00  0.002364     0.0  0.008655  0.000000e+00   \n",
       "2019-06-25 -0.007931  0.000000e+00 -0.014783     0.0 -0.004634  0.000000e+00   \n",
       "2019-06-26 -0.016918  0.000000e+00 -0.001284     0.0 -0.017414  0.000000e+00   \n",
       "2019-06-27  0.011788  0.000000e+00  0.000994     0.0  0.004562  0.000000e+00   \n",
       "2019-06-28 -0.009458  0.000000e+00  0.013549     0.0 -0.002096  0.000000e+00   \n",
       "...              ...           ...       ...     ...       ...           ...   \n",
       "2022-06-16 -0.014243 -1.692570e-02 -0.036246     0.0 -0.006307 -8.671076e-03   \n",
       "2022-06-17 -0.008836 -2.220446e-16  0.005078     0.0  0.003890 -1.110223e-16   \n",
       "2022-06-21  0.062514  0.000000e+00  0.023051     0.0  0.033041  0.000000e+00   \n",
       "2022-06-22  0.019487  0.000000e+00 -0.002932     0.0  0.002764  0.000000e+00   \n",
       "2022-06-23  0.020687  0.000000e+00  0.014550     0.0  0.025596  0.000000e+00   \n",
       "\n",
       "             WBA-B&H      WBA-MACD   WMT-B&H  WMT-MACD  \n",
       "date                                                    \n",
       "2019-06-24 -0.009533  0.000000e+00  0.000990  0.000000  \n",
       "2019-06-25  0.019249  0.000000e+00 -0.004675  0.000000  \n",
       "2019-06-26 -0.010765  0.000000e+00 -0.005058  0.000000  \n",
       "2019-06-27  0.040855  0.000000e+00 -0.000545  0.000000  \n",
       "2019-06-28  0.002751  0.000000e+00  0.003542  0.000000  \n",
       "...              ...           ...       ...       ...  \n",
       "2022-06-16 -0.026025  2.220446e-16  0.010387  0.000419  \n",
       "2022-06-17 -0.008823  0.000000e+00 -0.019317 -0.000670  \n",
       "2022-06-21  0.019837  0.000000e+00  0.032801  0.010387  \n",
       "2022-06-22  0.008728  0.000000e+00 -0.012114 -0.019317  \n",
       "2022-06-23  0.010878  0.000000e+00  0.024277  0.032801  \n",
       "\n",
       "[758 rows x 58 columns]"
      ]
     },
     "execution_count": 11,
     "metadata": {},
     "output_type": "execute_result"
    }
   ],
   "source": [
    "symbols = list(portfolios_saved.keys())[:]\n",
    "# plt.style.use(\"ggplot\")\n",
    "# plt.rcParams[\"text.color\"] = \"black\"\n",
    "\n",
    "ls = []\n",
    "for symbol in symbols:\n",
    "    bh = output_bh(symbol)\n",
    "    res = pd.concat([\n",
    "        bh,\n",
    "        pd.DataFrame(portfolios_saved[symbol][\"profit-0\"]).T\n",
    "    ], axis=1).dropna()\n",
    "    res.columns = [\"Date\", f\"{symbol}-B&H\", f\"{symbol}-MACD\"]\n",
    "    # NOTE cumreturn\n",
    "    # res[f\"{symbol}-B&H\"] = (1 + res[f\"{symbol}-B&H\"]).cumprod() - 1\n",
    "    # res[f\"{symbol}-MACD\"] = (1 + res[f\"{symbol}-MACD\"]).cumprod() - 1 \n",
    "    date_ls = res[\"Date\"].tolist()\n",
    "    del res[\"Date\"]\n",
    "    ls.append(res)\n",
    "\n",
    "\n",
    "results_cumreturn = pd.concat(ls, axis=1)   \n",
    "results_cumreturn[\"date\"] = date_ls \n",
    "results_cumreturn = results_cumreturn.set_index(\"date\")\n",
    "results_cumreturn.to_csv(\"./ts-run-results/[exp3]MACD-returns.csv\",)\n",
    "# results_cumreturn.to_csv(\"./ts-run-results/[exp3]MACD-cumreturns.csv\")\n",
    "results_cumreturn"
   ]
  },
  {
   "cell_type": "code",
   "execution_count": null,
   "metadata": {},
   "outputs": [],
   "source": []
  },
  {
   "cell_type": "code",
   "execution_count": 7,
   "metadata": {},
   "outputs": [
    {
     "data": {
      "text/html": [
       "<div>\n",
       "<style scoped>\n",
       "    .dataframe tbody tr th:only-of-type {\n",
       "        vertical-align: middle;\n",
       "    }\n",
       "\n",
       "    .dataframe tbody tr th {\n",
       "        vertical-align: top;\n",
       "    }\n",
       "\n",
       "    .dataframe thead th {\n",
       "        text-align: right;\n",
       "    }\n",
       "</style>\n",
       "<table border=\"1\" class=\"dataframe\">\n",
       "  <thead>\n",
       "    <tr style=\"text-align: right;\">\n",
       "      <th></th>\n",
       "      <th>AAPL-B&amp;H</th>\n",
       "      <th>AAPL-MACD</th>\n",
       "    </tr>\n",
       "  </thead>\n",
       "  <tbody>\n",
       "    <tr>\n",
       "      <th>sortino_test</th>\n",
       "      <td>1.617304</td>\n",
       "      <td>1.548419</td>\n",
       "    </tr>\n",
       "    <tr>\n",
       "      <th>sharpe_test</th>\n",
       "      <td>1.170390</td>\n",
       "      <td>1.096004</td>\n",
       "    </tr>\n",
       "    <tr>\n",
       "      <th>risk_test</th>\n",
       "      <td>0.350629</td>\n",
       "      <td>0.198717</td>\n",
       "    </tr>\n",
       "    <tr>\n",
       "      <th>mdd_test</th>\n",
       "      <td>0.314273</td>\n",
       "      <td>0.199747</td>\n",
       "    </tr>\n",
       "    <tr>\n",
       "      <th>downrisk_test</th>\n",
       "      <td>0.253739</td>\n",
       "      <td>0.140656</td>\n",
       "    </tr>\n",
       "    <tr>\n",
       "      <th>cumreturn_test</th>\n",
       "      <td>1.853616</td>\n",
       "      <td>0.818306</td>\n",
       "    </tr>\n",
       "  </tbody>\n",
       "</table>\n",
       "</div>"
      ],
      "text/plain": [
       "                AAPL-B&H  AAPL-MACD\n",
       "sortino_test    1.617304   1.548419\n",
       "sharpe_test     1.170390   1.096004\n",
       "risk_test       0.350629   0.198717\n",
       "mdd_test        0.314273   0.199747\n",
       "downrisk_test   0.253739   0.140656\n",
       "cumreturn_test  1.853616   0.818306"
      ]
     },
     "execution_count": 7,
     "metadata": {},
     "output_type": "execute_result"
    }
   ],
   "source": [
    "results_df = pd.concat(results, axis=1)\n",
    "cols = results_df.columns\n",
    "ls = []\n",
    "for col in cols:\n",
    "    if \"B&H\" in col:\n",
    "        ls.append(col)\n",
    "    else:\n",
    "        symbol = col.split(\"-\")[0]\n",
    "        ls.append(f\"{symbol}-MACD\")\n",
    "\n",
    "results_df.columns = ls\n",
    "results_df.to_csv(f\"./ts-run-results/[exp3]MACD_reward.csv\")\n",
    "\n",
    "def find(symbol):\n",
    "    ls = []\n",
    "    for col in results_df.columns:\n",
    "        if symbol in col:\n",
    "            ls.append(col)\n",
    "\n",
    "    return results_df[ls]\n",
    "\n",
    "files = os.listdir(\"./Results/\")\n",
    "df = find(files[0])\n",
    "df\n"
   ]
  },
  {
   "cell_type": "code",
   "execution_count": null,
   "metadata": {},
   "outputs": [],
   "source": []
  },
  {
   "cell_type": "code",
   "execution_count": null,
   "metadata": {},
   "outputs": [],
   "source": []
  },
  {
   "cell_type": "code",
   "execution_count": null,
   "metadata": {},
   "outputs": [],
   "source": []
  }
 ],
 "metadata": {
  "kernelspec": {
   "display_name": "Python 3.9.13 ('base')",
   "language": "python",
   "name": "python3"
  },
  "language_info": {
   "codemirror_mode": {
    "name": "ipython",
    "version": 3
   },
   "file_extension": ".py",
   "mimetype": "text/x-python",
   "name": "python",
   "nbconvert_exporter": "python",
   "pygments_lexer": "ipython3",
   "version": "3.9.13"
  },
  "orig_nbformat": 4,
  "vscode": {
   "interpreter": {
    "hash": "13d8d4cd6f551a18c363f4a9a34e8382caadd65d1d29b8174a12246b9ecfe3e0"
   }
  }
 },
 "nbformat": 4,
 "nbformat_minor": 2
}
