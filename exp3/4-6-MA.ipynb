{
 "cells": [
  {
   "cell_type": "code",
   "execution_count": 1,
   "metadata": {},
   "outputs": [],
   "source": [
    "import warnings\n",
    "warnings.filterwarnings(\"ignore\")\n",
    "\n",
    "import re\n",
    "import os\n",
    "import random\n",
    "import numpy as np\n",
    "import pandas as pd\n",
    "import matplotlib.pyplot as plt\n",
    "from tqdm import tqdm\n",
    "import torch\n",
    "\n",
    "from DataLoader.DataLoader import DataLoader\n",
    "from DataLoader.DataBasedAgent import DataBasedAgent\n",
    "from DataLoader.DataRLAgent import DataRLAgent\n",
    "import DeepRLAgent.VanillaInput.Train as Train\n",
    "from PatternDetectionInCandleStick.Evaluation import Evaluation\n",
    "import distinctipy\n",
    "import talib\n",
    "\n",
    "from importlib import reload\n",
    "\n",
    "Train = reload(Train)\n",
    "DeepRL = Train.Train\n",
    "from utils_best_arm import add_train_portfo, add_test_portfo, plot_return, calc_return, plot_action_point, setup_logger\n",
    "pd.options.display.max_colwidth = 100\n",
    "\n",
    "device = \"cpu\"\n",
    "# device = torch.device(\"cuda\" if torch.cuda.is_available() else \"cpu\")\n",
    "CURRENT_PATH = os.getcwd()"
   ]
  },
  {
   "cell_type": "code",
   "execution_count": 2,
   "metadata": {},
   "outputs": [],
   "source": [
    "def train(\n",
    "    DATASET_NAME, \n",
    "    split_point='2018-01-01', \n",
    "    begin_date='2010-01-01', \n",
    "    end_date='2020-08-24', \n",
    "    model_start_date=\"\",\n",
    "    model_end_date=\"\",\n",
    "    initial_investment=1000,\n",
    "    transaction_cost=0.0001,\n",
    "    load_from_file=True,\n",
    "    reward_type=\"profit\",\n",
    "    seed=42, \n",
    "    state_mode=1,\n",
    "    n_episodes=5,\n",
    "    lamb=0.0001,\n",
    "    GAMMA=0.7, \n",
    "    n_step=5, \n",
    "    BATCH_SIZE=10, \n",
    "    ReplayMemorySize=20,\n",
    "    TARGET_UPDATE=5,\n",
    "    window_size=None, \n",
    "    train_portfolios={},\n",
    "    test_portfolios={},\n",
    "    arms=[],\n",
    "    show_all = False,\n",
    "    ratio_threshold=0.9,\n",
    "):\n",
    "    data_loader = DataLoader(DATASET_NAME, split_point=split_point, begin_date=begin_date, end_date=end_date, load_from_file=load_from_file)\n",
    "    \n",
    "    dataTrain_agent = DataRLAgent(data_loader.data_train, state_mode, 'action_encoder_decoder', device, GAMMA, n_step, BATCH_SIZE, window_size, transaction_cost)\n",
    "    dataTest_agent = DataRLAgent(data_loader.data_test, state_mode, 'action_encoder_decoder', device, GAMMA, n_step, BATCH_SIZE, window_size, transaction_cost)\n",
    "    \n",
    "    np.random.seed(seed)\n",
    "    random.seed(seed)\n",
    "    torch.manual_seed(seed)\n",
    "\n",
    "    agent = DeepRL(data_loader, dataTrain_agent, dataTest_agent, \n",
    "                DATASET_NAME,  state_mode, window_size, transaction_cost,\n",
    "                BATCH_SIZE=BATCH_SIZE, GAMMA=GAMMA, ReplayMemorySize=ReplayMemorySize,\n",
    "                TARGET_UPDATE=TARGET_UPDATE, n_step=n_step, arms=arms)\n",
    "    \n",
    "    path = f\"./Results/{DATASET_NAME}/{model_start_date}~{model_end_date}/{seed}/train\"\n",
    "    arm = arms[0]\n",
    "    name = f'{arm[\"name\"]}_{arm[\"lamb\"]}'\n",
    "    model_path = f\"{path}/model_{name}_{seed}.pkl\"\n",
    "    agent_test = agent.test_MA(initial_investment=initial_investment, test_type='test', model_path=model_path, symbol=DATASET_NAME)\n",
    "    test_portfolio = agent_test.get_daily_portfolio_value()\n",
    "    test_portfolio = pd.Series(test_portfolio).pct_change(1).fillna(0).values.tolist() \n",
    "    model_name = f'DQN-stock:{DATASET_NAME}-reward:{name}-seed:{seed}'\n",
    "    return data_loader, {\"name\": model_name, \"portfo\": test_portfolio}"
   ]
  },
  {
   "cell_type": "code",
   "execution_count": 4,
   "metadata": {},
   "outputs": [
    {
     "name": "stdout",
     "output_type": "stream",
     "text": [
      "AAPL\n"
     ]
    },
    {
     "name": "stderr",
     "output_type": "stream",
     "text": [
      "100%|██████████| 1/1 [00:00<00:00,  1.71it/s]\n"
     ]
    },
    {
     "name": "stdout",
     "output_type": "stream",
     "text": [
      "AMGN\n"
     ]
    },
    {
     "name": "stderr",
     "output_type": "stream",
     "text": [
      "100%|██████████| 1/1 [00:00<00:00,  1.98it/s]\n"
     ]
    },
    {
     "name": "stdout",
     "output_type": "stream",
     "text": [
      "AXP\n"
     ]
    },
    {
     "name": "stderr",
     "output_type": "stream",
     "text": [
      "100%|██████████| 1/1 [00:00<00:00,  1.98it/s]\n"
     ]
    },
    {
     "name": "stdout",
     "output_type": "stream",
     "text": [
      "BA\n"
     ]
    },
    {
     "name": "stderr",
     "output_type": "stream",
     "text": [
      "100%|██████████| 1/1 [00:00<00:00,  2.04it/s]\n"
     ]
    },
    {
     "name": "stdout",
     "output_type": "stream",
     "text": [
      "CAT\n"
     ]
    },
    {
     "name": "stderr",
     "output_type": "stream",
     "text": [
      "100%|██████████| 1/1 [00:00<00:00,  2.00it/s]\n"
     ]
    },
    {
     "name": "stdout",
     "output_type": "stream",
     "text": [
      "CRM\n"
     ]
    },
    {
     "name": "stderr",
     "output_type": "stream",
     "text": [
      "100%|██████████| 1/1 [00:00<00:00,  1.85it/s]\n"
     ]
    },
    {
     "name": "stdout",
     "output_type": "stream",
     "text": [
      "CSCO\n"
     ]
    },
    {
     "name": "stderr",
     "output_type": "stream",
     "text": [
      "100%|██████████| 1/1 [00:00<00:00,  1.73it/s]\n"
     ]
    },
    {
     "name": "stdout",
     "output_type": "stream",
     "text": [
      "CVX\n"
     ]
    },
    {
     "name": "stderr",
     "output_type": "stream",
     "text": [
      "100%|██████████| 1/1 [00:00<00:00,  1.84it/s]\n"
     ]
    },
    {
     "name": "stdout",
     "output_type": "stream",
     "text": [
      "DIS\n"
     ]
    },
    {
     "name": "stderr",
     "output_type": "stream",
     "text": [
      "100%|██████████| 1/1 [00:00<00:00,  2.02it/s]\n"
     ]
    },
    {
     "name": "stdout",
     "output_type": "stream",
     "text": [
      "GS\n"
     ]
    },
    {
     "name": "stderr",
     "output_type": "stream",
     "text": [
      "100%|██████████| 1/1 [00:00<00:00,  1.87it/s]\n"
     ]
    },
    {
     "name": "stdout",
     "output_type": "stream",
     "text": [
      "HD\n"
     ]
    },
    {
     "name": "stderr",
     "output_type": "stream",
     "text": [
      "100%|██████████| 1/1 [00:00<00:00,  1.88it/s]\n"
     ]
    },
    {
     "name": "stdout",
     "output_type": "stream",
     "text": [
      "HON\n"
     ]
    },
    {
     "name": "stderr",
     "output_type": "stream",
     "text": [
      "100%|██████████| 1/1 [00:00<00:00,  1.86it/s]\n"
     ]
    },
    {
     "name": "stdout",
     "output_type": "stream",
     "text": [
      "IBM\n"
     ]
    },
    {
     "name": "stderr",
     "output_type": "stream",
     "text": [
      "100%|██████████| 1/1 [00:00<00:00,  1.76it/s]\n"
     ]
    },
    {
     "name": "stdout",
     "output_type": "stream",
     "text": [
      "INTC\n"
     ]
    },
    {
     "name": "stderr",
     "output_type": "stream",
     "text": [
      "100%|██████████| 1/1 [00:00<00:00,  1.90it/s]\n"
     ]
    },
    {
     "name": "stdout",
     "output_type": "stream",
     "text": [
      "JNJ\n"
     ]
    },
    {
     "name": "stderr",
     "output_type": "stream",
     "text": [
      "100%|██████████| 1/1 [00:00<00:00,  1.76it/s]\n"
     ]
    },
    {
     "name": "stdout",
     "output_type": "stream",
     "text": [
      "JPM\n"
     ]
    },
    {
     "name": "stderr",
     "output_type": "stream",
     "text": [
      "100%|██████████| 1/1 [00:00<00:00,  1.84it/s]\n"
     ]
    },
    {
     "name": "stdout",
     "output_type": "stream",
     "text": [
      "KO\n"
     ]
    },
    {
     "name": "stderr",
     "output_type": "stream",
     "text": [
      "100%|██████████| 1/1 [00:00<00:00,  1.74it/s]\n"
     ]
    },
    {
     "name": "stdout",
     "output_type": "stream",
     "text": [
      "MCD\n"
     ]
    },
    {
     "name": "stderr",
     "output_type": "stream",
     "text": [
      "100%|██████████| 1/1 [00:00<00:00,  1.65it/s]\n"
     ]
    },
    {
     "name": "stdout",
     "output_type": "stream",
     "text": [
      "MMM\n"
     ]
    },
    {
     "name": "stderr",
     "output_type": "stream",
     "text": [
      "100%|██████████| 1/1 [00:00<00:00,  2.00it/s]\n"
     ]
    },
    {
     "name": "stdout",
     "output_type": "stream",
     "text": [
      "MRK\n"
     ]
    },
    {
     "name": "stderr",
     "output_type": "stream",
     "text": [
      "100%|██████████| 1/1 [00:00<00:00,  1.88it/s]\n"
     ]
    },
    {
     "name": "stdout",
     "output_type": "stream",
     "text": [
      "MSFT\n"
     ]
    },
    {
     "name": "stderr",
     "output_type": "stream",
     "text": [
      "100%|██████████| 1/1 [00:00<00:00,  1.29it/s]\n"
     ]
    },
    {
     "name": "stdout",
     "output_type": "stream",
     "text": [
      "NKE\n"
     ]
    },
    {
     "name": "stderr",
     "output_type": "stream",
     "text": [
      "100%|██████████| 1/1 [00:00<00:00,  1.17it/s]\n"
     ]
    },
    {
     "name": "stdout",
     "output_type": "stream",
     "text": [
      "PG\n"
     ]
    },
    {
     "name": "stderr",
     "output_type": "stream",
     "text": [
      "100%|██████████| 1/1 [00:00<00:00,  1.10it/s]\n"
     ]
    },
    {
     "name": "stdout",
     "output_type": "stream",
     "text": [
      "TRV\n"
     ]
    },
    {
     "name": "stderr",
     "output_type": "stream",
     "text": [
      "100%|██████████| 1/1 [00:00<00:00,  1.08it/s]\n"
     ]
    },
    {
     "name": "stdout",
     "output_type": "stream",
     "text": [
      "UNH\n"
     ]
    },
    {
     "name": "stderr",
     "output_type": "stream",
     "text": [
      "100%|██████████| 1/1 [00:00<00:00,  1.15it/s]\n"
     ]
    },
    {
     "name": "stdout",
     "output_type": "stream",
     "text": [
      "V\n"
     ]
    },
    {
     "name": "stderr",
     "output_type": "stream",
     "text": [
      "100%|██████████| 1/1 [00:00<00:00,  1.27it/s]\n"
     ]
    },
    {
     "name": "stdout",
     "output_type": "stream",
     "text": [
      "VZ\n"
     ]
    },
    {
     "name": "stderr",
     "output_type": "stream",
     "text": [
      "100%|██████████| 1/1 [00:00<00:00,  1.25it/s]\n"
     ]
    },
    {
     "name": "stdout",
     "output_type": "stream",
     "text": [
      "WBA\n"
     ]
    },
    {
     "name": "stderr",
     "output_type": "stream",
     "text": [
      "100%|██████████| 1/1 [00:01<00:00,  1.03s/it]\n"
     ]
    },
    {
     "name": "stdout",
     "output_type": "stream",
     "text": [
      "WMT\n"
     ]
    },
    {
     "name": "stderr",
     "output_type": "stream",
     "text": [
      "100%|██████████| 1/1 [00:01<00:00,  1.07s/it]\n"
     ]
    }
   ],
   "source": [
    "initial_investment = 1000\n",
    "\n",
    "\n",
    "kwargs = {\n",
    "    \"load_from_file\": True, \n",
    "    \"transaction_cost\": 0.0000,\n",
    "    \"initial_investment\": initial_investment,\n",
    "    \"state_mode\": 1,\n",
    "    \"GAMMA\": 0.7, \n",
    "    \"n_step\": 5, \n",
    "    \"BATCH_SIZE\": 10, \n",
    "    \"ReplayMemorySize\": 20,\n",
    "    \"TARGET_UPDATE\": 5,\n",
    "    \"window_size\": None, \n",
    "    \"lamb\": 0.0,\n",
    "}\n",
    "\n",
    "_file = \"AAPL\"\n",
    "\n",
    "_begin_date = '20{}-01-01'\n",
    "_end_date = '20{}-01-01'\n",
    "_split_point = '20{}-01-01' \n",
    "\n",
    "arms = [\n",
    "    { \"name\": \"profit\", \"lamb\": 0},\n",
    "]\n",
    "\n",
    "dates = [\n",
    "    (\"2019-06-23\", \"2020-06-22\", \"2016-01-01\", \"2019-01-01\"),\n",
    "    (\"2020-06-22\", \"2021-06-22\", \"2017-01-01\", \"2020-01-01\"),\n",
    "    (\"2021-06-23\", \"2022-06-23\", \"2018-01-01\", \"2021-01-01\"),\n",
    "]\n",
    "\n",
    "random_seeds = 1\n",
    "results = []\n",
    "portfolios_saved = {}\n",
    "files = sorted(os.listdir(\"./Data/\"))\n",
    "for _file in files[:]:\n",
    "    print(_file)\n",
    "    portfolios_saved[_file] = {}\n",
    "\n",
    "    for idx, arm in enumerate(arms[:]):\n",
    "        results2 = []\n",
    "        portfolios_saved[_file][f\"{arm['name']}-{arm['lamb']}\"] = []\n",
    "        \n",
    "        for seed in tqdm(range(random_seeds)):\n",
    "            \n",
    "            ls = []\n",
    "            bhs = []\n",
    "        \n",
    "            train_portfolios = {}\n",
    "            test_portfolios = {}\n",
    "            tmp_result = []\n",
    "            \n",
    "            for date in dates:\n",
    "                model_start_date = date[2]\n",
    "                model_end_date = date[3]\n",
    "                split_point = date[0]\n",
    "                end_date = date[1]\n",
    "\n",
    "                kwargs.update({\n",
    "                    \"begin_date\": \"2016-01-01\", \n",
    "                    \"end_date\": end_date, \n",
    "                    \"split_point\": split_point,\n",
    "                    \"model_start_date\": model_start_date,\n",
    "                    \"model_end_date\": model_end_date,\n",
    "                    \"DATASET_NAME\": _file,\n",
    "                    \"reward_type\": \"\",\n",
    "                    \"seed\": seed,\n",
    "                    \"n_episodes\": 140,\n",
    "                    \"arms\": [arm],\n",
    "                    \"show_all\": True,\n",
    "                    \"ratio_threshold\": 3,\n",
    "                    \"train_portfolios\": train_portfolios,\n",
    "                    \"test_portfolios\": test_portfolios,\n",
    "                })\n",
    "\n",
    "                data_loader, model = train(**kwargs)\n",
    "                ls.extend(model[\"portfo\"])\n",
    "                bh = data_loader.data_test_with_date[\"close\"]\n",
    "                bhs.append(bh)\n",
    "                tmp_result.extend(model[\"portfo\"])\n",
    "\n",
    "            add_test_portfo(test_portfolios, seed, ls)\n",
    "            if seed == 0: \n",
    "                bhs = pd.concat(bhs, axis=0)\n",
    "                bh_percentage = bhs.pct_change(1).fillna(0).values\n",
    "                add_test_portfo(test_portfolios, 'B&H', bh_percentage)\n",
    "            indexes = calc_return(bh_percentage, test_portfolios)\n",
    "            results2.append(indexes)\n",
    "            portfolios_saved[_file][f\"{arm['name']}-{arm['lamb']}\"].append(tmp_result)\n",
    "\n",
    "        # path = f\"./Results/{_file}/exp3_concat\"\n",
    "        # if not os.path.exists(path):\n",
    "        #     os.mkdir(path)\n",
    "        \n",
    "        # save_path = f\"{path}/MA.csv\"\n",
    "\n",
    "        # portfolios_saved[_file][f\"{arm['name']}-{arm['lamb']}\"].insert(0, bh_percentage.tolist())\n",
    "        # _df_ = pd.DataFrame(portfolios_saved[_file][f\"{arm['name']}-{arm['lamb']}\"]).T.fillna(0)\n",
    "        # _df_.to_csv(save_path, index=False)\n",
    "\n",
    "        results2_df = pd.concat(results2, axis=1)\n",
    "        results2_bh = results2_df[\"B&H\"]\n",
    "        del results2_df[\"B&H\"]\n",
    "        final = pd.concat([\n",
    "            results2_bh,\n",
    "            results2_df.median(axis=1)\n",
    "        ], axis=1)\n",
    "        final.columns = [f\"{_file}-B&H\", f\"{_file}-{arm['name']}-{arm['lamb']}\"]\n",
    "        if idx > 0:\n",
    "            del final[f\"{_file}-B&H\"]\n",
    "        results.append(final)\n"
   ]
  },
  {
   "cell_type": "code",
   "execution_count": null,
   "metadata": {},
   "outputs": [],
   "source": []
  },
  {
   "cell_type": "code",
   "execution_count": null,
   "metadata": {},
   "outputs": [],
   "source": []
  },
  {
   "cell_type": "code",
   "execution_count": 5,
   "metadata": {},
   "outputs": [],
   "source": [
    "def output_bh(symbol):\n",
    "    raw_df = pd.read_csv(f\"./Data/{symbol}/{symbol}.csv\")\n",
    "    raw_df = raw_df[[\"Date\", \"Close\"]]\n",
    "    raw_df[\"pct\"] = raw_df[\"Close\"].pct_change(1)\n",
    "    raw_df = raw_df.query(\"Date >= '2016-01-01'\")\n",
    "    raw_df = raw_df.set_index(\"Date\")\n",
    "    del raw_df[\"Close\"]\n",
    "    raw_df = raw_df.reset_index()\n",
    "    dates = [\n",
    "        (\"2019-06-23\", \"2020-06-22\", \"2016-01-01\", \"2019-01-01\"),\n",
    "        (\"2020-06-22\", \"2021-06-22\", \"2017-01-01\", \"2020-01-01\"),\n",
    "        (\"2021-06-23\", \"2022-06-23\", \"2018-01-01\", \"2021-01-01\"),\n",
    "    ]\n",
    "    ls = []\n",
    "    for date in dates:\n",
    "        date1, date2, _, _ = date\n",
    "        ls.append(raw_df.query(f\"Date >= '{date1}' & Date <= '{date2}'\"))\n",
    "    bh = pd.concat(ls)\n",
    "    bh.reset_index(inplace=True)\n",
    "    del bh[\"index\"]\n",
    "    return bh\n",
    "\n",
    "symbol = \"AAPL\"\n",
    "# output_bh(symbol)"
   ]
  },
  {
   "cell_type": "code",
   "execution_count": 10,
   "metadata": {},
   "outputs": [
    {
     "data": {
      "text/html": [
       "<div>\n",
       "<style scoped>\n",
       "    .dataframe tbody tr th:only-of-type {\n",
       "        vertical-align: middle;\n",
       "    }\n",
       "\n",
       "    .dataframe tbody tr th {\n",
       "        vertical-align: top;\n",
       "    }\n",
       "\n",
       "    .dataframe thead th {\n",
       "        text-align: right;\n",
       "    }\n",
       "</style>\n",
       "<table border=\"1\" class=\"dataframe\">\n",
       "  <thead>\n",
       "    <tr style=\"text-align: right;\">\n",
       "      <th></th>\n",
       "      <th>AAPL-B&amp;H</th>\n",
       "      <th>AAPL-MA</th>\n",
       "      <th>AMGN-B&amp;H</th>\n",
       "      <th>AMGN-MA</th>\n",
       "      <th>AXP-B&amp;H</th>\n",
       "      <th>AXP-MA</th>\n",
       "      <th>BA-B&amp;H</th>\n",
       "      <th>BA-MA</th>\n",
       "      <th>CAT-B&amp;H</th>\n",
       "      <th>CAT-MA</th>\n",
       "      <th>...</th>\n",
       "      <th>UNH-B&amp;H</th>\n",
       "      <th>UNH-MA</th>\n",
       "      <th>V-B&amp;H</th>\n",
       "      <th>V-MA</th>\n",
       "      <th>VZ-B&amp;H</th>\n",
       "      <th>VZ-MA</th>\n",
       "      <th>WBA-B&amp;H</th>\n",
       "      <th>WBA-MA</th>\n",
       "      <th>WMT-B&amp;H</th>\n",
       "      <th>WMT-MA</th>\n",
       "    </tr>\n",
       "    <tr>\n",
       "      <th>date</th>\n",
       "      <th></th>\n",
       "      <th></th>\n",
       "      <th></th>\n",
       "      <th></th>\n",
       "      <th></th>\n",
       "      <th></th>\n",
       "      <th></th>\n",
       "      <th></th>\n",
       "      <th></th>\n",
       "      <th></th>\n",
       "      <th></th>\n",
       "      <th></th>\n",
       "      <th></th>\n",
       "      <th></th>\n",
       "      <th></th>\n",
       "      <th></th>\n",
       "      <th></th>\n",
       "      <th></th>\n",
       "      <th></th>\n",
       "      <th></th>\n",
       "      <th></th>\n",
       "    </tr>\n",
       "  </thead>\n",
       "  <tbody>\n",
       "    <tr>\n",
       "      <th>2019-06-24</th>\n",
       "      <td>-0.001006</td>\n",
       "      <td>0.000000</td>\n",
       "      <td>-0.012185</td>\n",
       "      <td>0.000000</td>\n",
       "      <td>-0.004730</td>\n",
       "      <td>0.00000</td>\n",
       "      <td>0.005782</td>\n",
       "      <td>0.000000</td>\n",
       "      <td>0.003585</td>\n",
       "      <td>0.000000</td>\n",
       "      <td>...</td>\n",
       "      <td>-0.010465</td>\n",
       "      <td>0.000000</td>\n",
       "      <td>0.002364</td>\n",
       "      <td>0.000000</td>\n",
       "      <td>0.008655</td>\n",
       "      <td>0.000000</td>\n",
       "      <td>-0.009533</td>\n",
       "      <td>0.000000</td>\n",
       "      <td>0.000990</td>\n",
       "      <td>0.000000</td>\n",
       "    </tr>\n",
       "    <tr>\n",
       "      <th>2019-06-25</th>\n",
       "      <td>-0.016148</td>\n",
       "      <td>0.000000</td>\n",
       "      <td>-0.014270</td>\n",
       "      <td>0.000000</td>\n",
       "      <td>-0.012587</td>\n",
       "      <td>0.00000</td>\n",
       "      <td>-0.006777</td>\n",
       "      <td>0.000000</td>\n",
       "      <td>-0.001344</td>\n",
       "      <td>0.000000</td>\n",
       "      <td>...</td>\n",
       "      <td>-0.018313</td>\n",
       "      <td>0.000000</td>\n",
       "      <td>-0.012454</td>\n",
       "      <td>0.000000</td>\n",
       "      <td>0.003981</td>\n",
       "      <td>0.000000</td>\n",
       "      <td>0.009533</td>\n",
       "      <td>0.000000</td>\n",
       "      <td>-0.003689</td>\n",
       "      <td>0.000000</td>\n",
       "    </tr>\n",
       "    <tr>\n",
       "      <th>2019-06-26</th>\n",
       "      <td>0.005131</td>\n",
       "      <td>0.000000</td>\n",
       "      <td>-0.021057</td>\n",
       "      <td>0.000000</td>\n",
       "      <td>-0.009140</td>\n",
       "      <td>0.00000</td>\n",
       "      <td>0.008337</td>\n",
       "      <td>0.000000</td>\n",
       "      <td>0.009411</td>\n",
       "      <td>0.000000</td>\n",
       "      <td>...</td>\n",
       "      <td>-0.034922</td>\n",
       "      <td>0.000000</td>\n",
       "      <td>-0.013722</td>\n",
       "      <td>0.000000</td>\n",
       "      <td>-0.013502</td>\n",
       "      <td>0.000000</td>\n",
       "      <td>-0.001335</td>\n",
       "      <td>0.000000</td>\n",
       "      <td>-0.008729</td>\n",
       "      <td>0.000000</td>\n",
       "    </tr>\n",
       "    <tr>\n",
       "      <th>2019-06-27</th>\n",
       "      <td>0.004829</td>\n",
       "      <td>0.000000</td>\n",
       "      <td>-0.016514</td>\n",
       "      <td>0.000000</td>\n",
       "      <td>-0.006334</td>\n",
       "      <td>0.00000</td>\n",
       "      <td>-0.021031</td>\n",
       "      <td>0.000000</td>\n",
       "      <td>0.012025</td>\n",
       "      <td>0.000000</td>\n",
       "      <td>...</td>\n",
       "      <td>-0.023545</td>\n",
       "      <td>0.000000</td>\n",
       "      <td>-0.012742</td>\n",
       "      <td>0.000000</td>\n",
       "      <td>-0.009001</td>\n",
       "      <td>0.000000</td>\n",
       "      <td>0.039466</td>\n",
       "      <td>0.000000</td>\n",
       "      <td>-0.009269</td>\n",
       "      <td>0.000000</td>\n",
       "    </tr>\n",
       "    <tr>\n",
       "      <th>2019-06-28</th>\n",
       "      <td>-0.004326</td>\n",
       "      <td>0.000000</td>\n",
       "      <td>-0.015125</td>\n",
       "      <td>0.000000</td>\n",
       "      <td>-0.010342</td>\n",
       "      <td>0.00000</td>\n",
       "      <td>-0.021057</td>\n",
       "      <td>0.000000</td>\n",
       "      <td>0.017925</td>\n",
       "      <td>0.000000</td>\n",
       "      <td>...</td>\n",
       "      <td>-0.032781</td>\n",
       "      <td>0.000000</td>\n",
       "      <td>0.000634</td>\n",
       "      <td>0.000000</td>\n",
       "      <td>-0.011078</td>\n",
       "      <td>0.000000</td>\n",
       "      <td>0.042326</td>\n",
       "      <td>0.000000</td>\n",
       "      <td>-0.005759</td>\n",
       "      <td>0.000000</td>\n",
       "    </tr>\n",
       "    <tr>\n",
       "      <th>...</th>\n",
       "      <td>...</td>\n",
       "      <td>...</td>\n",
       "      <td>...</td>\n",
       "      <td>...</td>\n",
       "      <td>...</td>\n",
       "      <td>...</td>\n",
       "      <td>...</td>\n",
       "      <td>...</td>\n",
       "      <td>...</td>\n",
       "      <td>...</td>\n",
       "      <td>...</td>\n",
       "      <td>...</td>\n",
       "      <td>...</td>\n",
       "      <td>...</td>\n",
       "      <td>...</td>\n",
       "      <td>...</td>\n",
       "      <td>...</td>\n",
       "      <td>...</td>\n",
       "      <td>...</td>\n",
       "      <td>...</td>\n",
       "      <td>...</td>\n",
       "    </tr>\n",
       "    <tr>\n",
       "      <th>2022-06-16</th>\n",
       "      <td>1.751635</td>\n",
       "      <td>0.829198</td>\n",
       "      <td>0.320943</td>\n",
       "      <td>0.139797</td>\n",
       "      <td>0.132091</td>\n",
       "      <td>-0.13908</td>\n",
       "      <td>-0.631919</td>\n",
       "      <td>-0.238497</td>\n",
       "      <td>0.548349</td>\n",
       "      <td>0.327150</td>\n",
       "      <td>...</td>\n",
       "      <td>0.901021</td>\n",
       "      <td>0.459269</td>\n",
       "      <td>0.126761</td>\n",
       "      <td>-0.167031</td>\n",
       "      <td>-0.043836</td>\n",
       "      <td>-0.051947</td>\n",
       "      <td>-0.165308</td>\n",
       "      <td>-0.319652</td>\n",
       "      <td>0.157549</td>\n",
       "      <td>0.014293</td>\n",
       "    </tr>\n",
       "    <tr>\n",
       "      <th>2022-06-17</th>\n",
       "      <td>1.783370</td>\n",
       "      <td>0.829198</td>\n",
       "      <td>0.343902</td>\n",
       "      <td>0.139797</td>\n",
       "      <td>0.187090</td>\n",
       "      <td>-0.13908</td>\n",
       "      <td>-0.622424</td>\n",
       "      <td>-0.238497</td>\n",
       "      <td>0.531259</td>\n",
       "      <td>0.322719</td>\n",
       "      <td>...</td>\n",
       "      <td>0.884224</td>\n",
       "      <td>0.459269</td>\n",
       "      <td>0.132483</td>\n",
       "      <td>-0.167031</td>\n",
       "      <td>-0.040116</td>\n",
       "      <td>-0.051947</td>\n",
       "      <td>-0.172672</td>\n",
       "      <td>-0.319652</td>\n",
       "      <td>0.135189</td>\n",
       "      <td>0.014293</td>\n",
       "    </tr>\n",
       "    <tr>\n",
       "      <th>2022-06-21</th>\n",
       "      <td>1.874555</td>\n",
       "      <td>0.829198</td>\n",
       "      <td>0.365029</td>\n",
       "      <td>0.139797</td>\n",
       "      <td>0.191866</td>\n",
       "      <td>-0.13908</td>\n",
       "      <td>-0.622562</td>\n",
       "      <td>-0.238497</td>\n",
       "      <td>0.560908</td>\n",
       "      <td>0.322719</td>\n",
       "      <td>...</td>\n",
       "      <td>1.002014</td>\n",
       "      <td>0.459269</td>\n",
       "      <td>0.158588</td>\n",
       "      <td>-0.167031</td>\n",
       "      <td>-0.008401</td>\n",
       "      <td>-0.051947</td>\n",
       "      <td>-0.156260</td>\n",
       "      <td>-0.319652</td>\n",
       "      <td>0.172424</td>\n",
       "      <td>0.014293</td>\n",
       "    </tr>\n",
       "    <tr>\n",
       "      <th>2022-06-22</th>\n",
       "      <td>1.863553</td>\n",
       "      <td>0.829198</td>\n",
       "      <td>0.374934</td>\n",
       "      <td>0.139797</td>\n",
       "      <td>0.188819</td>\n",
       "      <td>-0.13908</td>\n",
       "      <td>-0.621430</td>\n",
       "      <td>-0.238497</td>\n",
       "      <td>0.493025</td>\n",
       "      <td>0.322719</td>\n",
       "      <td>...</td>\n",
       "      <td>1.041027</td>\n",
       "      <td>0.459269</td>\n",
       "      <td>0.155191</td>\n",
       "      <td>-0.167031</td>\n",
       "      <td>-0.005660</td>\n",
       "      <td>-0.051947</td>\n",
       "      <td>-0.148896</td>\n",
       "      <td>-0.319652</td>\n",
       "      <td>0.158221</td>\n",
       "      <td>0.014293</td>\n",
       "    </tr>\n",
       "    <tr>\n",
       "      <th>2022-06-23</th>\n",
       "      <td>1.925331</td>\n",
       "      <td>0.829198</td>\n",
       "      <td>0.391825</td>\n",
       "      <td>0.139797</td>\n",
       "      <td>0.166260</td>\n",
       "      <td>-0.13908</td>\n",
       "      <td>-0.630235</td>\n",
       "      <td>-0.238497</td>\n",
       "      <td>0.420214</td>\n",
       "      <td>0.322719</td>\n",
       "      <td>...</td>\n",
       "      <td>1.083250</td>\n",
       "      <td>0.459269</td>\n",
       "      <td>0.171999</td>\n",
       "      <td>-0.167031</td>\n",
       "      <td>0.019791</td>\n",
       "      <td>-0.051947</td>\n",
       "      <td>-0.139638</td>\n",
       "      <td>-0.319652</td>\n",
       "      <td>0.186339</td>\n",
       "      <td>0.014293</td>\n",
       "    </tr>\n",
       "  </tbody>\n",
       "</table>\n",
       "<p>758 rows × 58 columns</p>\n",
       "</div>"
      ],
      "text/plain": [
       "            AAPL-B&H   AAPL-MA  AMGN-B&H   AMGN-MA   AXP-B&H   AXP-MA  \\\n",
       "date                                                                    \n",
       "2019-06-24 -0.001006  0.000000 -0.012185  0.000000 -0.004730  0.00000   \n",
       "2019-06-25 -0.016148  0.000000 -0.014270  0.000000 -0.012587  0.00000   \n",
       "2019-06-26  0.005131  0.000000 -0.021057  0.000000 -0.009140  0.00000   \n",
       "2019-06-27  0.004829  0.000000 -0.016514  0.000000 -0.006334  0.00000   \n",
       "2019-06-28 -0.004326  0.000000 -0.015125  0.000000 -0.010342  0.00000   \n",
       "...              ...       ...       ...       ...       ...      ...   \n",
       "2022-06-16  1.751635  0.829198  0.320943  0.139797  0.132091 -0.13908   \n",
       "2022-06-17  1.783370  0.829198  0.343902  0.139797  0.187090 -0.13908   \n",
       "2022-06-21  1.874555  0.829198  0.365029  0.139797  0.191866 -0.13908   \n",
       "2022-06-22  1.863553  0.829198  0.374934  0.139797  0.188819 -0.13908   \n",
       "2022-06-23  1.925331  0.829198  0.391825  0.139797  0.166260 -0.13908   \n",
       "\n",
       "              BA-B&H     BA-MA   CAT-B&H    CAT-MA  ...   UNH-B&H    UNH-MA  \\\n",
       "date                                                ...                       \n",
       "2019-06-24  0.005782  0.000000  0.003585  0.000000  ... -0.010465  0.000000   \n",
       "2019-06-25 -0.006777  0.000000 -0.001344  0.000000  ... -0.018313  0.000000   \n",
       "2019-06-26  0.008337  0.000000  0.009411  0.000000  ... -0.034922  0.000000   \n",
       "2019-06-27 -0.021031  0.000000  0.012025  0.000000  ... -0.023545  0.000000   \n",
       "2019-06-28 -0.021057  0.000000  0.017925  0.000000  ... -0.032781  0.000000   \n",
       "...              ...       ...       ...       ...  ...       ...       ...   \n",
       "2022-06-16 -0.631919 -0.238497  0.548349  0.327150  ...  0.901021  0.459269   \n",
       "2022-06-17 -0.622424 -0.238497  0.531259  0.322719  ...  0.884224  0.459269   \n",
       "2022-06-21 -0.622562 -0.238497  0.560908  0.322719  ...  1.002014  0.459269   \n",
       "2022-06-22 -0.621430 -0.238497  0.493025  0.322719  ...  1.041027  0.459269   \n",
       "2022-06-23 -0.630235 -0.238497  0.420214  0.322719  ...  1.083250  0.459269   \n",
       "\n",
       "               V-B&H      V-MA    VZ-B&H     VZ-MA   WBA-B&H    WBA-MA  \\\n",
       "date                                                                     \n",
       "2019-06-24  0.002364  0.000000  0.008655  0.000000 -0.009533  0.000000   \n",
       "2019-06-25 -0.012454  0.000000  0.003981  0.000000  0.009533  0.000000   \n",
       "2019-06-26 -0.013722  0.000000 -0.013502  0.000000 -0.001335  0.000000   \n",
       "2019-06-27 -0.012742  0.000000 -0.009001  0.000000  0.039466  0.000000   \n",
       "2019-06-28  0.000634  0.000000 -0.011078  0.000000  0.042326  0.000000   \n",
       "...              ...       ...       ...       ...       ...       ...   \n",
       "2022-06-16  0.126761 -0.167031 -0.043836 -0.051947 -0.165308 -0.319652   \n",
       "2022-06-17  0.132483 -0.167031 -0.040116 -0.051947 -0.172672 -0.319652   \n",
       "2022-06-21  0.158588 -0.167031 -0.008401 -0.051947 -0.156260 -0.319652   \n",
       "2022-06-22  0.155191 -0.167031 -0.005660 -0.051947 -0.148896 -0.319652   \n",
       "2022-06-23  0.171999 -0.167031  0.019791 -0.051947 -0.139638 -0.319652   \n",
       "\n",
       "             WMT-B&H    WMT-MA  \n",
       "date                            \n",
       "2019-06-24  0.000990  0.000000  \n",
       "2019-06-25 -0.003689  0.000000  \n",
       "2019-06-26 -0.008729  0.000000  \n",
       "2019-06-27 -0.009269  0.000000  \n",
       "2019-06-28 -0.005759  0.000000  \n",
       "...              ...       ...  \n",
       "2022-06-16  0.157549  0.014293  \n",
       "2022-06-17  0.135189  0.014293  \n",
       "2022-06-21  0.172424  0.014293  \n",
       "2022-06-22  0.158221  0.014293  \n",
       "2022-06-23  0.186339  0.014293  \n",
       "\n",
       "[758 rows x 58 columns]"
      ]
     },
     "execution_count": 10,
     "metadata": {},
     "output_type": "execute_result"
    }
   ],
   "source": [
    "symbols = list(portfolios_saved.keys())[:]\n",
    "# plt.style.use(\"ggplot\")\n",
    "# plt.rcParams[\"text.color\"] = \"black\"\n",
    "\n",
    "ls = []\n",
    "for symbol in symbols:\n",
    "    bh = output_bh(symbol)\n",
    "    res = pd.concat([\n",
    "        bh,\n",
    "        pd.DataFrame(portfolios_saved[symbol][\"profit-0\"]).T\n",
    "    ], axis=1).dropna()\n",
    "    res.columns = [\"Date\", f\"{symbol}-B&H\", f\"{symbol}-MA\"]\n",
    "    # NOTE cumreturn\n",
    "    res[f\"{symbol}-B&H\"] = (1 + res[f\"{symbol}-B&H\"]).cumprod() - 1\n",
    "    res[f\"{symbol}-MA\"] = (1 + res[f\"{symbol}-MA\"]).cumprod() - 1 \n",
    "    date_ls = res[\"Date\"].tolist()\n",
    "    del res[\"Date\"]\n",
    "    ls.append(res)\n",
    "\n",
    "\n",
    "results_cumreturn = pd.concat(ls, axis=1)   \n",
    "results_cumreturn[\"date\"] = date_ls \n",
    "results_cumreturn = results_cumreturn.set_index(\"date\")\n",
    "# results_cumreturn.to_csv(\"./ts-run-results/[exp3]MA-returns.csv\",)\n",
    "results_cumreturn.to_csv(\"./ts-run-results/[exp3]MA-cumreturns.csv\")\n",
    "results_cumreturn"
   ]
  },
  {
   "cell_type": "code",
   "execution_count": null,
   "metadata": {},
   "outputs": [],
   "source": []
  },
  {
   "cell_type": "code",
   "execution_count": 9,
   "metadata": {},
   "outputs": [
    {
     "data": {
      "text/html": [
       "<div>\n",
       "<style scoped>\n",
       "    .dataframe tbody tr th:only-of-type {\n",
       "        vertical-align: middle;\n",
       "    }\n",
       "\n",
       "    .dataframe tbody tr th {\n",
       "        vertical-align: top;\n",
       "    }\n",
       "\n",
       "    .dataframe thead th {\n",
       "        text-align: right;\n",
       "    }\n",
       "</style>\n",
       "<table border=\"1\" class=\"dataframe\">\n",
       "  <thead>\n",
       "    <tr style=\"text-align: right;\">\n",
       "      <th></th>\n",
       "      <th>AAPL-B&amp;H</th>\n",
       "      <th>AAPL-MA</th>\n",
       "      <th>AMGN-B&amp;H</th>\n",
       "      <th>AMGN-MA</th>\n",
       "      <th>AXP-B&amp;H</th>\n",
       "      <th>AXP-MA</th>\n",
       "      <th>BA-B&amp;H</th>\n",
       "      <th>BA-MA</th>\n",
       "      <th>CAT-B&amp;H</th>\n",
       "      <th>CAT-MA</th>\n",
       "      <th>...</th>\n",
       "      <th>UNH-B&amp;H</th>\n",
       "      <th>UNH-MA</th>\n",
       "      <th>V-B&amp;H</th>\n",
       "      <th>V-MA</th>\n",
       "      <th>VZ-B&amp;H</th>\n",
       "      <th>VZ-MA</th>\n",
       "      <th>WBA-B&amp;H</th>\n",
       "      <th>WBA-MA</th>\n",
       "      <th>WMT-B&amp;H</th>\n",
       "      <th>WMT-MA</th>\n",
       "    </tr>\n",
       "  </thead>\n",
       "  <tbody>\n",
       "    <tr>\n",
       "      <th>sortino_test</th>\n",
       "      <td>1.617304</td>\n",
       "      <td>1.333481</td>\n",
       "      <td>0.840163</td>\n",
       "      <td>0.434782</td>\n",
       "      <td>0.495938</td>\n",
       "      <td>-0.088398</td>\n",
       "      <td>-0.372984</td>\n",
       "      <td>-0.096682</td>\n",
       "      <td>0.703495</td>\n",
       "      <td>0.713002</td>\n",
       "      <td>...</td>\n",
       "      <td>1.216106</td>\n",
       "      <td>0.810491</td>\n",
       "      <td>0.413782</td>\n",
       "      <td>-0.193443</td>\n",
       "      <td>0.180898</td>\n",
       "      <td>-0.079045</td>\n",
       "      <td>0.091630</td>\n",
       "      <td>-0.334246</td>\n",
       "      <td>0.445148</td>\n",
       "      <td>0.141811</td>\n",
       "    </tr>\n",
       "    <tr>\n",
       "      <th>sharpe_test</th>\n",
       "      <td>1.170390</td>\n",
       "      <td>1.002404</td>\n",
       "      <td>0.571175</td>\n",
       "      <td>0.319801</td>\n",
       "      <td>0.347496</td>\n",
       "      <td>-0.078537</td>\n",
       "      <td>-0.268060</td>\n",
       "      <td>-0.089767</td>\n",
       "      <td>0.522063</td>\n",
       "      <td>0.510523</td>\n",
       "      <td>...</td>\n",
       "      <td>0.908069</td>\n",
       "      <td>0.644190</td>\n",
       "      <td>0.307648</td>\n",
       "      <td>-0.188381</td>\n",
       "      <td>0.130221</td>\n",
       "      <td>-0.083939</td>\n",
       "      <td>0.065749</td>\n",
       "      <td>-0.356912</td>\n",
       "      <td>0.333236</td>\n",
       "      <td>0.110321</td>\n",
       "    </tr>\n",
       "    <tr>\n",
       "      <th>risk_test</th>\n",
       "      <td>0.350629</td>\n",
       "      <td>0.224915</td>\n",
       "      <td>0.277822</td>\n",
       "      <td>0.195147</td>\n",
       "      <td>0.440863</td>\n",
       "      <td>0.246581</td>\n",
       "      <td>0.593144</td>\n",
       "      <td>0.363886</td>\n",
       "      <td>0.342866</td>\n",
       "      <td>0.236011</td>\n",
       "      <td>...</td>\n",
       "      <td>0.331632</td>\n",
       "      <td>0.239877</td>\n",
       "      <td>0.325757</td>\n",
       "      <td>0.207325</td>\n",
       "      <td>0.191906</td>\n",
       "      <td>0.121793</td>\n",
       "      <td>0.356151</td>\n",
       "      <td>0.261424</td>\n",
       "      <td>0.242593</td>\n",
       "      <td>0.162293</td>\n",
       "    </tr>\n",
       "    <tr>\n",
       "      <th>mdd_test</th>\n",
       "      <td>0.314273</td>\n",
       "      <td>0.229904</td>\n",
       "      <td>0.245339</td>\n",
       "      <td>0.275794</td>\n",
       "      <td>0.496385</td>\n",
       "      <td>0.342867</td>\n",
       "      <td>0.751524</td>\n",
       "      <td>0.554582</td>\n",
       "      <td>0.385543</td>\n",
       "      <td>0.245674</td>\n",
       "      <td>...</td>\n",
       "      <td>0.358999</td>\n",
       "      <td>0.373620</td>\n",
       "      <td>0.363649</td>\n",
       "      <td>0.284693</td>\n",
       "      <td>0.198201</td>\n",
       "      <td>0.256386</td>\n",
       "      <td>0.444402</td>\n",
       "      <td>0.397417</td>\n",
       "      <td>0.257397</td>\n",
       "      <td>0.169431</td>\n",
       "    </tr>\n",
       "    <tr>\n",
       "      <th>downrisk_test</th>\n",
       "      <td>0.253739</td>\n",
       "      <td>0.169073</td>\n",
       "      <td>0.188874</td>\n",
       "      <td>0.143539</td>\n",
       "      <td>0.308906</td>\n",
       "      <td>0.219075</td>\n",
       "      <td>0.426286</td>\n",
       "      <td>0.337859</td>\n",
       "      <td>0.254441</td>\n",
       "      <td>0.168988</td>\n",
       "      <td>...</td>\n",
       "      <td>0.247631</td>\n",
       "      <td>0.190658</td>\n",
       "      <td>0.242201</td>\n",
       "      <td>0.201900</td>\n",
       "      <td>0.138145</td>\n",
       "      <td>0.129333</td>\n",
       "      <td>0.255557</td>\n",
       "      <td>0.279152</td>\n",
       "      <td>0.181604</td>\n",
       "      <td>0.126255</td>\n",
       "    </tr>\n",
       "    <tr>\n",
       "      <th>cumreturn_test</th>\n",
       "      <td>1.853616</td>\n",
       "      <td>0.829198</td>\n",
       "      <td>0.436128</td>\n",
       "      <td>0.139797</td>\n",
       "      <td>0.189479</td>\n",
       "      <td>-0.139080</td>\n",
       "      <td>-0.635286</td>\n",
       "      <td>-0.256207</td>\n",
       "      <td>0.433928</td>\n",
       "      <td>0.322719</td>\n",
       "      <td>...</td>\n",
       "      <td>1.094994</td>\n",
       "      <td>0.459269</td>\n",
       "      <td>0.152682</td>\n",
       "      <td>-0.167031</td>\n",
       "      <td>0.020123</td>\n",
       "      <td>-0.051947</td>\n",
       "      <td>-0.113478</td>\n",
       "      <td>-0.319652</td>\n",
       "      <td>0.167342</td>\n",
       "      <td>0.014293</td>\n",
       "    </tr>\n",
       "  </tbody>\n",
       "</table>\n",
       "<p>6 rows × 58 columns</p>\n",
       "</div>"
      ],
      "text/plain": [
       "                AAPL-B&H   AAPL-MA  AMGN-B&H   AMGN-MA   AXP-B&H    AXP-MA  \\\n",
       "sortino_test    1.617304  1.333481  0.840163  0.434782  0.495938 -0.088398   \n",
       "sharpe_test     1.170390  1.002404  0.571175  0.319801  0.347496 -0.078537   \n",
       "risk_test       0.350629  0.224915  0.277822  0.195147  0.440863  0.246581   \n",
       "mdd_test        0.314273  0.229904  0.245339  0.275794  0.496385  0.342867   \n",
       "downrisk_test   0.253739  0.169073  0.188874  0.143539  0.308906  0.219075   \n",
       "cumreturn_test  1.853616  0.829198  0.436128  0.139797  0.189479 -0.139080   \n",
       "\n",
       "                  BA-B&H     BA-MA   CAT-B&H    CAT-MA  ...   UNH-B&H  \\\n",
       "sortino_test   -0.372984 -0.096682  0.703495  0.713002  ...  1.216106   \n",
       "sharpe_test    -0.268060 -0.089767  0.522063  0.510523  ...  0.908069   \n",
       "risk_test       0.593144  0.363886  0.342866  0.236011  ...  0.331632   \n",
       "mdd_test        0.751524  0.554582  0.385543  0.245674  ...  0.358999   \n",
       "downrisk_test   0.426286  0.337859  0.254441  0.168988  ...  0.247631   \n",
       "cumreturn_test -0.635286 -0.256207  0.433928  0.322719  ...  1.094994   \n",
       "\n",
       "                  UNH-MA     V-B&H      V-MA    VZ-B&H     VZ-MA   WBA-B&H  \\\n",
       "sortino_test    0.810491  0.413782 -0.193443  0.180898 -0.079045  0.091630   \n",
       "sharpe_test     0.644190  0.307648 -0.188381  0.130221 -0.083939  0.065749   \n",
       "risk_test       0.239877  0.325757  0.207325  0.191906  0.121793  0.356151   \n",
       "mdd_test        0.373620  0.363649  0.284693  0.198201  0.256386  0.444402   \n",
       "downrisk_test   0.190658  0.242201  0.201900  0.138145  0.129333  0.255557   \n",
       "cumreturn_test  0.459269  0.152682 -0.167031  0.020123 -0.051947 -0.113478   \n",
       "\n",
       "                  WBA-MA   WMT-B&H    WMT-MA  \n",
       "sortino_test   -0.334246  0.445148  0.141811  \n",
       "sharpe_test    -0.356912  0.333236  0.110321  \n",
       "risk_test       0.261424  0.242593  0.162293  \n",
       "mdd_test        0.397417  0.257397  0.169431  \n",
       "downrisk_test   0.279152  0.181604  0.126255  \n",
       "cumreturn_test -0.319652  0.167342  0.014293  \n",
       "\n",
       "[6 rows x 58 columns]"
      ]
     },
     "execution_count": 9,
     "metadata": {},
     "output_type": "execute_result"
    }
   ],
   "source": [
    "results_df = pd.concat(results, axis=1)\n",
    "cols = results_df.columns\n",
    "ls = []\n",
    "for col in cols:\n",
    "    if \"B&H\" in col:\n",
    "        ls.append(col)\n",
    "    else:\n",
    "        symbol = col.split(\"-\")[0]\n",
    "        ls.append(f\"{symbol}-MA\")\n",
    "\n",
    "results_df.columns = ls\n",
    "results_df.to_csv(f\"./ts-run-results/[exp3]MA_reward.csv\")\n",
    "results_df"
   ]
  },
  {
   "cell_type": "code",
   "execution_count": null,
   "metadata": {},
   "outputs": [],
   "source": []
  },
  {
   "cell_type": "code",
   "execution_count": null,
   "metadata": {},
   "outputs": [],
   "source": []
  },
  {
   "cell_type": "code",
   "execution_count": null,
   "metadata": {},
   "outputs": [],
   "source": []
  }
 ],
 "metadata": {
  "kernelspec": {
   "display_name": "Python 3.9.13 ('base')",
   "language": "python",
   "name": "python3"
  },
  "language_info": {
   "codemirror_mode": {
    "name": "ipython",
    "version": 3
   },
   "file_extension": ".py",
   "mimetype": "text/x-python",
   "name": "python",
   "nbconvert_exporter": "python",
   "pygments_lexer": "ipython3",
   "version": "3.9.13"
  },
  "orig_nbformat": 4,
  "vscode": {
   "interpreter": {
    "hash": "13d8d4cd6f551a18c363f4a9a34e8382caadd65d1d29b8174a12246b9ecfe3e0"
   }
  }
 },
 "nbformat": 4,
 "nbformat_minor": 2
}
