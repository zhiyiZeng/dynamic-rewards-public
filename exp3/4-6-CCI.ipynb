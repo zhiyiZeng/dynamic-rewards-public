{
 "cells": [
  {
   "cell_type": "code",
   "execution_count": 1,
   "metadata": {},
   "outputs": [],
   "source": [
    "import warnings\n",
    "warnings.filterwarnings(\"ignore\")\n",
    "\n",
    "import re\n",
    "import os\n",
    "import random\n",
    "import numpy as np\n",
    "import pandas as pd\n",
    "import matplotlib.pyplot as plt\n",
    "from tqdm import tqdm\n",
    "import torch\n",
    "\n",
    "from DataLoader.DataLoader import DataLoader\n",
    "from DataLoader.DataBasedAgent import DataBasedAgent\n",
    "from DataLoader.DataRLAgent import DataRLAgent\n",
    "import DeepRLAgent.VanillaInput.Train as Train\n",
    "from PatternDetectionInCandleStick.Evaluation import Evaluation\n",
    "import distinctipy\n",
    "import talib\n",
    "\n",
    "from importlib import reload\n",
    "\n",
    "Train = reload(Train)\n",
    "DeepRL = Train.Train\n",
    "from utils_best_arm import add_train_portfo, add_test_portfo, plot_return, calc_return, plot_action_point, setup_logger\n",
    "pd.options.display.max_colwidth = 100\n",
    "from scipy.optimize import minimize\n",
    "\n",
    "device = \"cpu\"\n",
    "# device = torch.device(\"cuda\" if torch.cuda.is_available() else \"cpu\")\n",
    "import talib\n",
    "CURRENT_PATH = os.getcwd()"
   ]
  },
  {
   "cell_type": "code",
   "execution_count": 2,
   "metadata": {},
   "outputs": [],
   "source": [
    "def train(\n",
    "    DATASET_NAME, \n",
    "    split_point='2018-01-01', \n",
    "    begin_date='2010-01-01', \n",
    "    end_date='2020-08-24', \n",
    "    model_start_date=\"\",\n",
    "    model_end_date=\"\",\n",
    "    initial_investment=1000,\n",
    "    transaction_cost=0.0001,\n",
    "    load_from_file=True,\n",
    "    reward_type=\"profit\",\n",
    "    seed=42, \n",
    "    state_mode=1,\n",
    "    n_episodes=5,\n",
    "    lamb=0.0001,\n",
    "    GAMMA=0.7, \n",
    "    n_step=5, \n",
    "    BATCH_SIZE=10, \n",
    "    ReplayMemorySize=20,\n",
    "    TARGET_UPDATE=5,\n",
    "    window_size=None, \n",
    "    train_portfolios={},\n",
    "    test_portfolios={},\n",
    "    arms=[],\n",
    "    show_all = False,\n",
    "    ratio_threshold=0.9,\n",
    "):\n",
    "    data_loader = DataLoader(DATASET_NAME, split_point=split_point, begin_date=begin_date, end_date=end_date, load_from_file=load_from_file)\n",
    "    \n",
    "    dataTrain_agent = DataRLAgent(data_loader.data_train, state_mode, 'action_encoder_decoder', device, GAMMA, n_step, BATCH_SIZE, window_size, transaction_cost)\n",
    "    dataTest_agent = DataRLAgent(data_loader.data_test, state_mode, 'action_encoder_decoder', device, GAMMA, n_step, BATCH_SIZE, window_size, transaction_cost)\n",
    "    \n",
    "    np.random.seed(seed)\n",
    "    random.seed(seed)\n",
    "    torch.manual_seed(seed)\n",
    "\n",
    "    agent = DeepRL(data_loader, dataTrain_agent, dataTest_agent, \n",
    "                DATASET_NAME,  state_mode, window_size, transaction_cost,\n",
    "                BATCH_SIZE=BATCH_SIZE, GAMMA=GAMMA, ReplayMemorySize=ReplayMemorySize,\n",
    "                TARGET_UPDATE=TARGET_UPDATE, n_step=n_step, arms=arms)\n",
    "    \n",
    "    path = f\"./Results/{DATASET_NAME}/{model_start_date}~{model_end_date}/{seed}/train\"\n",
    "    arm = arms[0]\n",
    "    name = f'{arm[\"name\"]}_{arm[\"lamb\"]}'\n",
    "    model_path = f\"{path}/model_{name}_{seed}.pkl\"\n",
    "    agent_test = agent.test_CCI(initial_investment=initial_investment, test_type='test', model_path=model_path, symbol=DATASET_NAME)\n",
    "    test_portfolio = agent_test.get_daily_portfolio_value()\n",
    "    test_portfolio = pd.Series(test_portfolio).pct_change(1).fillna(0).values.tolist() \n",
    "    model_name = f'DQN-stock:{DATASET_NAME}-reward:{name}-seed:{seed}'\n",
    "    return data_loader, {\"name\": model_name, \"portfo\": test_portfolio}"
   ]
  },
  {
   "cell_type": "code",
   "execution_count": 34,
   "metadata": {},
   "outputs": [
    {
     "name": "stdout",
     "output_type": "stream",
     "text": [
      "AAPL\n"
     ]
    },
    {
     "name": "stderr",
     "output_type": "stream",
     "text": [
      "100%|██████████| 1/1 [00:00<00:00,  1.68it/s]\n"
     ]
    },
    {
     "name": "stdout",
     "output_type": "stream",
     "text": [
      "AMGN\n"
     ]
    },
    {
     "name": "stderr",
     "output_type": "stream",
     "text": [
      "100%|██████████| 1/1 [00:00<00:00,  1.91it/s]\n"
     ]
    },
    {
     "name": "stdout",
     "output_type": "stream",
     "text": [
      "AXP\n"
     ]
    },
    {
     "name": "stderr",
     "output_type": "stream",
     "text": [
      "100%|██████████| 1/1 [00:00<00:00,  1.96it/s]\n"
     ]
    },
    {
     "name": "stdout",
     "output_type": "stream",
     "text": [
      "BA\n"
     ]
    },
    {
     "name": "stderr",
     "output_type": "stream",
     "text": [
      "100%|██████████| 1/1 [00:00<00:00,  2.05it/s]\n"
     ]
    },
    {
     "name": "stdout",
     "output_type": "stream",
     "text": [
      "CAT\n"
     ]
    },
    {
     "name": "stderr",
     "output_type": "stream",
     "text": [
      "100%|██████████| 1/1 [00:00<00:00,  1.72it/s]\n"
     ]
    },
    {
     "name": "stdout",
     "output_type": "stream",
     "text": [
      "CRM\n"
     ]
    },
    {
     "name": "stderr",
     "output_type": "stream",
     "text": [
      "100%|██████████| 1/1 [00:00<00:00,  1.54it/s]\n"
     ]
    },
    {
     "name": "stdout",
     "output_type": "stream",
     "text": [
      "CSCO\n"
     ]
    },
    {
     "name": "stderr",
     "output_type": "stream",
     "text": [
      "100%|██████████| 1/1 [00:00<00:00,  1.74it/s]\n"
     ]
    },
    {
     "name": "stdout",
     "output_type": "stream",
     "text": [
      "CVX\n"
     ]
    },
    {
     "name": "stderr",
     "output_type": "stream",
     "text": [
      "100%|██████████| 1/1 [00:00<00:00,  2.00it/s]\n"
     ]
    },
    {
     "name": "stdout",
     "output_type": "stream",
     "text": [
      "DIS\n"
     ]
    },
    {
     "name": "stderr",
     "output_type": "stream",
     "text": [
      "100%|██████████| 1/1 [00:00<00:00,  1.96it/s]\n"
     ]
    },
    {
     "name": "stdout",
     "output_type": "stream",
     "text": [
      "GS\n"
     ]
    },
    {
     "name": "stderr",
     "output_type": "stream",
     "text": [
      "100%|██████████| 1/1 [00:00<00:00,  1.70it/s]\n"
     ]
    },
    {
     "name": "stdout",
     "output_type": "stream",
     "text": [
      "HD\n"
     ]
    },
    {
     "name": "stderr",
     "output_type": "stream",
     "text": [
      "100%|██████████| 1/1 [00:00<00:00,  1.74it/s]\n"
     ]
    },
    {
     "name": "stdout",
     "output_type": "stream",
     "text": [
      "HON\n"
     ]
    },
    {
     "name": "stderr",
     "output_type": "stream",
     "text": [
      "100%|██████████| 1/1 [00:00<00:00,  1.73it/s]\n"
     ]
    },
    {
     "name": "stdout",
     "output_type": "stream",
     "text": [
      "IBM\n"
     ]
    },
    {
     "name": "stderr",
     "output_type": "stream",
     "text": [
      "100%|██████████| 1/1 [00:00<00:00,  1.83it/s]\n"
     ]
    },
    {
     "name": "stdout",
     "output_type": "stream",
     "text": [
      "INTC\n"
     ]
    },
    {
     "name": "stderr",
     "output_type": "stream",
     "text": [
      "100%|██████████| 1/1 [00:00<00:00,  1.83it/s]\n"
     ]
    },
    {
     "name": "stdout",
     "output_type": "stream",
     "text": [
      "JNJ\n"
     ]
    },
    {
     "name": "stderr",
     "output_type": "stream",
     "text": [
      "100%|██████████| 1/1 [00:00<00:00,  1.92it/s]\n"
     ]
    },
    {
     "name": "stdout",
     "output_type": "stream",
     "text": [
      "JPM\n"
     ]
    },
    {
     "name": "stderr",
     "output_type": "stream",
     "text": [
      "100%|██████████| 1/1 [00:00<00:00,  1.95it/s]\n"
     ]
    },
    {
     "name": "stdout",
     "output_type": "stream",
     "text": [
      "KO\n"
     ]
    },
    {
     "name": "stderr",
     "output_type": "stream",
     "text": [
      "100%|██████████| 1/1 [00:00<00:00,  1.75it/s]\n"
     ]
    },
    {
     "name": "stdout",
     "output_type": "stream",
     "text": [
      "MCD\n"
     ]
    },
    {
     "name": "stderr",
     "output_type": "stream",
     "text": [
      "100%|██████████| 1/1 [00:00<00:00,  1.85it/s]\n"
     ]
    },
    {
     "name": "stdout",
     "output_type": "stream",
     "text": [
      "MMM\n"
     ]
    },
    {
     "name": "stderr",
     "output_type": "stream",
     "text": [
      "100%|██████████| 1/1 [00:00<00:00,  1.80it/s]\n"
     ]
    },
    {
     "name": "stdout",
     "output_type": "stream",
     "text": [
      "MRK\n"
     ]
    },
    {
     "name": "stderr",
     "output_type": "stream",
     "text": [
      "100%|██████████| 1/1 [00:00<00:00,  1.79it/s]\n"
     ]
    },
    {
     "name": "stdout",
     "output_type": "stream",
     "text": [
      "MSFT\n"
     ]
    },
    {
     "name": "stderr",
     "output_type": "stream",
     "text": [
      "100%|██████████| 1/1 [00:00<00:00,  1.33it/s]\n"
     ]
    },
    {
     "name": "stdout",
     "output_type": "stream",
     "text": [
      "NKE\n"
     ]
    },
    {
     "name": "stderr",
     "output_type": "stream",
     "text": [
      "100%|██████████| 1/1 [00:00<00:00,  1.22it/s]\n"
     ]
    },
    {
     "name": "stdout",
     "output_type": "stream",
     "text": [
      "PG\n"
     ]
    },
    {
     "name": "stderr",
     "output_type": "stream",
     "text": [
      "100%|██████████| 1/1 [00:00<00:00,  1.13it/s]\n"
     ]
    },
    {
     "name": "stdout",
     "output_type": "stream",
     "text": [
      "TRV\n"
     ]
    },
    {
     "name": "stderr",
     "output_type": "stream",
     "text": [
      "100%|██████████| 1/1 [00:00<00:00,  1.21it/s]\n"
     ]
    },
    {
     "name": "stdout",
     "output_type": "stream",
     "text": [
      "UNH\n"
     ]
    },
    {
     "name": "stderr",
     "output_type": "stream",
     "text": [
      "100%|██████████| 1/1 [00:00<00:00,  1.12it/s]\n"
     ]
    },
    {
     "name": "stdout",
     "output_type": "stream",
     "text": [
      "V\n"
     ]
    },
    {
     "name": "stderr",
     "output_type": "stream",
     "text": [
      "100%|██████████| 1/1 [00:00<00:00,  1.19it/s]\n"
     ]
    },
    {
     "name": "stdout",
     "output_type": "stream",
     "text": [
      "VZ\n"
     ]
    },
    {
     "name": "stderr",
     "output_type": "stream",
     "text": [
      "100%|██████████| 1/1 [00:00<00:00,  1.28it/s]\n"
     ]
    },
    {
     "name": "stdout",
     "output_type": "stream",
     "text": [
      "WBA\n"
     ]
    },
    {
     "name": "stderr",
     "output_type": "stream",
     "text": [
      "100%|██████████| 1/1 [00:00<00:00,  1.23it/s]\n"
     ]
    },
    {
     "name": "stdout",
     "output_type": "stream",
     "text": [
      "WMT\n"
     ]
    },
    {
     "name": "stderr",
     "output_type": "stream",
     "text": [
      "100%|██████████| 1/1 [00:00<00:00,  1.14it/s]\n"
     ]
    }
   ],
   "source": [
    "initial_investment = 1000\n",
    "\n",
    "\n",
    "kwargs = {\n",
    "    \"load_from_file\": True, \n",
    "    \"transaction_cost\": 0.0000,\n",
    "    \"initial_investment\": initial_investment,\n",
    "    \"state_mode\": 1,\n",
    "    \"GAMMA\": 0.7, \n",
    "    \"n_step\": 5, \n",
    "    \"BATCH_SIZE\": 10, \n",
    "    \"ReplayMemorySize\": 20,\n",
    "    \"TARGET_UPDATE\": 5,\n",
    "    \"window_size\": None, \n",
    "    \"lamb\": 0.0,\n",
    "}\n",
    "\n",
    "_file = \"AAPL\"\n",
    "\n",
    "_begin_date = '20{}-01-01'\n",
    "_end_date = '20{}-01-01'\n",
    "_split_point = '20{}-01-01' \n",
    "\n",
    "arms = [\n",
    "    { \"name\": \"profit\", \"lamb\": 0},\n",
    "]\n",
    "\n",
    "dates = [\n",
    "    (\"2019-06-23\", \"2020-06-22\", \"2016-01-01\", \"2019-01-01\"),\n",
    "    (\"2020-06-22\", \"2021-06-22\", \"2017-01-01\", \"2020-01-01\"),\n",
    "    (\"2021-06-23\", \"2022-06-23\", \"2018-01-01\", \"2021-01-01\"),\n",
    "]\n",
    "\n",
    "random_seeds = 1\n",
    "results = []\n",
    "portfolios_saved = {}\n",
    "files = sorted(os.listdir(\"./Data/\"))\n",
    "for _file in files[:]:\n",
    "    print(_file)\n",
    "    portfolios_saved[_file] = {}\n",
    "\n",
    "    for idx, arm in enumerate(arms[:]):\n",
    "        results2 = []\n",
    "        portfolios_saved[_file][f\"{arm['name']}-{arm['lamb']}\"] = []\n",
    "        \n",
    "        for seed in tqdm(range(random_seeds)):\n",
    "            \n",
    "            ls = []\n",
    "            bhs = []\n",
    "        \n",
    "            train_portfolios = {}\n",
    "            test_portfolios = {}\n",
    "            tmp_result = []\n",
    "            \n",
    "            for date in dates:\n",
    "                model_start_date = date[2]\n",
    "                model_end_date = date[3]\n",
    "                split_point = date[0]\n",
    "                end_date = date[1]\n",
    "\n",
    "                kwargs.update({\n",
    "                    \"begin_date\": \"2016-01-01\", \n",
    "                    \"end_date\": end_date, \n",
    "                    \"split_point\": split_point,\n",
    "                    \"model_start_date\": model_start_date,\n",
    "                    \"model_end_date\": model_end_date,\n",
    "                    \"DATASET_NAME\": _file,\n",
    "                    \"reward_type\": \"\",\n",
    "                    \"seed\": seed,\n",
    "                    \"n_episodes\": 140,\n",
    "                    \"arms\": [arm],\n",
    "                    \"show_all\": True,\n",
    "                    \"ratio_threshold\": 3,\n",
    "                    \"train_portfolios\": train_portfolios,\n",
    "                    \"test_portfolios\": test_portfolios,\n",
    "                })\n",
    "\n",
    "                data_loader, model = train(**kwargs)\n",
    "                ls.extend(model[\"portfo\"])\n",
    "                bh = data_loader.data_test_with_date[\"close\"]\n",
    "                bhs.append(bh)\n",
    "                tmp_result.extend(model[\"portfo\"])\n",
    "\n",
    "            add_test_portfo(test_portfolios, seed, ls)\n",
    "            if seed == 0: \n",
    "                bhs = pd.concat(bhs, axis=0)\n",
    "                bh_percentage = bhs.pct_change(1).fillna(0).values\n",
    "                add_test_portfo(test_portfolios, 'B&H', bh_percentage)\n",
    "            indexes = calc_return(bh_percentage, test_portfolios)\n",
    "            results2.append(indexes)\n",
    "            portfolios_saved[_file][f\"{arm['name']}-{arm['lamb']}\"].append(tmp_result)\n",
    "\n",
    "        path = f\"./Results/{_file}/exp3_concat\"\n",
    "        if not os.path.exists(path):\n",
    "            os.mkdir(path)\n",
    "        \n",
    "        save_path = f\"{path}/CCI.csv\"\n",
    "\n",
    "        portfolios_saved[_file][f\"{arm['name']}-{arm['lamb']}\"].insert(0, bh_percentage.tolist())\n",
    "        _df_ = pd.DataFrame(portfolios_saved[_file][f\"{arm['name']}-{arm['lamb']}\"]).T.fillna(0)\n",
    "        _df_.to_csv(save_path, index=False)\n",
    "\n",
    "        results2_df = pd.concat(results2, axis=1)\n",
    "        results2_bh = results2_df[\"B&H\"]\n",
    "        del results2_df[\"B&H\"]\n",
    "        final = pd.concat([\n",
    "            results2_bh,\n",
    "            results2_df.median(axis=1)\n",
    "        ], axis=1)\n",
    "        final.columns = [f\"{_file}-B&H\", f\"{_file}-{arm['name']}-{arm['lamb']}\"]\n",
    "        if idx > 0:\n",
    "            del final[f\"{_file}-B&H\"]\n",
    "        results.append(final)\n"
   ]
  },
  {
   "cell_type": "code",
   "execution_count": null,
   "metadata": {},
   "outputs": [],
   "source": []
  },
  {
   "cell_type": "code",
   "execution_count": null,
   "metadata": {},
   "outputs": [],
   "source": []
  },
  {
   "cell_type": "code",
   "execution_count": null,
   "metadata": {},
   "outputs": [],
   "source": []
  },
  {
   "cell_type": "code",
   "execution_count": 4,
   "metadata": {},
   "outputs": [],
   "source": [
    "def output_bh(symbol):\n",
    "    raw_df = pd.read_csv(f\"./Data/{symbol}/{symbol}.csv\")\n",
    "    raw_df = raw_df[[\"Date\", \"Close\"]]\n",
    "    raw_df[\"pct\"] = raw_df[\"Close\"].pct_change(1)\n",
    "    raw_df = raw_df.query(\"Date >= '2016-01-01'\")\n",
    "    raw_df = raw_df.set_index(\"Date\")\n",
    "    del raw_df[\"Close\"]\n",
    "    raw_df = raw_df.reset_index()\n",
    "    dates = [\n",
    "        (\"2019-06-23\", \"2020-06-22\", \"2016-01-01\", \"2019-01-01\"),\n",
    "        (\"2020-06-22\", \"2021-06-22\", \"2017-01-01\", \"2020-01-01\"),\n",
    "        (\"2021-06-23\", \"2022-06-23\", \"2018-01-01\", \"2021-01-01\"),\n",
    "    ]\n",
    "    ls = []\n",
    "    for date in dates:\n",
    "        date1, date2, _, _ = date\n",
    "        ls.append(raw_df.query(f\"Date >= '{date1}' & Date <= '{date2}'\"))\n",
    "    bh = pd.concat(ls)\n",
    "    bh.reset_index(inplace=True)\n",
    "    del bh[\"index\"]\n",
    "    return bh\n",
    "\n",
    "symbol = \"AAPL\"\n",
    "# output_bh(symbol)"
   ]
  },
  {
   "cell_type": "code",
   "execution_count": 9,
   "metadata": {},
   "outputs": [
    {
     "data": {
      "text/html": [
       "<div>\n",
       "<style scoped>\n",
       "    .dataframe tbody tr th:only-of-type {\n",
       "        vertical-align: middle;\n",
       "    }\n",
       "\n",
       "    .dataframe tbody tr th {\n",
       "        vertical-align: top;\n",
       "    }\n",
       "\n",
       "    .dataframe thead th {\n",
       "        text-align: right;\n",
       "    }\n",
       "</style>\n",
       "<table border=\"1\" class=\"dataframe\">\n",
       "  <thead>\n",
       "    <tr style=\"text-align: right;\">\n",
       "      <th></th>\n",
       "      <th>AAPL-B&amp;H</th>\n",
       "      <th>AAPL-CCI</th>\n",
       "      <th>AMGN-B&amp;H</th>\n",
       "      <th>AMGN-CCI</th>\n",
       "      <th>AXP-B&amp;H</th>\n",
       "      <th>AXP-CCI</th>\n",
       "      <th>BA-B&amp;H</th>\n",
       "      <th>BA-CCI</th>\n",
       "      <th>CAT-B&amp;H</th>\n",
       "      <th>CAT-CCI</th>\n",
       "      <th>...</th>\n",
       "      <th>UNH-B&amp;H</th>\n",
       "      <th>UNH-CCI</th>\n",
       "      <th>V-B&amp;H</th>\n",
       "      <th>V-CCI</th>\n",
       "      <th>VZ-B&amp;H</th>\n",
       "      <th>VZ-CCI</th>\n",
       "      <th>WBA-B&amp;H</th>\n",
       "      <th>WBA-CCI</th>\n",
       "      <th>WMT-B&amp;H</th>\n",
       "      <th>WMT-CCI</th>\n",
       "    </tr>\n",
       "    <tr>\n",
       "      <th>date</th>\n",
       "      <th></th>\n",
       "      <th></th>\n",
       "      <th></th>\n",
       "      <th></th>\n",
       "      <th></th>\n",
       "      <th></th>\n",
       "      <th></th>\n",
       "      <th></th>\n",
       "      <th></th>\n",
       "      <th></th>\n",
       "      <th></th>\n",
       "      <th></th>\n",
       "      <th></th>\n",
       "      <th></th>\n",
       "      <th></th>\n",
       "      <th></th>\n",
       "      <th></th>\n",
       "      <th></th>\n",
       "      <th></th>\n",
       "      <th></th>\n",
       "      <th></th>\n",
       "    </tr>\n",
       "  </thead>\n",
       "  <tbody>\n",
       "    <tr>\n",
       "      <th>2019-06-24</th>\n",
       "      <td>-0.001006</td>\n",
       "      <td>0.000000e+00</td>\n",
       "      <td>-0.012185</td>\n",
       "      <td>0.000000</td>\n",
       "      <td>-0.004730</td>\n",
       "      <td>0.000000e+00</td>\n",
       "      <td>0.005782</td>\n",
       "      <td>0.000000</td>\n",
       "      <td>0.003585</td>\n",
       "      <td>0.000000</td>\n",
       "      <td>...</td>\n",
       "      <td>-0.010465</td>\n",
       "      <td>0.000000</td>\n",
       "      <td>0.002364</td>\n",
       "      <td>0.000000e+00</td>\n",
       "      <td>0.008655</td>\n",
       "      <td>0.000000e+00</td>\n",
       "      <td>-0.009533</td>\n",
       "      <td>0.0</td>\n",
       "      <td>0.000990</td>\n",
       "      <td>0.000000</td>\n",
       "    </tr>\n",
       "    <tr>\n",
       "      <th>2019-06-25</th>\n",
       "      <td>-0.015158</td>\n",
       "      <td>0.000000e+00</td>\n",
       "      <td>-0.002110</td>\n",
       "      <td>0.000000</td>\n",
       "      <td>-0.007894</td>\n",
       "      <td>0.000000e+00</td>\n",
       "      <td>-0.012487</td>\n",
       "      <td>0.000000</td>\n",
       "      <td>-0.004912</td>\n",
       "      <td>0.000000</td>\n",
       "      <td>...</td>\n",
       "      <td>-0.007931</td>\n",
       "      <td>0.000000</td>\n",
       "      <td>-0.014783</td>\n",
       "      <td>0.000000e+00</td>\n",
       "      <td>-0.004634</td>\n",
       "      <td>0.000000e+00</td>\n",
       "      <td>0.019249</td>\n",
       "      <td>0.0</td>\n",
       "      <td>-0.004675</td>\n",
       "      <td>0.000000</td>\n",
       "    </tr>\n",
       "    <tr>\n",
       "      <th>2019-06-26</th>\n",
       "      <td>0.021629</td>\n",
       "      <td>0.000000e+00</td>\n",
       "      <td>-0.006886</td>\n",
       "      <td>-0.006886</td>\n",
       "      <td>0.003491</td>\n",
       "      <td>0.000000e+00</td>\n",
       "      <td>0.015217</td>\n",
       "      <td>0.015217</td>\n",
       "      <td>0.010769</td>\n",
       "      <td>0.010769</td>\n",
       "      <td>...</td>\n",
       "      <td>-0.016918</td>\n",
       "      <td>-0.016918</td>\n",
       "      <td>-0.001284</td>\n",
       "      <td>-1.284369e-03</td>\n",
       "      <td>-0.017414</td>\n",
       "      <td>-1.741384e-02</td>\n",
       "      <td>-0.010765</td>\n",
       "      <td>0.0</td>\n",
       "      <td>-0.005058</td>\n",
       "      <td>-0.005058</td>\n",
       "    </tr>\n",
       "    <tr>\n",
       "      <th>2019-06-27</th>\n",
       "      <td>-0.000300</td>\n",
       "      <td>0.000000e+00</td>\n",
       "      <td>0.004640</td>\n",
       "      <td>0.004640</td>\n",
       "      <td>0.002832</td>\n",
       "      <td>0.000000e+00</td>\n",
       "      <td>-0.029125</td>\n",
       "      <td>-0.029125</td>\n",
       "      <td>0.002590</td>\n",
       "      <td>0.002590</td>\n",
       "      <td>...</td>\n",
       "      <td>0.011788</td>\n",
       "      <td>0.011788</td>\n",
       "      <td>0.000994</td>\n",
       "      <td>9.938594e-04</td>\n",
       "      <td>0.004562</td>\n",
       "      <td>4.562076e-03</td>\n",
       "      <td>0.040855</td>\n",
       "      <td>0.0</td>\n",
       "      <td>-0.000545</td>\n",
       "      <td>-0.000545</td>\n",
       "    </tr>\n",
       "    <tr>\n",
       "      <th>2019-06-28</th>\n",
       "      <td>-0.009112</td>\n",
       "      <td>0.000000e+00</td>\n",
       "      <td>0.001413</td>\n",
       "      <td>0.001413</td>\n",
       "      <td>-0.004034</td>\n",
       "      <td>0.000000e+00</td>\n",
       "      <td>-0.000027</td>\n",
       "      <td>-0.000027</td>\n",
       "      <td>0.005830</td>\n",
       "      <td>0.005830</td>\n",
       "      <td>...</td>\n",
       "      <td>-0.009458</td>\n",
       "      <td>-0.009458</td>\n",
       "      <td>0.013549</td>\n",
       "      <td>1.354889e-02</td>\n",
       "      <td>-0.002096</td>\n",
       "      <td>-2.095940e-03</td>\n",
       "      <td>0.002751</td>\n",
       "      <td>0.0</td>\n",
       "      <td>0.003542</td>\n",
       "      <td>0.003542</td>\n",
       "    </tr>\n",
       "    <tr>\n",
       "      <th>...</th>\n",
       "      <td>...</td>\n",
       "      <td>...</td>\n",
       "      <td>...</td>\n",
       "      <td>...</td>\n",
       "      <td>...</td>\n",
       "      <td>...</td>\n",
       "      <td>...</td>\n",
       "      <td>...</td>\n",
       "      <td>...</td>\n",
       "      <td>...</td>\n",
       "      <td>...</td>\n",
       "      <td>...</td>\n",
       "      <td>...</td>\n",
       "      <td>...</td>\n",
       "      <td>...</td>\n",
       "      <td>...</td>\n",
       "      <td>...</td>\n",
       "      <td>...</td>\n",
       "      <td>...</td>\n",
       "      <td>...</td>\n",
       "      <td>...</td>\n",
       "    </tr>\n",
       "    <tr>\n",
       "      <th>2022-06-16</th>\n",
       "      <td>-0.039651</td>\n",
       "      <td>-2.220446e-16</td>\n",
       "      <td>-0.020672</td>\n",
       "      <td>0.000000</td>\n",
       "      <td>-0.059636</td>\n",
       "      <td>2.220446e-16</td>\n",
       "      <td>-0.002692</td>\n",
       "      <td>0.054376</td>\n",
       "      <td>-0.054417</td>\n",
       "      <td>-0.000918</td>\n",
       "      <td>...</td>\n",
       "      <td>-0.014243</td>\n",
       "      <td>0.000000</td>\n",
       "      <td>-0.036246</td>\n",
       "      <td>2.220446e-16</td>\n",
       "      <td>-0.006307</td>\n",
       "      <td>-8.671076e-03</td>\n",
       "      <td>-0.026025</td>\n",
       "      <td>0.0</td>\n",
       "      <td>0.010387</td>\n",
       "      <td>0.000000</td>\n",
       "    </tr>\n",
       "    <tr>\n",
       "      <th>2022-06-17</th>\n",
       "      <td>0.011533</td>\n",
       "      <td>0.000000e+00</td>\n",
       "      <td>0.017381</td>\n",
       "      <td>0.000000</td>\n",
       "      <td>0.048582</td>\n",
       "      <td>0.000000e+00</td>\n",
       "      <td>0.025795</td>\n",
       "      <td>0.000000</td>\n",
       "      <td>-0.011038</td>\n",
       "      <td>0.000000</td>\n",
       "      <td>...</td>\n",
       "      <td>-0.008836</td>\n",
       "      <td>0.000000</td>\n",
       "      <td>0.005078</td>\n",
       "      <td>0.000000e+00</td>\n",
       "      <td>0.003890</td>\n",
       "      <td>-2.220446e-16</td>\n",
       "      <td>-0.008823</td>\n",
       "      <td>0.0</td>\n",
       "      <td>-0.019317</td>\n",
       "      <td>0.000000</td>\n",
       "    </tr>\n",
       "    <tr>\n",
       "      <th>2022-06-21</th>\n",
       "      <td>0.032761</td>\n",
       "      <td>0.000000e+00</td>\n",
       "      <td>0.015721</td>\n",
       "      <td>0.000000</td>\n",
       "      <td>0.004023</td>\n",
       "      <td>0.000000e+00</td>\n",
       "      <td>-0.000366</td>\n",
       "      <td>0.000000</td>\n",
       "      <td>0.019363</td>\n",
       "      <td>0.000000</td>\n",
       "      <td>...</td>\n",
       "      <td>0.062514</td>\n",
       "      <td>0.000000</td>\n",
       "      <td>0.023051</td>\n",
       "      <td>0.000000e+00</td>\n",
       "      <td>0.033041</td>\n",
       "      <td>0.000000e+00</td>\n",
       "      <td>0.019837</td>\n",
       "      <td>0.0</td>\n",
       "      <td>0.032801</td>\n",
       "      <td>0.000000</td>\n",
       "    </tr>\n",
       "    <tr>\n",
       "      <th>2022-06-22</th>\n",
       "      <td>-0.003827</td>\n",
       "      <td>0.000000e+00</td>\n",
       "      <td>0.007256</td>\n",
       "      <td>0.000000</td>\n",
       "      <td>-0.002556</td>\n",
       "      <td>0.000000e+00</td>\n",
       "      <td>0.002998</td>\n",
       "      <td>0.000000</td>\n",
       "      <td>-0.043489</td>\n",
       "      <td>0.000000</td>\n",
       "      <td>...</td>\n",
       "      <td>0.019487</td>\n",
       "      <td>0.000000</td>\n",
       "      <td>-0.002932</td>\n",
       "      <td>0.000000e+00</td>\n",
       "      <td>0.002764</td>\n",
       "      <td>0.000000e+00</td>\n",
       "      <td>0.008728</td>\n",
       "      <td>0.0</td>\n",
       "      <td>-0.012114</td>\n",
       "      <td>0.000000</td>\n",
       "    </tr>\n",
       "    <tr>\n",
       "      <th>2022-06-23</th>\n",
       "      <td>0.021574</td>\n",
       "      <td>0.000000e+00</td>\n",
       "      <td>0.012284</td>\n",
       "      <td>0.000000</td>\n",
       "      <td>-0.018976</td>\n",
       "      <td>0.000000e+00</td>\n",
       "      <td>-0.023258</td>\n",
       "      <td>0.000000</td>\n",
       "      <td>-0.048768</td>\n",
       "      <td>0.000000</td>\n",
       "      <td>...</td>\n",
       "      <td>0.020687</td>\n",
       "      <td>0.000000</td>\n",
       "      <td>0.014550</td>\n",
       "      <td>0.000000e+00</td>\n",
       "      <td>0.025596</td>\n",
       "      <td>0.000000e+00</td>\n",
       "      <td>0.010878</td>\n",
       "      <td>0.0</td>\n",
       "      <td>0.024277</td>\n",
       "      <td>0.000000</td>\n",
       "    </tr>\n",
       "  </tbody>\n",
       "</table>\n",
       "<p>758 rows × 58 columns</p>\n",
       "</div>"
      ],
      "text/plain": [
       "            AAPL-B&H      AAPL-CCI  AMGN-B&H  AMGN-CCI   AXP-B&H  \\\n",
       "date                                                               \n",
       "2019-06-24 -0.001006  0.000000e+00 -0.012185  0.000000 -0.004730   \n",
       "2019-06-25 -0.015158  0.000000e+00 -0.002110  0.000000 -0.007894   \n",
       "2019-06-26  0.021629  0.000000e+00 -0.006886 -0.006886  0.003491   \n",
       "2019-06-27 -0.000300  0.000000e+00  0.004640  0.004640  0.002832   \n",
       "2019-06-28 -0.009112  0.000000e+00  0.001413  0.001413 -0.004034   \n",
       "...              ...           ...       ...       ...       ...   \n",
       "2022-06-16 -0.039651 -2.220446e-16 -0.020672  0.000000 -0.059636   \n",
       "2022-06-17  0.011533  0.000000e+00  0.017381  0.000000  0.048582   \n",
       "2022-06-21  0.032761  0.000000e+00  0.015721  0.000000  0.004023   \n",
       "2022-06-22 -0.003827  0.000000e+00  0.007256  0.000000 -0.002556   \n",
       "2022-06-23  0.021574  0.000000e+00  0.012284  0.000000 -0.018976   \n",
       "\n",
       "                 AXP-CCI    BA-B&H    BA-CCI   CAT-B&H   CAT-CCI  ...  \\\n",
       "date                                                              ...   \n",
       "2019-06-24  0.000000e+00  0.005782  0.000000  0.003585  0.000000  ...   \n",
       "2019-06-25  0.000000e+00 -0.012487  0.000000 -0.004912  0.000000  ...   \n",
       "2019-06-26  0.000000e+00  0.015217  0.015217  0.010769  0.010769  ...   \n",
       "2019-06-27  0.000000e+00 -0.029125 -0.029125  0.002590  0.002590  ...   \n",
       "2019-06-28  0.000000e+00 -0.000027 -0.000027  0.005830  0.005830  ...   \n",
       "...                  ...       ...       ...       ...       ...  ...   \n",
       "2022-06-16  2.220446e-16 -0.002692  0.054376 -0.054417 -0.000918  ...   \n",
       "2022-06-17  0.000000e+00  0.025795  0.000000 -0.011038  0.000000  ...   \n",
       "2022-06-21  0.000000e+00 -0.000366  0.000000  0.019363  0.000000  ...   \n",
       "2022-06-22  0.000000e+00  0.002998  0.000000 -0.043489  0.000000  ...   \n",
       "2022-06-23  0.000000e+00 -0.023258  0.000000 -0.048768  0.000000  ...   \n",
       "\n",
       "             UNH-B&H   UNH-CCI     V-B&H         V-CCI    VZ-B&H  \\\n",
       "date                                                               \n",
       "2019-06-24 -0.010465  0.000000  0.002364  0.000000e+00  0.008655   \n",
       "2019-06-25 -0.007931  0.000000 -0.014783  0.000000e+00 -0.004634   \n",
       "2019-06-26 -0.016918 -0.016918 -0.001284 -1.284369e-03 -0.017414   \n",
       "2019-06-27  0.011788  0.011788  0.000994  9.938594e-04  0.004562   \n",
       "2019-06-28 -0.009458 -0.009458  0.013549  1.354889e-02 -0.002096   \n",
       "...              ...       ...       ...           ...       ...   \n",
       "2022-06-16 -0.014243  0.000000 -0.036246  2.220446e-16 -0.006307   \n",
       "2022-06-17 -0.008836  0.000000  0.005078  0.000000e+00  0.003890   \n",
       "2022-06-21  0.062514  0.000000  0.023051  0.000000e+00  0.033041   \n",
       "2022-06-22  0.019487  0.000000 -0.002932  0.000000e+00  0.002764   \n",
       "2022-06-23  0.020687  0.000000  0.014550  0.000000e+00  0.025596   \n",
       "\n",
       "                  VZ-CCI   WBA-B&H  WBA-CCI   WMT-B&H   WMT-CCI  \n",
       "date                                                             \n",
       "2019-06-24  0.000000e+00 -0.009533      0.0  0.000990  0.000000  \n",
       "2019-06-25  0.000000e+00  0.019249      0.0 -0.004675  0.000000  \n",
       "2019-06-26 -1.741384e-02 -0.010765      0.0 -0.005058 -0.005058  \n",
       "2019-06-27  4.562076e-03  0.040855      0.0 -0.000545 -0.000545  \n",
       "2019-06-28 -2.095940e-03  0.002751      0.0  0.003542  0.003542  \n",
       "...                  ...       ...      ...       ...       ...  \n",
       "2022-06-16 -8.671076e-03 -0.026025      0.0  0.010387  0.000000  \n",
       "2022-06-17 -2.220446e-16 -0.008823      0.0 -0.019317  0.000000  \n",
       "2022-06-21  0.000000e+00  0.019837      0.0  0.032801  0.000000  \n",
       "2022-06-22  0.000000e+00  0.008728      0.0 -0.012114  0.000000  \n",
       "2022-06-23  0.000000e+00  0.010878      0.0  0.024277  0.000000  \n",
       "\n",
       "[758 rows x 58 columns]"
      ]
     },
     "execution_count": 9,
     "metadata": {},
     "output_type": "execute_result"
    }
   ],
   "source": [
    "symbols = list(portfolios_saved.keys())[:]\n",
    "# plt.style.use(\"ggplot\")\n",
    "# plt.rcParams[\"text.color\"] = \"black\"\n",
    "\n",
    "ls = []\n",
    "for symbol in symbols:\n",
    "    bh = output_bh(symbol)\n",
    "    res = pd.concat([\n",
    "        bh,\n",
    "        pd.DataFrame(portfolios_saved[symbol][\"profit-0\"]).T\n",
    "    ], axis=1).dropna()\n",
    "    res.columns = [\"Date\", f\"{symbol}-B&H\", f\"{symbol}-CCI\"]\n",
    "    # NOTE cumreturn\n",
    "    # res[f\"{symbol}-B&H\"] = (1 + res[f\"{symbol}-B&H\"]).cumprod() - 1\n",
    "    # res[f\"{symbol}-CCI\"] = (1 + res[f\"{symbol}-CCI\"]).cumprod() - 1 \n",
    "    date_ls = res[\"Date\"].tolist()\n",
    "    del res[\"Date\"]\n",
    "    ls.append(res)\n",
    "\n",
    "\n",
    "results_cumreturn = pd.concat(ls, axis=1)   \n",
    "results_cumreturn[\"date\"] = date_ls \n",
    "results_cumreturn = results_cumreturn.set_index(\"date\")\n",
    "results_cumreturn.to_csv(\"./ts-run-results/[exp3]CCI-returns.csv\",)\n",
    "# results_cumreturn.to_csv(\"./ts-run-results/[exp3]CCI-cumreturns.csv\")\n",
    "results_cumreturn"
   ]
  },
  {
   "cell_type": "code",
   "execution_count": 7,
   "metadata": {},
   "outputs": [
    {
     "data": {
      "text/plain": [
       "58"
      ]
     },
     "execution_count": 7,
     "metadata": {},
     "output_type": "execute_result"
    }
   ],
   "source": []
  },
  {
   "cell_type": "code",
   "execution_count": 32,
   "metadata": {},
   "outputs": [
    {
     "data": {
      "text/html": [
       "<div>\n",
       "<style scoped>\n",
       "    .dataframe tbody tr th:only-of-type {\n",
       "        vertical-align: middle;\n",
       "    }\n",
       "\n",
       "    .dataframe tbody tr th {\n",
       "        vertical-align: top;\n",
       "    }\n",
       "\n",
       "    .dataframe thead th {\n",
       "        text-align: right;\n",
       "    }\n",
       "</style>\n",
       "<table border=\"1\" class=\"dataframe\">\n",
       "  <thead>\n",
       "    <tr style=\"text-align: right;\">\n",
       "      <th></th>\n",
       "      <th>AAPL-B&amp;H</th>\n",
       "      <th>AAPL-CCI</th>\n",
       "    </tr>\n",
       "  </thead>\n",
       "  <tbody>\n",
       "    <tr>\n",
       "      <th>sortino_test</th>\n",
       "      <td>1.617304</td>\n",
       "      <td>1.817498</td>\n",
       "    </tr>\n",
       "    <tr>\n",
       "      <th>sharpe_test</th>\n",
       "      <td>1.170390</td>\n",
       "      <td>1.349268</td>\n",
       "    </tr>\n",
       "    <tr>\n",
       "      <th>risk_test</th>\n",
       "      <td>0.350629</td>\n",
       "      <td>0.227505</td>\n",
       "    </tr>\n",
       "    <tr>\n",
       "      <th>mdd_test</th>\n",
       "      <td>0.314273</td>\n",
       "      <td>0.199359</td>\n",
       "    </tr>\n",
       "    <tr>\n",
       "      <th>downrisk_test</th>\n",
       "      <td>0.253739</td>\n",
       "      <td>0.168894</td>\n",
       "    </tr>\n",
       "    <tr>\n",
       "      <th>cumreturn_test</th>\n",
       "      <td>1.853616</td>\n",
       "      <td>1.335226</td>\n",
       "    </tr>\n",
       "  </tbody>\n",
       "</table>\n",
       "</div>"
      ],
      "text/plain": [
       "                AAPL-B&H  AAPL-CCI\n",
       "sortino_test    1.617304  1.817498\n",
       "sharpe_test     1.170390  1.349268\n",
       "risk_test       0.350629  0.227505\n",
       "mdd_test        0.314273  0.199359\n",
       "downrisk_test   0.253739  0.168894\n",
       "cumreturn_test  1.853616  1.335226"
      ]
     },
     "execution_count": 32,
     "metadata": {},
     "output_type": "execute_result"
    }
   ],
   "source": [
    "results_df = pd.concat(results, axis=1)\n",
    "cols = results_df.columns\n",
    "ls = []\n",
    "for col in cols:\n",
    "    if \"B&H\" in col:\n",
    "        ls.append(col)\n",
    "    else:\n",
    "        symbol = col.split(\"-\")[0]\n",
    "        ls.append(f\"{symbol}-CCI\")\n",
    "\n",
    "results_df.columns = ls\n",
    "results_df.to_csv(f\"./ts-run-results/[exp3]CCI_reward.csv\")\n",
    "\n",
    "def find(symbol):\n",
    "    ls = []\n",
    "    for col in results_df.columns:\n",
    "        if symbol in col:\n",
    "            ls.append(col)\n",
    "\n",
    "    return results_df[ls]\n",
    "\n",
    "files = os.listdir(\"./Results/\")\n",
    "df = find(files[0])\n",
    "df\n"
   ]
  },
  {
   "cell_type": "code",
   "execution_count": 33,
   "metadata": {},
   "outputs": [
    {
     "data": {
      "text/html": [
       "<div>\n",
       "<style scoped>\n",
       "    .dataframe tbody tr th:only-of-type {\n",
       "        vertical-align: middle;\n",
       "    }\n",
       "\n",
       "    .dataframe tbody tr th {\n",
       "        vertical-align: top;\n",
       "    }\n",
       "\n",
       "    .dataframe thead th {\n",
       "        text-align: right;\n",
       "    }\n",
       "</style>\n",
       "<table border=\"1\" class=\"dataframe\">\n",
       "  <thead>\n",
       "    <tr style=\"text-align: right;\">\n",
       "      <th></th>\n",
       "      <th>AAPL-B&amp;H</th>\n",
       "      <th>AAPL-CCI</th>\n",
       "      <th>AMGN-B&amp;H</th>\n",
       "      <th>AMGN-CCI</th>\n",
       "      <th>AXP-B&amp;H</th>\n",
       "      <th>AXP-CCI</th>\n",
       "      <th>BA-B&amp;H</th>\n",
       "      <th>BA-CCI</th>\n",
       "      <th>CAT-B&amp;H</th>\n",
       "      <th>CAT-CCI</th>\n",
       "      <th>...</th>\n",
       "      <th>UNH-B&amp;H</th>\n",
       "      <th>UNH-CCI</th>\n",
       "      <th>V-B&amp;H</th>\n",
       "      <th>V-CCI</th>\n",
       "      <th>VZ-B&amp;H</th>\n",
       "      <th>VZ-CCI</th>\n",
       "      <th>WBA-B&amp;H</th>\n",
       "      <th>WBA-CCI</th>\n",
       "      <th>WMT-B&amp;H</th>\n",
       "      <th>WMT-CCI</th>\n",
       "    </tr>\n",
       "  </thead>\n",
       "  <tbody>\n",
       "    <tr>\n",
       "      <th>sortino_test</th>\n",
       "      <td>1.617304</td>\n",
       "      <td>1.817498</td>\n",
       "      <td>0.840163</td>\n",
       "      <td>0.648764</td>\n",
       "      <td>0.495938</td>\n",
       "      <td>-0.387433</td>\n",
       "      <td>-0.372984</td>\n",
       "      <td>-0.095640</td>\n",
       "      <td>0.703495</td>\n",
       "      <td>0.687743</td>\n",
       "      <td>...</td>\n",
       "      <td>1.216106</td>\n",
       "      <td>0.405619</td>\n",
       "      <td>0.413782</td>\n",
       "      <td>-0.328469</td>\n",
       "      <td>0.180898</td>\n",
       "      <td>-0.158368</td>\n",
       "      <td>0.091630</td>\n",
       "      <td>-0.438414</td>\n",
       "      <td>0.445148</td>\n",
       "      <td>1.001242</td>\n",
       "    </tr>\n",
       "    <tr>\n",
       "      <th>sharpe_test</th>\n",
       "      <td>1.170390</td>\n",
       "      <td>1.349268</td>\n",
       "      <td>0.571175</td>\n",
       "      <td>0.470785</td>\n",
       "      <td>0.347496</td>\n",
       "      <td>-0.338348</td>\n",
       "      <td>-0.268060</td>\n",
       "      <td>-0.095197</td>\n",
       "      <td>0.522063</td>\n",
       "      <td>0.505123</td>\n",
       "      <td>...</td>\n",
       "      <td>0.908069</td>\n",
       "      <td>0.296560</td>\n",
       "      <td>0.307648</td>\n",
       "      <td>-0.332762</td>\n",
       "      <td>0.130221</td>\n",
       "      <td>-0.163528</td>\n",
       "      <td>0.065749</td>\n",
       "      <td>-0.478067</td>\n",
       "      <td>0.333236</td>\n",
       "      <td>0.711160</td>\n",
       "    </tr>\n",
       "    <tr>\n",
       "      <th>risk_test</th>\n",
       "      <td>0.350629</td>\n",
       "      <td>0.227505</td>\n",
       "      <td>0.277822</td>\n",
       "      <td>0.173731</td>\n",
       "      <td>0.440863</td>\n",
       "      <td>0.238369</td>\n",
       "      <td>0.593144</td>\n",
       "      <td>0.298421</td>\n",
       "      <td>0.342866</td>\n",
       "      <td>0.223435</td>\n",
       "      <td>...</td>\n",
       "      <td>0.331632</td>\n",
       "      <td>0.189429</td>\n",
       "      <td>0.325757</td>\n",
       "      <td>0.188447</td>\n",
       "      <td>0.191906</td>\n",
       "      <td>0.108134</td>\n",
       "      <td>0.356151</td>\n",
       "      <td>0.228618</td>\n",
       "      <td>0.242593</td>\n",
       "      <td>0.158377</td>\n",
       "    </tr>\n",
       "    <tr>\n",
       "      <th>mdd_test</th>\n",
       "      <td>0.314273</td>\n",
       "      <td>0.199359</td>\n",
       "      <td>0.245339</td>\n",
       "      <td>0.252884</td>\n",
       "      <td>0.496385</td>\n",
       "      <td>0.356927</td>\n",
       "      <td>0.751524</td>\n",
       "      <td>0.463080</td>\n",
       "      <td>0.385543</td>\n",
       "      <td>0.191516</td>\n",
       "      <td>...</td>\n",
       "      <td>0.358999</td>\n",
       "      <td>0.183503</td>\n",
       "      <td>0.363649</td>\n",
       "      <td>0.369693</td>\n",
       "      <td>0.198201</td>\n",
       "      <td>0.173438</td>\n",
       "      <td>0.444402</td>\n",
       "      <td>0.453359</td>\n",
       "      <td>0.257397</td>\n",
       "      <td>0.136064</td>\n",
       "    </tr>\n",
       "    <tr>\n",
       "      <th>downrisk_test</th>\n",
       "      <td>0.253739</td>\n",
       "      <td>0.168894</td>\n",
       "      <td>0.188874</td>\n",
       "      <td>0.126070</td>\n",
       "      <td>0.308906</td>\n",
       "      <td>0.208169</td>\n",
       "      <td>0.426286</td>\n",
       "      <td>0.297040</td>\n",
       "      <td>0.254441</td>\n",
       "      <td>0.164105</td>\n",
       "      <td>...</td>\n",
       "      <td>0.247631</td>\n",
       "      <td>0.138497</td>\n",
       "      <td>0.242201</td>\n",
       "      <td>0.190910</td>\n",
       "      <td>0.138145</td>\n",
       "      <td>0.111657</td>\n",
       "      <td>0.255557</td>\n",
       "      <td>0.249296</td>\n",
       "      <td>0.181604</td>\n",
       "      <td>0.112492</td>\n",
       "    </tr>\n",
       "    <tr>\n",
       "      <th>cumreturn_test</th>\n",
       "      <td>1.853616</td>\n",
       "      <td>1.335226</td>\n",
       "      <td>0.436128</td>\n",
       "      <td>0.223210</td>\n",
       "      <td>0.189479</td>\n",
       "      <td>-0.280494</td>\n",
       "      <td>-0.635286</td>\n",
       "      <td>-0.196984</td>\n",
       "      <td>0.433928</td>\n",
       "      <td>0.303713</td>\n",
       "      <td>...</td>\n",
       "      <td>1.094994</td>\n",
       "      <td>0.122396</td>\n",
       "      <td>0.152682</td>\n",
       "      <td>-0.216055</td>\n",
       "      <td>0.020123</td>\n",
       "      <td>-0.068645</td>\n",
       "      <td>-0.113478</td>\n",
       "      <td>-0.335962</td>\n",
       "      <td>0.167342</td>\n",
       "      <td>0.353025</td>\n",
       "    </tr>\n",
       "  </tbody>\n",
       "</table>\n",
       "<p>6 rows × 58 columns</p>\n",
       "</div>"
      ],
      "text/plain": [
       "                AAPL-B&H  AAPL-CCI  AMGN-B&H  AMGN-CCI   AXP-B&H   AXP-CCI  \\\n",
       "sortino_test    1.617304  1.817498  0.840163  0.648764  0.495938 -0.387433   \n",
       "sharpe_test     1.170390  1.349268  0.571175  0.470785  0.347496 -0.338348   \n",
       "risk_test       0.350629  0.227505  0.277822  0.173731  0.440863  0.238369   \n",
       "mdd_test        0.314273  0.199359  0.245339  0.252884  0.496385  0.356927   \n",
       "downrisk_test   0.253739  0.168894  0.188874  0.126070  0.308906  0.208169   \n",
       "cumreturn_test  1.853616  1.335226  0.436128  0.223210  0.189479 -0.280494   \n",
       "\n",
       "                  BA-B&H    BA-CCI   CAT-B&H   CAT-CCI  ...   UNH-B&H  \\\n",
       "sortino_test   -0.372984 -0.095640  0.703495  0.687743  ...  1.216106   \n",
       "sharpe_test    -0.268060 -0.095197  0.522063  0.505123  ...  0.908069   \n",
       "risk_test       0.593144  0.298421  0.342866  0.223435  ...  0.331632   \n",
       "mdd_test        0.751524  0.463080  0.385543  0.191516  ...  0.358999   \n",
       "downrisk_test   0.426286  0.297040  0.254441  0.164105  ...  0.247631   \n",
       "cumreturn_test -0.635286 -0.196984  0.433928  0.303713  ...  1.094994   \n",
       "\n",
       "                 UNH-CCI     V-B&H     V-CCI    VZ-B&H    VZ-CCI   WBA-B&H  \\\n",
       "sortino_test    0.405619  0.413782 -0.328469  0.180898 -0.158368  0.091630   \n",
       "sharpe_test     0.296560  0.307648 -0.332762  0.130221 -0.163528  0.065749   \n",
       "risk_test       0.189429  0.325757  0.188447  0.191906  0.108134  0.356151   \n",
       "mdd_test        0.183503  0.363649  0.369693  0.198201  0.173438  0.444402   \n",
       "downrisk_test   0.138497  0.242201  0.190910  0.138145  0.111657  0.255557   \n",
       "cumreturn_test  0.122396  0.152682 -0.216055  0.020123 -0.068645 -0.113478   \n",
       "\n",
       "                 WBA-CCI   WMT-B&H   WMT-CCI  \n",
       "sortino_test   -0.438414  0.445148  1.001242  \n",
       "sharpe_test    -0.478067  0.333236  0.711160  \n",
       "risk_test       0.228618  0.242593  0.158377  \n",
       "mdd_test        0.453359  0.257397  0.136064  \n",
       "downrisk_test   0.249296  0.181604  0.112492  \n",
       "cumreturn_test -0.335962  0.167342  0.353025  \n",
       "\n",
       "[6 rows x 58 columns]"
      ]
     },
     "execution_count": 33,
     "metadata": {},
     "output_type": "execute_result"
    }
   ],
   "source": [
    "results_df"
   ]
  },
  {
   "cell_type": "code",
   "execution_count": null,
   "metadata": {},
   "outputs": [],
   "source": []
  }
 ],
 "metadata": {
  "kernelspec": {
   "display_name": "Python 3.9.13 ('base')",
   "language": "python",
   "name": "python3"
  },
  "language_info": {
   "codemirror_mode": {
    "name": "ipython",
    "version": 3
   },
   "file_extension": ".py",
   "mimetype": "text/x-python",
   "name": "python",
   "nbconvert_exporter": "python",
   "pygments_lexer": "ipython3",
   "version": "3.9.13"
  },
  "orig_nbformat": 4,
  "vscode": {
   "interpreter": {
    "hash": "13d8d4cd6f551a18c363f4a9a34e8382caadd65d1d29b8174a12246b9ecfe3e0"
   }
  }
 },
 "nbformat": 4,
 "nbformat_minor": 2
}
