{
 "cells": [
  {
   "cell_type": "code",
   "execution_count": 1,
   "metadata": {},
   "outputs": [],
   "source": [
    "import warnings\n",
    "warnings.filterwarnings(\"ignore\")\n",
    "\n",
    "import re\n",
    "import os\n",
    "import random\n",
    "import numpy as np\n",
    "import pandas as pd\n",
    "import matplotlib.pyplot as plt\n",
    "from tqdm import tqdm\n",
    "import torch\n",
    "\n",
    "from DataLoader.DataLoader import DataLoader\n",
    "from DataLoader.DataBasedAgent import DataBasedAgent\n",
    "from DataLoader.DataRLAgent import DataRLAgent\n",
    "import DeepRLAgent.VanillaInput.Train as Train\n",
    "from PatternDetectionInCandleStick.Evaluation import Evaluation\n",
    "import distinctipy\n",
    "import talib\n",
    "\n",
    "\n",
    "from importlib import reload\n",
    "\n",
    "Train = reload(Train)\n",
    "DeepRL = Train.Train\n",
    "from utils_best_arm import add_train_portfo, add_test_portfo, plot_return, calc_return, plot_action_point, setup_logger\n",
    "pd.options.display.max_colwidth = 100\n",
    "from scipy.optimize import minimize\n",
    "\n",
    "device = \"cpu\"\n",
    "# device = torch.device(\"cuda\" if torch.cuda.is_available() else \"cpu\")\n",
    "import talib\n",
    "CURRENT_PATH = os.getcwd()"
   ]
  },
  {
   "cell_type": "code",
   "execution_count": 2,
   "metadata": {},
   "outputs": [],
   "source": [
    "def train(\n",
    "    DATASET_NAME, \n",
    "    split_point='2018-01-01', \n",
    "    begin_date='2010-01-01', \n",
    "    end_date='2020-08-24', \n",
    "    model_start_date=\"\",\n",
    "    model_end_date=\"\",\n",
    "    initial_investment=1000,\n",
    "    transaction_cost=0.0001,\n",
    "    load_from_file=True,\n",
    "    reward_type=\"profit\",\n",
    "    seed=42, \n",
    "    state_mode=1,\n",
    "    n_episodes=5,\n",
    "    lamb=0.0001,\n",
    "    GAMMA=0.7, \n",
    "    n_step=5, \n",
    "    BATCH_SIZE=10, \n",
    "    ReplayMemorySize=20,\n",
    "    TARGET_UPDATE=5,\n",
    "    window_size=None, \n",
    "    train_portfolios={},\n",
    "    test_portfolios={},\n",
    "    arms=[],\n",
    "    show_all = False,\n",
    "    ratio_threshold=0.9,\n",
    "):\n",
    "    data_loader = DataLoader(DATASET_NAME, split_point=split_point, begin_date=begin_date, end_date=end_date, load_from_file=load_from_file)\n",
    "    \n",
    "    dataTrain_agent = DataRLAgent(data_loader.data_train, state_mode, 'action_encoder_decoder', device, GAMMA, n_step, BATCH_SIZE, window_size, transaction_cost)\n",
    "    dataTest_agent = DataRLAgent(data_loader.data_test, state_mode, 'action_encoder_decoder', device, GAMMA, n_step, BATCH_SIZE, window_size, transaction_cost)\n",
    "    \n",
    "    np.random.seed(seed)\n",
    "    random.seed(seed)\n",
    "    torch.manual_seed(seed)\n",
    "\n",
    "    agent = DeepRL(data_loader, dataTrain_agent, dataTest_agent, \n",
    "                DATASET_NAME,  state_mode, window_size, transaction_cost,\n",
    "                BATCH_SIZE=BATCH_SIZE, GAMMA=GAMMA, ReplayMemorySize=ReplayMemorySize,\n",
    "                TARGET_UPDATE=TARGET_UPDATE, n_step=n_step, arms=arms)\n",
    "    \n",
    "    path = f\"./Results/{DATASET_NAME}/{model_start_date}~{model_end_date}/{seed}/train\"\n",
    "    arm = arms[0]\n",
    "    name = f'{arm[\"name\"]}_{arm[\"lamb\"]}'\n",
    "    model_path = f\"{path}/model_{name}_{seed}.pkl\"\n",
    "    agent_test = agent.test_MV(initial_investment=initial_investment, test_type='test', model_path=model_path, symbol=DATASET_NAME)\n",
    "    test_portfolio = agent_test.get_daily_portfolio_value()\n",
    "    test_portfolio = pd.Series(test_portfolio).pct_change(1).fillna(0).values.tolist() \n",
    "    model_name = f'DQN-stock:{DATASET_NAME}-reward:{name}-seed:{seed}'\n",
    "    return data_loader, {\"name\": model_name, \"portfo\": test_portfolio}"
   ]
  },
  {
   "cell_type": "code",
   "execution_count": 4,
   "metadata": {},
   "outputs": [
    {
     "name": "stdout",
     "output_type": "stream",
     "text": [
      "AAPL\n"
     ]
    },
    {
     "name": "stderr",
     "output_type": "stream",
     "text": [
      "100%|██████████| 252/252 [00:00<00:00, 263.13it/s]\n",
      "100%|██████████| 253/253 [00:00<00:00, 284.41it/s]\n",
      "100%|██████████| 253/253 [00:00<00:00, 277.30it/s]\n",
      "100%|██████████| 1/1 [00:03<00:00,  3.32s/it]\n"
     ]
    },
    {
     "name": "stdout",
     "output_type": "stream",
     "text": [
      "AMGN\n"
     ]
    },
    {
     "name": "stderr",
     "output_type": "stream",
     "text": [
      "100%|██████████| 252/252 [00:00<00:00, 303.65it/s]\n",
      "100%|██████████| 253/253 [00:01<00:00, 210.91it/s]\n",
      "100%|██████████| 253/253 [00:01<00:00, 159.42it/s]\n",
      "100%|██████████| 1/1 [00:04<00:00,  4.43s/it]\n"
     ]
    },
    {
     "name": "stdout",
     "output_type": "stream",
     "text": [
      "AXP\n"
     ]
    },
    {
     "name": "stderr",
     "output_type": "stream",
     "text": [
      "100%|██████████| 252/252 [00:01<00:00, 141.26it/s]\n",
      "100%|██████████| 253/253 [00:01<00:00, 135.54it/s]\n",
      "100%|██████████| 253/253 [00:01<00:00, 162.71it/s]\n",
      "100%|██████████| 1/1 [00:06<00:00,  6.12s/it]\n"
     ]
    },
    {
     "name": "stdout",
     "output_type": "stream",
     "text": [
      "BA\n"
     ]
    },
    {
     "name": "stderr",
     "output_type": "stream",
     "text": [
      "100%|██████████| 252/252 [00:01<00:00, 179.91it/s]\n",
      "100%|██████████| 253/253 [00:01<00:00, 172.42it/s]\n",
      "100%|██████████| 253/253 [00:01<00:00, 183.09it/s]\n",
      "100%|██████████| 1/1 [00:05<00:00,  5.01s/it]\n"
     ]
    },
    {
     "name": "stdout",
     "output_type": "stream",
     "text": [
      "CAT\n"
     ]
    },
    {
     "name": "stderr",
     "output_type": "stream",
     "text": [
      "100%|██████████| 252/252 [00:01<00:00, 198.65it/s]\n",
      "100%|██████████| 253/253 [00:01<00:00, 175.86it/s]\n",
      "100%|██████████| 253/253 [00:01<00:00, 178.97it/s]\n",
      "100%|██████████| 1/1 [00:04<00:00,  4.91s/it]\n"
     ]
    },
    {
     "name": "stdout",
     "output_type": "stream",
     "text": [
      "CRM\n"
     ]
    },
    {
     "name": "stderr",
     "output_type": "stream",
     "text": [
      "100%|██████████| 252/252 [00:01<00:00, 184.99it/s]\n",
      "100%|██████████| 253/253 [00:01<00:00, 175.74it/s]\n",
      "100%|██████████| 253/253 [00:01<00:00, 180.64it/s]\n",
      "100%|██████████| 1/1 [00:04<00:00,  4.98s/it]\n"
     ]
    },
    {
     "name": "stdout",
     "output_type": "stream",
     "text": [
      "CSCO\n"
     ]
    },
    {
     "name": "stderr",
     "output_type": "stream",
     "text": [
      "100%|██████████| 252/252 [00:01<00:00, 185.65it/s]\n",
      "100%|██████████| 253/253 [00:01<00:00, 185.94it/s]\n",
      "100%|██████████| 253/253 [00:01<00:00, 173.60it/s]\n",
      "100%|██████████| 1/1 [00:04<00:00,  4.98s/it]\n"
     ]
    },
    {
     "name": "stdout",
     "output_type": "stream",
     "text": [
      "CVX\n"
     ]
    },
    {
     "name": "stderr",
     "output_type": "stream",
     "text": [
      "100%|██████████| 252/252 [00:01<00:00, 209.59it/s]\n",
      "100%|██████████| 253/253 [00:01<00:00, 180.51it/s]\n",
      "100%|██████████| 253/253 [00:01<00:00, 182.90it/s]\n",
      "100%|██████████| 1/1 [00:04<00:00,  4.75s/it]\n"
     ]
    },
    {
     "name": "stdout",
     "output_type": "stream",
     "text": [
      "DIS\n"
     ]
    },
    {
     "name": "stderr",
     "output_type": "stream",
     "text": [
      "100%|██████████| 252/252 [00:01<00:00, 183.89it/s]\n",
      "100%|██████████| 253/253 [00:01<00:00, 187.32it/s]\n",
      "100%|██████████| 253/253 [00:01<00:00, 179.93it/s]\n",
      "100%|██████████| 1/1 [00:04<00:00,  4.95s/it]\n"
     ]
    },
    {
     "name": "stdout",
     "output_type": "stream",
     "text": [
      "GS\n"
     ]
    },
    {
     "name": "stderr",
     "output_type": "stream",
     "text": [
      "100%|██████████| 252/252 [00:01<00:00, 186.43it/s]\n",
      "100%|██████████| 253/253 [00:01<00:00, 190.32it/s]\n",
      "100%|██████████| 253/253 [00:01<00:00, 181.96it/s]\n",
      "100%|██████████| 1/1 [00:04<00:00,  4.89s/it]\n"
     ]
    },
    {
     "name": "stdout",
     "output_type": "stream",
     "text": [
      "HD\n"
     ]
    },
    {
     "name": "stderr",
     "output_type": "stream",
     "text": [
      "100%|██████████| 252/252 [00:01<00:00, 186.14it/s]\n",
      "100%|██████████| 253/253 [00:01<00:00, 194.74it/s]\n",
      "100%|██████████| 253/253 [00:01<00:00, 178.87it/s]\n",
      "100%|██████████| 1/1 [00:04<00:00,  4.86s/it]\n"
     ]
    },
    {
     "name": "stdout",
     "output_type": "stream",
     "text": [
      "HON\n"
     ]
    },
    {
     "name": "stderr",
     "output_type": "stream",
     "text": [
      "100%|██████████| 252/252 [00:01<00:00, 184.25it/s]\n",
      "100%|██████████| 253/253 [00:01<00:00, 179.54it/s]\n",
      "100%|██████████| 253/253 [00:01<00:00, 186.04it/s]\n",
      "100%|██████████| 1/1 [00:04<00:00,  4.96s/it]\n"
     ]
    },
    {
     "name": "stdout",
     "output_type": "stream",
     "text": [
      "IBM\n"
     ]
    },
    {
     "name": "stderr",
     "output_type": "stream",
     "text": [
      "100%|██████████| 252/252 [00:01<00:00, 194.36it/s]\n",
      "100%|██████████| 253/253 [00:01<00:00, 186.71it/s]\n",
      "100%|██████████| 253/253 [00:01<00:00, 180.40it/s]\n",
      "100%|██████████| 1/1 [00:04<00:00,  4.84s/it]\n"
     ]
    },
    {
     "name": "stdout",
     "output_type": "stream",
     "text": [
      "INTC\n"
     ]
    },
    {
     "name": "stderr",
     "output_type": "stream",
     "text": [
      "100%|██████████| 252/252 [00:01<00:00, 189.39it/s]\n",
      "100%|██████████| 253/253 [00:01<00:00, 191.12it/s]\n",
      "100%|██████████| 253/253 [00:01<00:00, 193.02it/s]\n",
      "100%|██████████| 1/1 [00:04<00:00,  4.78s/it]\n"
     ]
    },
    {
     "name": "stdout",
     "output_type": "stream",
     "text": [
      "JNJ\n"
     ]
    },
    {
     "name": "stderr",
     "output_type": "stream",
     "text": [
      "100%|██████████| 252/252 [00:01<00:00, 181.99it/s]\n",
      "100%|██████████| 253/253 [00:01<00:00, 189.77it/s]\n",
      "100%|██████████| 253/253 [00:01<00:00, 174.62it/s]\n",
      "100%|██████████| 1/1 [00:04<00:00,  4.95s/it]\n"
     ]
    },
    {
     "name": "stdout",
     "output_type": "stream",
     "text": [
      "JPM\n"
     ]
    },
    {
     "name": "stderr",
     "output_type": "stream",
     "text": [
      "100%|██████████| 252/252 [00:01<00:00, 180.39it/s]\n",
      "100%|██████████| 253/253 [00:01<00:00, 187.14it/s]\n",
      "100%|██████████| 253/253 [00:01<00:00, 190.73it/s]\n",
      "100%|██████████| 1/1 [00:04<00:00,  4.86s/it]\n"
     ]
    },
    {
     "name": "stdout",
     "output_type": "stream",
     "text": [
      "KO\n"
     ]
    },
    {
     "name": "stderr",
     "output_type": "stream",
     "text": [
      "100%|██████████| 252/252 [00:01<00:00, 182.63it/s]\n",
      "100%|██████████| 253/253 [00:01<00:00, 187.20it/s]\n",
      "100%|██████████| 253/253 [00:01<00:00, 172.96it/s]\n",
      "100%|██████████| 1/1 [00:04<00:00,  4.95s/it]\n"
     ]
    },
    {
     "name": "stdout",
     "output_type": "stream",
     "text": [
      "MCD\n"
     ]
    },
    {
     "name": "stderr",
     "output_type": "stream",
     "text": [
      "100%|██████████| 252/252 [00:01<00:00, 189.20it/s]\n",
      "100%|██████████| 253/253 [00:01<00:00, 183.97it/s]\n",
      "100%|██████████| 253/253 [00:01<00:00, 175.93it/s]\n",
      "100%|██████████| 1/1 [00:04<00:00,  4.95s/it]\n"
     ]
    },
    {
     "name": "stdout",
     "output_type": "stream",
     "text": [
      "MMM\n"
     ]
    },
    {
     "name": "stderr",
     "output_type": "stream",
     "text": [
      "100%|██████████| 252/252 [00:01<00:00, 186.73it/s]\n",
      "100%|██████████| 253/253 [00:01<00:00, 189.97it/s]\n",
      "100%|██████████| 253/253 [00:01<00:00, 169.46it/s]\n",
      "100%|██████████| 1/1 [00:04<00:00,  4.96s/it]\n"
     ]
    },
    {
     "name": "stdout",
     "output_type": "stream",
     "text": [
      "MRK\n"
     ]
    },
    {
     "name": "stderr",
     "output_type": "stream",
     "text": [
      "100%|██████████| 252/252 [00:01<00:00, 185.72it/s]\n",
      "100%|██████████| 253/253 [00:01<00:00, 185.77it/s]\n",
      "100%|██████████| 253/253 [00:01<00:00, 174.63it/s]\n",
      "100%|██████████| 1/1 [00:04<00:00,  4.97s/it]\n"
     ]
    },
    {
     "name": "stdout",
     "output_type": "stream",
     "text": [
      "MSFT\n"
     ]
    },
    {
     "name": "stderr",
     "output_type": "stream",
     "text": [
      "100%|██████████| 252/252 [00:01<00:00, 186.75it/s]\n",
      "100%|██████████| 253/253 [00:01<00:00, 170.84it/s]\n",
      "100%|██████████| 253/253 [00:01<00:00, 181.83it/s]\n",
      "100%|██████████| 1/1 [00:04<00:00,  5.00s/it]\n"
     ]
    },
    {
     "name": "stdout",
     "output_type": "stream",
     "text": [
      "NKE\n"
     ]
    },
    {
     "name": "stderr",
     "output_type": "stream",
     "text": [
      "100%|██████████| 252/252 [00:01<00:00, 187.30it/s]\n",
      "100%|██████████| 253/253 [00:01<00:00, 180.26it/s]\n",
      "100%|██████████| 253/253 [00:01<00:00, 183.82it/s]\n",
      "100%|██████████| 1/1 [00:04<00:00,  4.92s/it]\n"
     ]
    },
    {
     "name": "stdout",
     "output_type": "stream",
     "text": [
      "PG\n"
     ]
    },
    {
     "name": "stderr",
     "output_type": "stream",
     "text": [
      "100%|██████████| 252/252 [00:01<00:00, 183.34it/s]\n",
      "100%|██████████| 253/253 [00:01<00:00, 196.63it/s]\n",
      "100%|██████████| 253/253 [00:01<00:00, 191.53it/s]\n",
      "100%|██████████| 1/1 [00:04<00:00,  4.77s/it]\n"
     ]
    },
    {
     "name": "stdout",
     "output_type": "stream",
     "text": [
      "TRV\n"
     ]
    },
    {
     "name": "stderr",
     "output_type": "stream",
     "text": [
      "100%|██████████| 252/252 [00:01<00:00, 182.11it/s]\n",
      "100%|██████████| 253/253 [00:01<00:00, 183.19it/s]\n",
      "100%|██████████| 253/253 [00:01<00:00, 187.01it/s]\n",
      "100%|██████████| 1/1 [00:04<00:00,  4.92s/it]\n"
     ]
    },
    {
     "name": "stdout",
     "output_type": "stream",
     "text": [
      "UNH\n"
     ]
    },
    {
     "name": "stderr",
     "output_type": "stream",
     "text": [
      "100%|██████████| 252/252 [00:01<00:00, 180.58it/s]\n",
      "100%|██████████| 253/253 [00:01<00:00, 174.68it/s]\n",
      "100%|██████████| 253/253 [00:01<00:00, 183.37it/s]\n",
      "100%|██████████| 1/1 [00:04<00:00,  5.00s/it]\n"
     ]
    },
    {
     "name": "stdout",
     "output_type": "stream",
     "text": [
      "V\n"
     ]
    },
    {
     "name": "stderr",
     "output_type": "stream",
     "text": [
      "100%|██████████| 252/252 [00:01<00:00, 183.07it/s]\n",
      "100%|██████████| 253/253 [00:01<00:00, 187.71it/s]\n",
      "100%|██████████| 253/253 [00:01<00:00, 177.06it/s]\n",
      "100%|██████████| 1/1 [00:04<00:00,  4.93s/it]\n"
     ]
    },
    {
     "name": "stdout",
     "output_type": "stream",
     "text": [
      "VZ\n"
     ]
    },
    {
     "name": "stderr",
     "output_type": "stream",
     "text": [
      "100%|██████████| 252/252 [00:01<00:00, 193.82it/s]\n",
      "100%|██████████| 253/253 [00:01<00:00, 175.60it/s]\n",
      "100%|██████████| 253/253 [00:01<00:00, 187.84it/s]\n",
      "100%|██████████| 1/1 [00:04<00:00,  4.91s/it]\n"
     ]
    },
    {
     "name": "stdout",
     "output_type": "stream",
     "text": [
      "WBA\n"
     ]
    },
    {
     "name": "stderr",
     "output_type": "stream",
     "text": [
      "100%|██████████| 252/252 [00:01<00:00, 184.12it/s]\n",
      "100%|██████████| 253/253 [00:01<00:00, 185.37it/s]\n",
      "100%|██████████| 253/253 [00:01<00:00, 179.99it/s]\n",
      "100%|██████████| 1/1 [00:04<00:00,  4.93s/it]\n"
     ]
    },
    {
     "name": "stdout",
     "output_type": "stream",
     "text": [
      "WMT\n"
     ]
    },
    {
     "name": "stderr",
     "output_type": "stream",
     "text": [
      "100%|██████████| 252/252 [00:01<00:00, 194.16it/s]\n",
      "100%|██████████| 253/253 [00:01<00:00, 178.45it/s]\n",
      "100%|██████████| 253/253 [00:01<00:00, 196.09it/s]\n",
      "100%|██████████| 1/1 [00:04<00:00,  4.75s/it]\n"
     ]
    }
   ],
   "source": [
    "initial_investment = 1000\n",
    "\n",
    "\n",
    "kwargs = {\n",
    "    \"load_from_file\": True, \n",
    "    \"transaction_cost\": 0.0000,\n",
    "    \"initial_investment\": initial_investment,\n",
    "    \"state_mode\": 1,\n",
    "    \"GAMMA\": 0.7, \n",
    "    \"n_step\": 5, \n",
    "    \"BATCH_SIZE\": 10, \n",
    "    \"ReplayMemorySize\": 20,\n",
    "    \"TARGET_UPDATE\": 5,\n",
    "    \"window_size\": None, \n",
    "    \"lamb\": 0.0,\n",
    "}\n",
    "\n",
    "_file = \"AAPL\"\n",
    "\n",
    "_begin_date = '20{}-01-01'\n",
    "_end_date = '20{}-01-01'\n",
    "_split_point = '20{}-01-01' \n",
    "\n",
    "arms = [\n",
    "    { \"name\": \"profit\", \"lamb\": 0},\n",
    "]\n",
    "\n",
    "dates = [\n",
    "    (\"2019-06-23\", \"2020-06-22\", \"2016-01-01\", \"2019-01-01\"),\n",
    "    (\"2020-06-22\", \"2021-06-22\", \"2017-01-01\", \"2020-01-01\"),\n",
    "    (\"2021-06-23\", \"2022-06-23\", \"2018-01-01\", \"2021-01-01\"),\n",
    "]\n",
    "\n",
    "random_seeds = 1\n",
    "results = []\n",
    "portfolios_saved = {}\n",
    "files = sorted(os.listdir(\"./Data/\"))\n",
    "for _file in files[:]:\n",
    "    print(_file)\n",
    "    portfolios_saved[_file] = {}\n",
    "\n",
    "    for idx, arm in enumerate(arms[:]):\n",
    "        results2 = []\n",
    "        portfolios_saved[_file][f\"{arm['name']}-{arm['lamb']}\"] = []\n",
    "        \n",
    "        for seed in tqdm(range(random_seeds)):\n",
    "            \n",
    "            ls = []\n",
    "            bhs = []\n",
    "        \n",
    "            train_portfolios = {}\n",
    "            test_portfolios = {}\n",
    "            tmp_result = []\n",
    "            \n",
    "            for date in dates:\n",
    "                model_start_date = date[2]\n",
    "                model_end_date = date[3]\n",
    "                split_point = date[0]\n",
    "                end_date = date[1]\n",
    "\n",
    "                kwargs.update({\n",
    "                    \"begin_date\": \"2016-01-01\", \n",
    "                    \"end_date\": end_date, \n",
    "                    \"split_point\": split_point,\n",
    "                    \"model_start_date\": model_start_date,\n",
    "                    \"model_end_date\": model_end_date,\n",
    "                    \"DATASET_NAME\": _file,\n",
    "                    \"reward_type\": \"\",\n",
    "                    \"seed\": seed,\n",
    "                    \"n_episodes\": 140,\n",
    "                    \"arms\": [arm],\n",
    "                    \"show_all\": True,\n",
    "                    \"ratio_threshold\": 3,\n",
    "                    \"train_portfolios\": train_portfolios,\n",
    "                    \"test_portfolios\": test_portfolios,\n",
    "                })\n",
    "\n",
    "                data_loader, model = train(**kwargs)\n",
    "                ls.extend(model[\"portfo\"])\n",
    "                bh = data_loader.data_test_with_date[\"close\"]\n",
    "                bhs.append(bh)\n",
    "                tmp_result.extend(model[\"portfo\"])\n",
    "\n",
    "            add_test_portfo(test_portfolios, seed, ls)\n",
    "            if seed == 0: \n",
    "                bhs = pd.concat(bhs, axis=0)\n",
    "                bh_percentage = bhs.pct_change(1).fillna(0).values\n",
    "                add_test_portfo(test_portfolios, 'B&H', bh_percentage)\n",
    "            indexes = calc_return(bh_percentage, test_portfolios)\n",
    "            results2.append(indexes)\n",
    "            portfolios_saved[_file][f\"{arm['name']}-{arm['lamb']}\"].append(tmp_result)\n",
    "\n",
    "        # path = f\"./Results/{_file}/exp3_concat\"\n",
    "        # if not os.path.exists(path):\n",
    "        #     os.mkdir(path)\n",
    "        \n",
    "        # save_path = f\"{path}/MV.csv\"\n",
    "\n",
    "        # portfolios_saved[_file][f\"{arm['name']}-{arm['lamb']}\"].insert(0, bh_percentage.tolist())\n",
    "        # _df_ = pd.DataFrame(portfolios_saved[_file][f\"{arm['name']}-{arm['lamb']}\"]).T.fillna(0)\n",
    "        # _df_.to_csv(save_path, index=False)\n",
    "\n",
    "        results2_df = pd.concat(results2, axis=1)\n",
    "        results2_bh = results2_df[\"B&H\"]\n",
    "        del results2_df[\"B&H\"]\n",
    "        final = pd.concat([\n",
    "            results2_bh,\n",
    "            results2_df.median(axis=1)\n",
    "        ], axis=1)\n",
    "        final.columns = [f\"{_file}-B&H\", f\"{_file}-{arm['name']}-{arm['lamb']}\"]\n",
    "        if idx > 0:\n",
    "            del final[f\"{_file}-B&H\"]\n",
    "        results.append(final)\n"
   ]
  },
  {
   "cell_type": "code",
   "execution_count": null,
   "metadata": {},
   "outputs": [],
   "source": []
  },
  {
   "cell_type": "code",
   "execution_count": 7,
   "metadata": {},
   "outputs": [],
   "source": [
    "def output_bh(symbol):\n",
    "    raw_df = pd.read_csv(f\"./Data/{symbol}/{symbol}.csv\")\n",
    "    raw_df = raw_df[[\"Date\", \"Close\"]]\n",
    "    raw_df[\"pct\"] = raw_df[\"Close\"].pct_change(1)\n",
    "    raw_df = raw_df.query(\"Date >= '2016-01-01'\")\n",
    "    raw_df = raw_df.set_index(\"Date\")\n",
    "    del raw_df[\"Close\"]\n",
    "    raw_df = raw_df.reset_index()\n",
    "    dates = [\n",
    "        (\"2019-06-23\", \"2020-06-22\", \"2016-01-01\", \"2019-01-01\"),\n",
    "        (\"2020-06-22\", \"2021-06-22\", \"2017-01-01\", \"2020-01-01\"),\n",
    "        (\"2021-06-23\", \"2022-06-23\", \"2018-01-01\", \"2021-01-01\"),\n",
    "    ]\n",
    "    ls = []\n",
    "    for date in dates:\n",
    "        date1, date2, _, _ = date\n",
    "        ls.append(raw_df.query(f\"Date >= '{date1}' & Date <= '{date2}'\"))\n",
    "    bh = pd.concat(ls)\n",
    "    bh.reset_index(inplace=True)\n",
    "    del bh[\"index\"]\n",
    "    return bh\n",
    "\n",
    "symbol = \"AAPL\"\n",
    "# output_bh(symbol)"
   ]
  },
  {
   "cell_type": "code",
   "execution_count": 9,
   "metadata": {},
   "outputs": [
    {
     "data": {
      "text/html": [
       "<div>\n",
       "<style scoped>\n",
       "    .dataframe tbody tr th:only-of-type {\n",
       "        vertical-align: middle;\n",
       "    }\n",
       "\n",
       "    .dataframe tbody tr th {\n",
       "        vertical-align: top;\n",
       "    }\n",
       "\n",
       "    .dataframe thead th {\n",
       "        text-align: right;\n",
       "    }\n",
       "</style>\n",
       "<table border=\"1\" class=\"dataframe\">\n",
       "  <thead>\n",
       "    <tr style=\"text-align: right;\">\n",
       "      <th></th>\n",
       "      <th>AAPL-B&amp;H</th>\n",
       "      <th>AAPL-MV</th>\n",
       "      <th>AMGN-B&amp;H</th>\n",
       "      <th>AMGN-MV</th>\n",
       "      <th>AXP-B&amp;H</th>\n",
       "      <th>AXP-MV</th>\n",
       "      <th>BA-B&amp;H</th>\n",
       "      <th>BA-MV</th>\n",
       "      <th>CAT-B&amp;H</th>\n",
       "      <th>CAT-MV</th>\n",
       "      <th>...</th>\n",
       "      <th>UNH-B&amp;H</th>\n",
       "      <th>UNH-MV</th>\n",
       "      <th>V-B&amp;H</th>\n",
       "      <th>V-MV</th>\n",
       "      <th>VZ-B&amp;H</th>\n",
       "      <th>VZ-MV</th>\n",
       "      <th>WBA-B&amp;H</th>\n",
       "      <th>WBA-MV</th>\n",
       "      <th>WMT-B&amp;H</th>\n",
       "      <th>WMT-MV</th>\n",
       "    </tr>\n",
       "    <tr>\n",
       "      <th>date</th>\n",
       "      <th></th>\n",
       "      <th></th>\n",
       "      <th></th>\n",
       "      <th></th>\n",
       "      <th></th>\n",
       "      <th></th>\n",
       "      <th></th>\n",
       "      <th></th>\n",
       "      <th></th>\n",
       "      <th></th>\n",
       "      <th></th>\n",
       "      <th></th>\n",
       "      <th></th>\n",
       "      <th></th>\n",
       "      <th></th>\n",
       "      <th></th>\n",
       "      <th></th>\n",
       "      <th></th>\n",
       "      <th></th>\n",
       "      <th></th>\n",
       "      <th></th>\n",
       "    </tr>\n",
       "  </thead>\n",
       "  <tbody>\n",
       "    <tr>\n",
       "      <th>2019-06-24</th>\n",
       "      <td>-0.001006</td>\n",
       "      <td>0.000000</td>\n",
       "      <td>-0.012185</td>\n",
       "      <td>0.000000</td>\n",
       "      <td>-0.004730</td>\n",
       "      <td>0.000000</td>\n",
       "      <td>0.005782</td>\n",
       "      <td>0.000000</td>\n",
       "      <td>0.003585</td>\n",
       "      <td>0.000000</td>\n",
       "      <td>...</td>\n",
       "      <td>-0.010465</td>\n",
       "      <td>0.000000</td>\n",
       "      <td>0.002364</td>\n",
       "      <td>0.000000</td>\n",
       "      <td>0.008655</td>\n",
       "      <td>0.000000</td>\n",
       "      <td>-0.009533</td>\n",
       "      <td>0.000000</td>\n",
       "      <td>0.000990</td>\n",
       "      <td>0.000000</td>\n",
       "    </tr>\n",
       "    <tr>\n",
       "      <th>2019-06-25</th>\n",
       "      <td>-0.016148</td>\n",
       "      <td>0.000000</td>\n",
       "      <td>-0.014270</td>\n",
       "      <td>0.000000</td>\n",
       "      <td>-0.012587</td>\n",
       "      <td>0.000000</td>\n",
       "      <td>-0.006777</td>\n",
       "      <td>0.000000</td>\n",
       "      <td>-0.001344</td>\n",
       "      <td>0.000000</td>\n",
       "      <td>...</td>\n",
       "      <td>-0.018313</td>\n",
       "      <td>0.000000</td>\n",
       "      <td>-0.012454</td>\n",
       "      <td>0.000000</td>\n",
       "      <td>0.003981</td>\n",
       "      <td>0.000000</td>\n",
       "      <td>0.009533</td>\n",
       "      <td>0.000000</td>\n",
       "      <td>-0.003689</td>\n",
       "      <td>0.000000</td>\n",
       "    </tr>\n",
       "    <tr>\n",
       "      <th>2019-06-26</th>\n",
       "      <td>0.005131</td>\n",
       "      <td>0.021629</td>\n",
       "      <td>-0.021057</td>\n",
       "      <td>-0.006886</td>\n",
       "      <td>-0.009140</td>\n",
       "      <td>0.003491</td>\n",
       "      <td>0.008337</td>\n",
       "      <td>0.015217</td>\n",
       "      <td>0.009411</td>\n",
       "      <td>0.010769</td>\n",
       "      <td>...</td>\n",
       "      <td>-0.034922</td>\n",
       "      <td>-0.016918</td>\n",
       "      <td>-0.013722</td>\n",
       "      <td>-0.001284</td>\n",
       "      <td>-0.013502</td>\n",
       "      <td>-0.017414</td>\n",
       "      <td>-0.001335</td>\n",
       "      <td>-0.010765</td>\n",
       "      <td>-0.008729</td>\n",
       "      <td>-0.005058</td>\n",
       "    </tr>\n",
       "    <tr>\n",
       "      <th>2019-06-27</th>\n",
       "      <td>0.004829</td>\n",
       "      <td>0.021322</td>\n",
       "      <td>-0.016514</td>\n",
       "      <td>-0.002277</td>\n",
       "      <td>-0.006334</td>\n",
       "      <td>0.006333</td>\n",
       "      <td>-0.021031</td>\n",
       "      <td>-0.014351</td>\n",
       "      <td>0.012025</td>\n",
       "      <td>0.013387</td>\n",
       "      <td>...</td>\n",
       "      <td>-0.023545</td>\n",
       "      <td>-0.005330</td>\n",
       "      <td>-0.012742</td>\n",
       "      <td>-0.000292</td>\n",
       "      <td>-0.009001</td>\n",
       "      <td>-0.012931</td>\n",
       "      <td>0.039466</td>\n",
       "      <td>0.029651</td>\n",
       "      <td>-0.009269</td>\n",
       "      <td>-0.005600</td>\n",
       "    </tr>\n",
       "    <tr>\n",
       "      <th>2019-06-28</th>\n",
       "      <td>-0.004326</td>\n",
       "      <td>0.012016</td>\n",
       "      <td>-0.015125</td>\n",
       "      <td>-0.000868</td>\n",
       "      <td>-0.010342</td>\n",
       "      <td>0.002273</td>\n",
       "      <td>-0.021057</td>\n",
       "      <td>-0.014378</td>\n",
       "      <td>0.017925</td>\n",
       "      <td>0.019296</td>\n",
       "      <td>...</td>\n",
       "      <td>-0.032781</td>\n",
       "      <td>-0.014738</td>\n",
       "      <td>0.000634</td>\n",
       "      <td>0.013253</td>\n",
       "      <td>-0.011078</td>\n",
       "      <td>-0.015000</td>\n",
       "      <td>0.042326</td>\n",
       "      <td>0.032484</td>\n",
       "      <td>-0.005759</td>\n",
       "      <td>-0.002077</td>\n",
       "    </tr>\n",
       "    <tr>\n",
       "      <th>...</th>\n",
       "      <td>...</td>\n",
       "      <td>...</td>\n",
       "      <td>...</td>\n",
       "      <td>...</td>\n",
       "      <td>...</td>\n",
       "      <td>...</td>\n",
       "      <td>...</td>\n",
       "      <td>...</td>\n",
       "      <td>...</td>\n",
       "      <td>...</td>\n",
       "      <td>...</td>\n",
       "      <td>...</td>\n",
       "      <td>...</td>\n",
       "      <td>...</td>\n",
       "      <td>...</td>\n",
       "      <td>...</td>\n",
       "      <td>...</td>\n",
       "      <td>...</td>\n",
       "      <td>...</td>\n",
       "      <td>...</td>\n",
       "      <td>...</td>\n",
       "    </tr>\n",
       "    <tr>\n",
       "      <th>2022-06-16</th>\n",
       "      <td>1.751635</td>\n",
       "      <td>1.291420</td>\n",
       "      <td>0.320943</td>\n",
       "      <td>0.046533</td>\n",
       "      <td>0.132091</td>\n",
       "      <td>0.125285</td>\n",
       "      <td>-0.631919</td>\n",
       "      <td>-0.488534</td>\n",
       "      <td>0.548349</td>\n",
       "      <td>0.012026</td>\n",
       "      <td>...</td>\n",
       "      <td>0.901021</td>\n",
       "      <td>0.366777</td>\n",
       "      <td>0.126761</td>\n",
       "      <td>0.250470</td>\n",
       "      <td>-0.043836</td>\n",
       "      <td>-0.061948</td>\n",
       "      <td>-0.165308</td>\n",
       "      <td>-0.262867</td>\n",
       "      <td>0.157549</td>\n",
       "      <td>0.176075</td>\n",
       "    </tr>\n",
       "    <tr>\n",
       "      <th>2022-06-17</th>\n",
       "      <td>1.783370</td>\n",
       "      <td>1.291420</td>\n",
       "      <td>0.343902</td>\n",
       "      <td>0.046533</td>\n",
       "      <td>0.187090</td>\n",
       "      <td>0.125285</td>\n",
       "      <td>-0.622424</td>\n",
       "      <td>-0.488534</td>\n",
       "      <td>0.531259</td>\n",
       "      <td>0.012026</td>\n",
       "      <td>...</td>\n",
       "      <td>0.884224</td>\n",
       "      <td>0.366777</td>\n",
       "      <td>0.132483</td>\n",
       "      <td>0.250470</td>\n",
       "      <td>-0.040116</td>\n",
       "      <td>-0.061948</td>\n",
       "      <td>-0.172672</td>\n",
       "      <td>-0.262867</td>\n",
       "      <td>0.135189</td>\n",
       "      <td>0.176075</td>\n",
       "    </tr>\n",
       "    <tr>\n",
       "      <th>2022-06-21</th>\n",
       "      <td>1.874555</td>\n",
       "      <td>1.291420</td>\n",
       "      <td>0.365029</td>\n",
       "      <td>0.046533</td>\n",
       "      <td>0.191866</td>\n",
       "      <td>0.125285</td>\n",
       "      <td>-0.622562</td>\n",
       "      <td>-0.488534</td>\n",
       "      <td>0.560908</td>\n",
       "      <td>0.012026</td>\n",
       "      <td>...</td>\n",
       "      <td>1.002014</td>\n",
       "      <td>0.366777</td>\n",
       "      <td>0.158588</td>\n",
       "      <td>0.250470</td>\n",
       "      <td>-0.008401</td>\n",
       "      <td>-0.061948</td>\n",
       "      <td>-0.156260</td>\n",
       "      <td>-0.262867</td>\n",
       "      <td>0.172424</td>\n",
       "      <td>0.176075</td>\n",
       "    </tr>\n",
       "    <tr>\n",
       "      <th>2022-06-22</th>\n",
       "      <td>1.863553</td>\n",
       "      <td>1.291420</td>\n",
       "      <td>0.374934</td>\n",
       "      <td>0.046533</td>\n",
       "      <td>0.188819</td>\n",
       "      <td>0.125285</td>\n",
       "      <td>-0.621430</td>\n",
       "      <td>-0.488534</td>\n",
       "      <td>0.493025</td>\n",
       "      <td>0.012026</td>\n",
       "      <td>...</td>\n",
       "      <td>1.041027</td>\n",
       "      <td>0.366777</td>\n",
       "      <td>0.155191</td>\n",
       "      <td>0.250470</td>\n",
       "      <td>-0.005660</td>\n",
       "      <td>-0.061948</td>\n",
       "      <td>-0.148896</td>\n",
       "      <td>-0.262867</td>\n",
       "      <td>0.158221</td>\n",
       "      <td>0.176075</td>\n",
       "    </tr>\n",
       "    <tr>\n",
       "      <th>2022-06-23</th>\n",
       "      <td>1.925331</td>\n",
       "      <td>1.291420</td>\n",
       "      <td>0.391825</td>\n",
       "      <td>0.046533</td>\n",
       "      <td>0.166260</td>\n",
       "      <td>0.125285</td>\n",
       "      <td>-0.630235</td>\n",
       "      <td>-0.488534</td>\n",
       "      <td>0.420214</td>\n",
       "      <td>0.012026</td>\n",
       "      <td>...</td>\n",
       "      <td>1.083250</td>\n",
       "      <td>0.366777</td>\n",
       "      <td>0.171999</td>\n",
       "      <td>0.250470</td>\n",
       "      <td>0.019791</td>\n",
       "      <td>-0.061948</td>\n",
       "      <td>-0.139638</td>\n",
       "      <td>-0.262867</td>\n",
       "      <td>0.186339</td>\n",
       "      <td>0.176075</td>\n",
       "    </tr>\n",
       "  </tbody>\n",
       "</table>\n",
       "<p>758 rows × 58 columns</p>\n",
       "</div>"
      ],
      "text/plain": [
       "            AAPL-B&H   AAPL-MV  AMGN-B&H   AMGN-MV   AXP-B&H    AXP-MV  \\\n",
       "date                                                                     \n",
       "2019-06-24 -0.001006  0.000000 -0.012185  0.000000 -0.004730  0.000000   \n",
       "2019-06-25 -0.016148  0.000000 -0.014270  0.000000 -0.012587  0.000000   \n",
       "2019-06-26  0.005131  0.021629 -0.021057 -0.006886 -0.009140  0.003491   \n",
       "2019-06-27  0.004829  0.021322 -0.016514 -0.002277 -0.006334  0.006333   \n",
       "2019-06-28 -0.004326  0.012016 -0.015125 -0.000868 -0.010342  0.002273   \n",
       "...              ...       ...       ...       ...       ...       ...   \n",
       "2022-06-16  1.751635  1.291420  0.320943  0.046533  0.132091  0.125285   \n",
       "2022-06-17  1.783370  1.291420  0.343902  0.046533  0.187090  0.125285   \n",
       "2022-06-21  1.874555  1.291420  0.365029  0.046533  0.191866  0.125285   \n",
       "2022-06-22  1.863553  1.291420  0.374934  0.046533  0.188819  0.125285   \n",
       "2022-06-23  1.925331  1.291420  0.391825  0.046533  0.166260  0.125285   \n",
       "\n",
       "              BA-B&H     BA-MV   CAT-B&H    CAT-MV  ...   UNH-B&H    UNH-MV  \\\n",
       "date                                                ...                       \n",
       "2019-06-24  0.005782  0.000000  0.003585  0.000000  ... -0.010465  0.000000   \n",
       "2019-06-25 -0.006777  0.000000 -0.001344  0.000000  ... -0.018313  0.000000   \n",
       "2019-06-26  0.008337  0.015217  0.009411  0.010769  ... -0.034922 -0.016918   \n",
       "2019-06-27 -0.021031 -0.014351  0.012025  0.013387  ... -0.023545 -0.005330   \n",
       "2019-06-28 -0.021057 -0.014378  0.017925  0.019296  ... -0.032781 -0.014738   \n",
       "...              ...       ...       ...       ...  ...       ...       ...   \n",
       "2022-06-16 -0.631919 -0.488534  0.548349  0.012026  ...  0.901021  0.366777   \n",
       "2022-06-17 -0.622424 -0.488534  0.531259  0.012026  ...  0.884224  0.366777   \n",
       "2022-06-21 -0.622562 -0.488534  0.560908  0.012026  ...  1.002014  0.366777   \n",
       "2022-06-22 -0.621430 -0.488534  0.493025  0.012026  ...  1.041027  0.366777   \n",
       "2022-06-23 -0.630235 -0.488534  0.420214  0.012026  ...  1.083250  0.366777   \n",
       "\n",
       "               V-B&H      V-MV    VZ-B&H     VZ-MV   WBA-B&H    WBA-MV  \\\n",
       "date                                                                     \n",
       "2019-06-24  0.002364  0.000000  0.008655  0.000000 -0.009533  0.000000   \n",
       "2019-06-25 -0.012454  0.000000  0.003981  0.000000  0.009533  0.000000   \n",
       "2019-06-26 -0.013722 -0.001284 -0.013502 -0.017414 -0.001335 -0.010765   \n",
       "2019-06-27 -0.012742 -0.000292 -0.009001 -0.012931  0.039466  0.029651   \n",
       "2019-06-28  0.000634  0.013253 -0.011078 -0.015000  0.042326  0.032484   \n",
       "...              ...       ...       ...       ...       ...       ...   \n",
       "2022-06-16  0.126761  0.250470 -0.043836 -0.061948 -0.165308 -0.262867   \n",
       "2022-06-17  0.132483  0.250470 -0.040116 -0.061948 -0.172672 -0.262867   \n",
       "2022-06-21  0.158588  0.250470 -0.008401 -0.061948 -0.156260 -0.262867   \n",
       "2022-06-22  0.155191  0.250470 -0.005660 -0.061948 -0.148896 -0.262867   \n",
       "2022-06-23  0.171999  0.250470  0.019791 -0.061948 -0.139638 -0.262867   \n",
       "\n",
       "             WMT-B&H    WMT-MV  \n",
       "date                            \n",
       "2019-06-24  0.000990  0.000000  \n",
       "2019-06-25 -0.003689  0.000000  \n",
       "2019-06-26 -0.008729 -0.005058  \n",
       "2019-06-27 -0.009269 -0.005600  \n",
       "2019-06-28 -0.005759 -0.002077  \n",
       "...              ...       ...  \n",
       "2022-06-16  0.157549  0.176075  \n",
       "2022-06-17  0.135189  0.176075  \n",
       "2022-06-21  0.172424  0.176075  \n",
       "2022-06-22  0.158221  0.176075  \n",
       "2022-06-23  0.186339  0.176075  \n",
       "\n",
       "[758 rows x 58 columns]"
      ]
     },
     "execution_count": 9,
     "metadata": {},
     "output_type": "execute_result"
    }
   ],
   "source": [
    "symbols = list(portfolios_saved.keys())[:]\n",
    "# plt.style.use(\"ggplot\")\n",
    "# plt.rcParams[\"text.color\"] = \"black\"\n",
    "\n",
    "ls = []\n",
    "for symbol in symbols:\n",
    "    bh = output_bh(symbol)\n",
    "    res = pd.concat([\n",
    "        bh,\n",
    "        pd.DataFrame(portfolios_saved[symbol][\"profit-0\"]).T\n",
    "    ], axis=1).dropna()\n",
    "    res.columns = [\"Date\", f\"{symbol}-B&H\", f\"{symbol}-MV\"]\n",
    "    # NOTE cumreturn\n",
    "    res[f\"{symbol}-B&H\"] = (1 + res[f\"{symbol}-B&H\"]).cumprod() - 1\n",
    "    res[f\"{symbol}-MV\"] = (1 + res[f\"{symbol}-MV\"]).cumprod() - 1 \n",
    "    date_ls = res[\"Date\"].tolist()\n",
    "    del res[\"Date\"]\n",
    "    ls.append(res)\n",
    "\n",
    "\n",
    "results_cumreturn = pd.concat(ls, axis=1)   \n",
    "results_cumreturn[\"date\"] = date_ls \n",
    "results_cumreturn = results_cumreturn.set_index(\"date\")\n",
    "results_cumreturn.to_csv(\"./ts-run-results/[exp3]MV-returns.csv\",)\n",
    "results_cumreturn.to_csv(\"./ts-run-results/[exp3]MV-cumreturns.csv\")\n",
    "results_cumreturn"
   ]
  },
  {
   "cell_type": "code",
   "execution_count": null,
   "metadata": {},
   "outputs": [],
   "source": []
  },
  {
   "cell_type": "code",
   "execution_count": 10,
   "metadata": {},
   "outputs": [
    {
     "data": {
      "text/html": [
       "<div>\n",
       "<style scoped>\n",
       "    .dataframe tbody tr th:only-of-type {\n",
       "        vertical-align: middle;\n",
       "    }\n",
       "\n",
       "    .dataframe tbody tr th {\n",
       "        vertical-align: top;\n",
       "    }\n",
       "\n",
       "    .dataframe thead th {\n",
       "        text-align: right;\n",
       "    }\n",
       "</style>\n",
       "<table border=\"1\" class=\"dataframe\">\n",
       "  <thead>\n",
       "    <tr style=\"text-align: right;\">\n",
       "      <th></th>\n",
       "      <th>AAPL-B&amp;H</th>\n",
       "      <th>AAPL-MV</th>\n",
       "    </tr>\n",
       "  </thead>\n",
       "  <tbody>\n",
       "    <tr>\n",
       "      <th>sortino_test</th>\n",
       "      <td>1.617304</td>\n",
       "      <td>1.714784</td>\n",
       "    </tr>\n",
       "    <tr>\n",
       "      <th>sharpe_test</th>\n",
       "      <td>1.170390</td>\n",
       "      <td>1.247741</td>\n",
       "    </tr>\n",
       "    <tr>\n",
       "      <th>risk_test</th>\n",
       "      <td>0.350629</td>\n",
       "      <td>0.244047</td>\n",
       "    </tr>\n",
       "    <tr>\n",
       "      <th>mdd_test</th>\n",
       "      <td>0.314273</td>\n",
       "      <td>0.230526</td>\n",
       "    </tr>\n",
       "    <tr>\n",
       "      <th>downrisk_test</th>\n",
       "      <td>0.253739</td>\n",
       "      <td>0.177578</td>\n",
       "    </tr>\n",
       "    <tr>\n",
       "      <th>cumreturn_test</th>\n",
       "      <td>1.853616</td>\n",
       "      <td>1.291420</td>\n",
       "    </tr>\n",
       "  </tbody>\n",
       "</table>\n",
       "</div>"
      ],
      "text/plain": [
       "                AAPL-B&H   AAPL-MV\n",
       "sortino_test    1.617304  1.714784\n",
       "sharpe_test     1.170390  1.247741\n",
       "risk_test       0.350629  0.244047\n",
       "mdd_test        0.314273  0.230526\n",
       "downrisk_test   0.253739  0.177578\n",
       "cumreturn_test  1.853616  1.291420"
      ]
     },
     "execution_count": 10,
     "metadata": {},
     "output_type": "execute_result"
    }
   ],
   "source": [
    "results_df = pd.concat(results, axis=1)\n",
    "cols = results_df.columns\n",
    "ls = []\n",
    "for col in cols:\n",
    "    if \"B&H\" in col:\n",
    "        ls.append(col)\n",
    "    else:\n",
    "        symbol = col.split(\"-\")[0]\n",
    "        ls.append(f\"{symbol}-MV\")\n",
    "\n",
    "results_df.columns = ls\n",
    "results_df.to_csv(f\"./ts-run-results/[exp3]MV_reward.csv\")\n",
    "\n",
    "def find(symbol):\n",
    "    ls = []\n",
    "    for col in results_df.columns:\n",
    "        if symbol in col:\n",
    "            ls.append(col)\n",
    "\n",
    "    return results_df[ls]\n",
    "\n",
    "files = os.listdir(\"./Results/\")\n",
    "df = find(files[0])\n",
    "df\n"
   ]
  },
  {
   "cell_type": "code",
   "execution_count": null,
   "metadata": {},
   "outputs": [],
   "source": []
  },
  {
   "cell_type": "code",
   "execution_count": null,
   "metadata": {},
   "outputs": [],
   "source": []
  },
  {
   "cell_type": "code",
   "execution_count": null,
   "metadata": {},
   "outputs": [],
   "source": []
  },
  {
   "cell_type": "code",
   "execution_count": null,
   "metadata": {},
   "outputs": [],
   "source": []
  }
 ],
 "metadata": {
  "kernelspec": {
   "display_name": "Python 3.9.13 ('base')",
   "language": "python",
   "name": "python3"
  },
  "language_info": {
   "codemirror_mode": {
    "name": "ipython",
    "version": 3
   },
   "file_extension": ".py",
   "mimetype": "text/x-python",
   "name": "python",
   "nbconvert_exporter": "python",
   "pygments_lexer": "ipython3",
   "version": "3.9.13"
  },
  "orig_nbformat": 4,
  "vscode": {
   "interpreter": {
    "hash": "13d8d4cd6f551a18c363f4a9a34e8382caadd65d1d29b8174a12246b9ecfe3e0"
   }
  }
 },
 "nbformat": 4,
 "nbformat_minor": 2
}
