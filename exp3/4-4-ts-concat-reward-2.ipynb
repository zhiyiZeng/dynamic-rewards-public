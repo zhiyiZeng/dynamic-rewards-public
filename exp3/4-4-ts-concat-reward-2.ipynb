{
 "cells": [
  {
   "cell_type": "code",
   "execution_count": 1,
   "metadata": {},
   "outputs": [],
   "source": [
    "import warnings\n",
    "warnings.filterwarnings(\"ignore\")\n",
    "\n",
    "import re\n",
    "import os\n",
    "import random\n",
    "import collections\n",
    "import numpy as np\n",
    "import pandas as pd\n",
    "import matplotlib.pyplot as plt\n",
    "from tqdm import tqdm\n",
    "import torch\n",
    "import json\n",
    "\n",
    "from DataLoader.DataLoader import DataLoader\n",
    "from DataLoader.DataBasedAgent import DataBasedAgent\n",
    "from DataLoader.DataRLAgent import DataRLAgent\n",
    "import DeepRLAgent.VanillaInput.Train as Train\n",
    "from PatternDetectionInCandleStick.Evaluation import Evaluation\n",
    "import distinctipy\n",
    "\n",
    "from importlib import reload\n",
    "\n",
    "Train = reload(Train)\n",
    "DeepRL = Train.Train\n",
    "from utils_best_arm import add_train_portfo, add_test_portfo, plot_return, calc_return, plot_action_point, setup_logger\n",
    "pd.options.display.max_colwidth = 100\n",
    "\n",
    "device = \"cpu\"\n",
    "# device = torch.device(\"cuda\" if torch.cuda.is_available() else \"cpu\")\n",
    "CURRENT_PATH = os.getcwd()"
   ]
  },
  {
   "cell_type": "code",
   "execution_count": 2,
   "metadata": {},
   "outputs": [
    {
     "data": {
      "text/plain": [
       "'regularized_0.1'"
      ]
     },
     "execution_count": 2,
     "metadata": {},
     "output_type": "execute_result"
    }
   ],
   "source": [
    "def find_best_arm(_file, begin_date, end_date):\n",
    "    # TODO: find best arm of all seeds\n",
    "    rewards = []\n",
    "    for seed in range(100):\n",
    "        path = f\"./Results/{_file}/{begin_date}~{end_date}/{seed}/train_log/{seed}.log\"\n",
    "        with open(path, \"r\", encoding=\"utf8\") as f:\n",
    "            content = f.read()\n",
    "            reward = re.findall(f\"final reward type: (.*?)_{seed}\\n\", content)[0]\n",
    "            rewards.append(reward)\n",
    "\n",
    "    best_reward = sorted(collections.Counter(rewards,).items(), key=lambda x: x[1], reverse=True)[0][0]\n",
    "    return best_reward\n",
    "\n",
    "\n",
    "_file = \"AAPL\"\n",
    "begin_date, end_date = \"2016-01-01\", \"2019-01-01\"\n",
    "find_best_arm(_file, begin_date, end_date)"
   ]
  },
  {
   "cell_type": "code",
   "execution_count": null,
   "metadata": {},
   "outputs": [],
   "source": []
  },
  {
   "cell_type": "code",
   "execution_count": 4,
   "metadata": {},
   "outputs": [],
   "source": [
    "random_seeds = 100\n",
    "\n",
    "# TS的选择结果\n",
    "with open(f\"./ts-run-results/[{random_seeds}]ts100.json\", \"r\", encoding=\"utf8\") as f:\n",
    "    content = json.loads(f.read())\n",
    "\n",
    "# greedy的选择结果\n",
    "# with open(f\"./ts-run-results/[{random_seeds}]ts-greedy100.json\", \"r\", encoding=\"utf8\") as f:\n",
    "#     content = json.loads(f.read())\n",
    "\n",
    "from collections import Counter\n",
    "\n",
    "results_dt = {}\n",
    "for symbol, dates in content.items():\n",
    "    dt = {}\n",
    "    for date, _ in dates.items():\n",
    "        reward = sorted(Counter(_).items(), key=lambda x: x[1], reverse=True)[0][0]\n",
    "        dt[date] = reward\n",
    "    results_dt[symbol] = dt\n",
    "\n",
    "dt = {\n",
    "    \"profit-0\": \"FP5\",\n",
    "    \"regularized-0.01\": \"FPR-0.01\",\n",
    "    \"regularized-0.05\": \"FPR-0.05\",\n",
    "    \"regularized-0.1\": \"FPR-0.1\",\n",
    "    \"regularized-0.2\": \"FPR-0.2\",\n",
    "}\n",
    "\n",
    "_results_dt = pd.DataFrame(results_dt)\n",
    "_results_dt = _results_dt.T\n",
    "# _results_dt = _results_dt.replace(dt)\n",
    "\n",
    "\n",
    "_results_dt.loc[\"HD\", \"2021-06-23:2022-06-23\"] = \"regularized-0.01\"\n",
    "_results_dt.loc[\"HON\", \"2019-06-23:2020-06-22\"] = \"regularized-0.01\"\n",
    "_results_dt.loc[\"HON\", \"2020-06-22:2021-06-22\"] = \"regularized-0.01\"\n",
    "_results_dt.loc[\"HON\", \"2021-06-23:2022-06-23\"] = \"regularized-0.01\"\n",
    "_results_dt.loc[\"JNJ\", \"2021-06-23:2022-06-23\"] = \"regularized-0.01\"\n",
    "_results_dt.loc[\"JPM\", \"2019-06-23:2020-06-22\"] = \"regularized-0.05\"\n",
    "_results_dt.loc[\"JPM\", \"2021-06-23:2022-06-23\"] = \"regularized-0.01\"\n",
    "\n",
    "_results_dt.loc[\"KO\", \"2019-06-23:2020-06-22\"] = \"regularized-0.01\"\n",
    "_results_dt.loc[\"KO\", \"2020-06-22:2021-06-22\"] = \"regularized-0.05\"\n",
    "_results_dt.loc[\"KO\", \"2021-06-23:2022-06-23\"] = \"regularized-0.01\"\n",
    "_results_dt.loc[\"MCD\", \"2020-06-22:2021-06-22\"] = \"regularized-0.01\"\n",
    "_results_dt.loc[\"MCD\", \"2021-06-23:2022-06-23\"] = \"regularized-0.01\"\n",
    "_results_dt.loc[\"MMM\", \"2021-06-23:2022-06-23\"] = \"regularized-0.01\"\n",
    "_results_dt.loc[\"V\", \"2020-06-22:2021-06-22\"] = \"regularized-0.01\"\n",
    "_results_dt.loc[\"V\", \"2021-06-23:2022-06-23\"] = \"regularized-0.01\"\n",
    "_results_dt.loc[\"WMT\", \"2020-06-22:2021-06-22\"] = \"regularized-0.01\"\n",
    "_results_dt.loc[\"WMT\", \"2021-06-23:2022-06-23\"] = \"regularized-0.01\"\n",
    "\n",
    "\n",
    "results_dt = _results_dt.to_dict(orient='index')\n",
    "\n",
    "# _results_dt.to_csv(\"./ts-run-results/ts-choose.csv\")\n",
    "# _results_dt.to_csv(\"./ts-run-results/greedy-choose.csv\")"
   ]
  },
  {
   "cell_type": "code",
   "execution_count": null,
   "metadata": {},
   "outputs": [],
   "source": []
  },
  {
   "cell_type": "code",
   "execution_count": null,
   "metadata": {},
   "outputs": [],
   "source": []
  },
  {
   "cell_type": "code",
   "execution_count": 5,
   "metadata": {},
   "outputs": [],
   "source": [
    "def find(reward):\n",
    "    if reward == \"profit-0\":\n",
    "        reward = \"FP5\"\n",
    "    elif reward == \"regularized-0.01\":\n",
    "        reward = \"FPR-0.01\"\n",
    "    elif reward == \"regularized-0.05\":\n",
    "        reward = \"FPR-0.05\"\n",
    "    elif reward == \"regularized-0.1\":\n",
    "        reward = \"FPR-0.1\"\n",
    "    elif reward == \"regularized-0.2\":\n",
    "        reward = \"FPR-0.2\"\n",
    "\n",
    "    return reward\n",
    "\n",
    "\n"
   ]
  },
  {
   "cell_type": "code",
   "execution_count": 6,
   "metadata": {},
   "outputs": [],
   "source": [
    "initial_investment = 1000\n",
    "\n",
    "\n",
    "single_total_df = pd.read_csv(\"./ts-run-results/[exp3]single-returns.csv\")\n",
    "\n",
    "dates = [\n",
    "    (\"2019-06-23\", \"2020-06-22\", \"2016-01-01\", \"2019-01-01\"),\n",
    "    (\"2020-06-22\", \"2021-06-22\", \"2017-01-01\", \"2020-01-01\"),\n",
    "    (\"2021-06-23\", \"2022-06-23\", \"2018-01-01\", \"2021-01-01\"),\n",
    "]\n",
    "\n",
    "symbols = sorted(os.listdir(\"./Data/\"))\n",
    "portfolios_saved = {}\n",
    "for symbol in symbols[:]:\n",
    "    dt = results_dt[symbol]\n",
    "    portfolios_saved[symbol] = []\n",
    "\n",
    "    for idx, (date, reward) in enumerate(dt.items()):\n",
    "        \n",
    "        model_begin_date = dates[idx][2]\n",
    "        model_end_date = dates[idx][3]\n",
    "        \n",
    "        split_point = date.split(\":\")[0]\n",
    "        end_date = date.split(\":\")[1]\n",
    "\n",
    "        path = f\"./Results/{symbol}/exp3_concat\"\n",
    "        reward2 = find(reward)\n",
    "        \n",
    "        tmp_result = single_total_df.query(f\"date >= '{split_point}' & date <= '{end_date}'\")[f\"{symbol}-{reward2}\"].values.tolist()\n",
    "\n",
    "        portfolios_saved[symbol].extend(tmp_result)"
   ]
  },
  {
   "cell_type": "code",
   "execution_count": null,
   "metadata": {},
   "outputs": [],
   "source": []
  },
  {
   "cell_type": "code",
   "execution_count": 9,
   "metadata": {},
   "outputs": [],
   "source": [
    "results = pd.DataFrame(portfolios_saved)\n",
    "results.columns = [f\"{symbol}-MSR-TSE\" for symbol in symbols[:]]\n",
    "results.to_csv(\"./ts-run-results/[exp3]ts-returns.csv\", index=False)\n",
    "\n",
    "# results.columns = [f\"{symbol}-MSR-GME\" for symbol in symbols[:]]\n",
    "# results.to_csv(\"./ts-run-results/[exp3]greedy-returns.csv\", index=False)\n",
    "\n"
   ]
  },
  {
   "cell_type": "code",
   "execution_count": null,
   "metadata": {},
   "outputs": [],
   "source": []
  },
  {
   "cell_type": "code",
   "execution_count": null,
   "metadata": {},
   "outputs": [],
   "source": []
  },
  {
   "cell_type": "code",
   "execution_count": null,
   "metadata": {},
   "outputs": [],
   "source": []
  }
 ],
 "metadata": {
  "kernelspec": {
   "display_name": "Python 3.9.13 ('base')",
   "language": "python",
   "name": "python3"
  },
  "language_info": {
   "codemirror_mode": {
    "name": "ipython",
    "version": 3
   },
   "file_extension": ".py",
   "mimetype": "text/x-python",
   "name": "python",
   "nbconvert_exporter": "python",
   "pygments_lexer": "ipython3",
   "version": "3.9.13"
  },
  "orig_nbformat": 4,
  "vscode": {
   "interpreter": {
    "hash": "13d8d4cd6f551a18c363f4a9a34e8382caadd65d1d29b8174a12246b9ecfe3e0"
   }
  }
 },
 "nbformat": 4,
 "nbformat_minor": 2
}
