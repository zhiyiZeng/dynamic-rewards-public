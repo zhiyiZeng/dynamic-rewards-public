{
 "cells": [
  {
   "cell_type": "code",
   "execution_count": 4,
   "metadata": {},
   "outputs": [],
   "source": [
    "import os\n",
    "import pandas as pd "
   ]
  },
  {
   "cell_type": "code",
   "execution_count": 5,
   "metadata": {},
   "outputs": [],
   "source": [
    "greedy = pd.read_csv(\"./ts-run-results/[100]ts-greedy-concat-single-reward.csv\", index_col=[0])\n",
    "ts = pd.read_csv(\"./ts-run-results/[100]ts-concat-single-reward.csv\", index_col=[0])\n",
    "singles = pd.read_csv(\"./ts-run-results/[100]ts-single-reward.csv\", index_col=[0])"
   ]
  },
  {
   "cell_type": "code",
   "execution_count": 91,
   "metadata": {},
   "outputs": [],
   "source": [
    "def _filter(symbol):\n",
    "    print(symbol)\n",
    "    ls = []\n",
    "    cols = singles.columns\n",
    "    for col in cols:\n",
    "        if symbol in col:\n",
    "            ls.append(col)\n",
    "    _df_singles = singles[ls]\n",
    "    _df_singles.columns = [col.replace(f\"{symbol}-\", \"\") for col in _df_singles.columns]\n",
    "\n",
    "    cols = greedy.columns\n",
    "    ls = []\n",
    "    for col in cols:\n",
    "        if symbol in col:\n",
    "            ls.append(col)\n",
    "    _df_greedy = greedy[ls]\n",
    "    \n",
    "    ls = []\n",
    "    cols = ts.columns\n",
    "    for col in cols:\n",
    "        if symbol in col:\n",
    "            ls.append(col)\n",
    "    _df_ts = ts[ls]\n",
    "    del _df_ts[f\"{symbol}-B&H\"]\n",
    "    _df = pd.concat([_df_greedy, _df_ts], axis=1)\n",
    "    _df.columns = [f\"B&H\", f\"greedy-concat\", f\"ts-concat\", ]\n",
    "    del _df[f\"B&H\"]\n",
    "\n",
    "    _df = pd.concat([_df_singles, _df], axis=1)\n",
    "    _df = _df.round(4)\n",
    "    _df = _df.T\n",
    "    _df.columns = [col.replace(\"_test\", \"\") for col in _df.columns]\n",
    "    return _df\n",
    "\n",
    "\n",
    "def convert_latex(symbol, _df):\n",
    "    template = \"\\\\begin{table}[H]\\n\" + \\\n",
    "        \"    \\\\label{table:\" + symbol + \"}\\n\" + \\\n",
    "        \"    \\\\caption{\" + symbol + \"}\\n\" + \\\n",
    "        \"    \\\\begin{tabular}{l c c c c c c}\\n\" + \\\n",
    "        \"    \\\\hline\\n\" + \\\n",
    "        \"                     & sortino & sharpe &\trisk &  mdd    &  downrisk &\tcumreturn     \\\\\\ \\n\" + \\\n",
    "        \"    \\\\hline\\n\" + \\\n",
    "        f\"    B\\\\&H\t         &  {_df['sortino'].iloc[0]:.4f} & {_df['sharpe'].iloc[0]:.4f}\t& {_df['risk'].iloc[0]:.4f} &  {_df['mdd'].iloc[0]:.4f} &  {_df['downrisk'].iloc[0]:.4f}   & \t{_df['cumreturn'].iloc[0]:.4f}        \\\\\\ \\n\" + \\\n",
    "        f\"    profit-0\t     &  {_df['sortino'].iloc[1]:.4f} & {_df['sharpe'].iloc[1]:.4f}\t& {_df['risk'].iloc[1]:.4f} & \t{_df['mdd'].iloc[1]:.4f} &  {_df['downrisk'].iloc[1]:.4f}   & \t{_df['cumreturn'].iloc[1]:.4f}        \\\\\\ \\n\" + \\\n",
    "        f\"    regularized-0.01 &\t{_df['sortino'].iloc[2]} & {_df['sharpe'].iloc[2]:.4f}\t& {_df['risk'].iloc[2]:.4f} & \t{_df['mdd'].iloc[2]:.4f} &  {_df['downrisk'].iloc[2]:.4f}   & \t{_df['cumreturn'].iloc[2]:.4f}        \\\\\\ \\n\" + \\\n",
    "        f\"    regularized-0.05 & \t{_df['sortino'].iloc[3]:.4f} & {_df['sharpe'].iloc[3]:.4f}\t& {_df['risk'].iloc[3]:.4f} & \t{_df['mdd'].iloc[3]:.4f} &  {_df['downrisk'].iloc[3]:.4f}   & \t{_df['cumreturn'].iloc[3]:.4f}        \\\\\\ \\n\" + \\\n",
    "        f\"    regularized-0.1\t &  {_df['sortino'].iloc[4]:.4f} & {_df['sharpe'].iloc[4]:.4f}\t& {_df['risk'].iloc[4]:.4f} & \t{_df['mdd'].iloc[4]:.4f} &  {_df['downrisk'].iloc[4]:.4f}   & \t{_df['cumreturn'].iloc[4]:.4f}        \\\\\\ \\n\" + \\\n",
    "        f\"    regularized-0.2\t &  {_df['sortino'].iloc[5]:.4f} & {_df['sharpe'].iloc[5]:.4f}\t& {_df['risk'].iloc[5]:.4f} & \t{_df['mdd'].iloc[5]:.4f} &  {_df['downrisk'].iloc[5]:.4f}   & \t{_df['cumreturn'].iloc[5]:.4f}        \\\\\\ \\n\" + \\\n",
    "        f\"    sharpe-0.01\t     &  {_df['sortino'].iloc[6]:.4f} & {_df['sharpe'].iloc[6]:.4f}\t& {_df['risk'].iloc[6]:.4f} & \t{_df['mdd'].iloc[6]:.4f} &  {_df['downrisk'].iloc[6]:.4f}   & \t{_df['cumreturn'].iloc[6]:.4f}        \\\\\\ \\n\" + \\\n",
    "        f\"    volatility-10\t &  {_df['sortino'].iloc[7]:.4f} & {_df['sharpe'].iloc[7]:.4f}\t& {_df['risk'].iloc[7]:.4f} & \t{_df['mdd'].iloc[7]:.4f} &  {_df['downrisk'].iloc[7]:.4f}   & \t{_df['cumreturn'].iloc[7]:.4f}        \\\\\\ \\n\" + \\\n",
    "        f\"    greedy-concat\t &  {_df['sortino'].iloc[8]:.4f} & {_df['sharpe'].iloc[8]:.4f}\t& {_df['risk'].iloc[8]:.4f} & \t{_df['mdd'].iloc[8]:.4f} &  {_df['downrisk'].iloc[8]:.4f}   & \t{_df['cumreturn'].iloc[8]:.4f}        \\\\\\ \\n\" + \\\n",
    "        f\"    ts-concat\t     &  {_df['sortino'].iloc[9]:.4f} & {_df['sharpe'].iloc[9]:.4f}\t& {_df['risk'].iloc[9]:.4f} & \t{_df['mdd'].iloc[9]:.4f} &  {_df['downrisk'].iloc[9]:.4f}   & \t{_df['cumreturn'].iloc[9]:.4f}        \\\\\\ \\n\" + \\\n",
    "        \"    \\hline\\n\" + \\\n",
    "        \"\\\\end{tabular}\\n\" + \\\n",
    "    \"\\\\end{table}\\n\"\n",
    "    print(template)"
   ]
  },
  {
   "cell_type": "code",
   "execution_count": 92,
   "metadata": {},
   "outputs": [],
   "source": [
    "symbols = os.listdir(\"./Results/\")\n",
    "# for symbol in symbols:\n",
    "#     _df = _filter(symbol)\n",
    "#     _df.to_csv(f\"{symbol}.csv\")"
   ]
  },
  {
   "cell_type": "code",
   "execution_count": 93,
   "metadata": {},
   "outputs": [
    {
     "name": "stdout",
     "output_type": "stream",
     "text": [
      "AAPL\n",
      "\\begin{table}[H]\n",
      "    \\label{table:AAPL}\n",
      "    \\caption{AAPL}\n",
      "    \\begin{tabular}{l c c c c c c}\n",
      "    \\hline\n",
      "                     & sortino & sharpe &\trisk &  mdd    &  downrisk &\tcumreturn     \\\\ \n",
      "    \\hline\n",
      "    B\\&H\t         &  1.6173 & 1.1704\t& 0.3506 &  0.3143 &  0.2537   & \t1.8536        \\\\ \n",
      "    profit-0\t     &  1.7329 & 1.2864\t& 0.3122 & \t0.3545 &  0.2315   & \t1.9241        \\\\ \n",
      "    regularized-0.01 &\t1.8809 & 1.3912\t& 0.3042 & \t0.3451 &  0.2242   & \t2.1621        \\\\ \n",
      "    regularized-0.05 & \t2.3925 & 1.7317\t& 0.2522 & \t0.3222 &  0.1817   & \t2.5631        \\\\ \n",
      "    regularized-0.1\t &  3.5300 & 1.8565\t& 0.1646 & \t0.1079 &  0.0832   & \t1.2519        \\\\ \n",
      "    regularized-0.2\t &  0.0000 & 0.0000\t& 0.0000 & \t0.0000 &  0.0000   & \t0.0000        \\\\ \n",
      "    sharpe-0.01\t     &  1.5612 & 1.1341\t& 0.3482 & \t0.3143 &  0.2533   & \t1.7308        \\\\ \n",
      "    volatility-10\t &  1.3479 & 0.9750\t& 0.2472 & \t0.3143 &  0.1875   & \t0.7840        \\\\ \n",
      "    greedy-concat\t &  2.5920 & 1.8478\t& 0.2873 & \t0.3222 &  0.2044   & \t3.3003        \\\\ \n",
      "    ts-concat\t     &  2.5920 & 1.8478\t& 0.2873 & \t0.3222 &  0.2044   & \t3.3003        \\\\ \n",
      "    \\hline\n",
      "\\end{tabular}\n",
      "\\end{table}\n",
      "\n"
     ]
    }
   ],
   "source": [
    "symbol = symbols[0]\n",
    "_df = _filter(symbol)\n",
    "convert_latex(symbol, _df)"
   ]
  },
  {
   "cell_type": "code",
   "execution_count": 95,
   "metadata": {},
   "outputs": [
    {
     "name": "stdout",
     "output_type": "stream",
     "text": [
      "AMGN\n",
      "\\begin{table}[H]\n",
      "    \\label{table:AMGN}\n",
      "    \\caption{AMGN}\n",
      "    \\begin{tabular}{l c c c c c c}\n",
      "    \\hline\n",
      "                     & sortino & sharpe &\trisk &  mdd    &  downrisk &\tcumreturn     \\\\ \n",
      "    \\hline\n",
      "    B\\&H\t         &  0.8402 & 0.5712\t& 0.2778 &  0.2453 &  0.1889   & \t0.4361        \\\\ \n",
      "    profit-0\t     &  2.9620 & 1.9719\t& 0.2213 & \t0.1694 &  0.1429   & \t2.3731        \\\\ \n",
      "    regularized-0.01 &\t3.5505 & 2.2447\t& 0.1810 & \t0.2216 &  0.1152   & \t2.0056        \\\\ \n",
      "    regularized-0.05 & \t0.0000 & 0.0000\t& 0.0000 & \t0.0000 &  0.0000   & \t0.0000        \\\\ \n",
      "    regularized-0.1\t &  0.0000 & 0.0000\t& 0.0000 & \t0.0000 &  0.0000   & \t0.0000        \\\\ \n",
      "    regularized-0.2\t &  0.0000 & 0.0000\t& 0.0000 & \t0.0000 &  0.0000   & \t0.0000        \\\\ \n",
      "    sharpe-0.01\t     &  0.8088 & 0.5510\t& 0.2772 & \t0.2453 &  0.1888   & \t0.4133        \\\\ \n",
      "    volatility-10\t &  0.3656 & 0.2581\t& 0.1562 & \t0.2381 &  0.1297   & \t0.0620        \\\\ \n",
      "    greedy-concat\t &  3.5277 & 2.2466\t& 0.2160 & \t0.1644 &  0.1358   & \t2.9696        \\\\ \n",
      "    ts-concat\t     &  3.5505 & 2.2447\t& 0.1810 & \t0.2216 &  0.1152   & \t2.0056        \\\\ \n",
      "    \\hline\n",
      "\\end{tabular}\n",
      "\\end{table}\n",
      "\n"
     ]
    }
   ],
   "source": [
    "symbol = symbols[1]\n",
    "_df = _filter(symbol)\n",
    "convert_latex(symbol, _df)"
   ]
  },
  {
   "cell_type": "code",
   "execution_count": 97,
   "metadata": {},
   "outputs": [
    {
     "name": "stdout",
     "output_type": "stream",
     "text": [
      "AXP\n",
      "\\begin{table}[H]\n",
      "    \\label{table:AXP}\n",
      "    \\caption{AXP}\n",
      "    \\begin{tabular}{l c c c c c c}\n",
      "    \\hline\n",
      "                     & sortino & sharpe &\trisk &  mdd    &  downrisk &\tcumreturn     \\\\ \n",
      "    \\hline\n",
      "    B\\&H\t         &  0.4959 & 0.3475\t& 0.4409 &  0.4964 &  0.3089   & \t0.1895        \\\\ \n",
      "    profit-0\t     &  2.1880 & 1.5065\t& 0.3882 & \t0.5342 &  0.2720   & \t3.8507        \\\\ \n",
      "    regularized-0.01 &\t2.6098 & 1.7599\t& 0.3714 & \t0.5306 &  0.2529   & \t5.0496        \\\\ \n",
      "    regularized-0.05 & \t2.5271 & 1.2944\t& 0.2251 & \t0.3010 &  0.1161   & \t1.2319        \\\\ \n",
      "    regularized-0.1\t &  0.0000 & 0.0000\t& 0.0000 & \t0.0000 &  0.0000   & \t0.0000        \\\\ \n",
      "    regularized-0.2\t &  0.0000 & 0.0000\t& 0.0000 & \t0.0000 &  0.0000   & \t0.0000        \\\\ \n",
      "    sharpe-0.01\t     &  0.4790 & 0.3361\t& 0.4398 & \t0.4964 &  0.3085   & \t0.1727        \\\\ \n",
      "    volatility-10\t &  0.4944 & 0.3158\t& 0.2911 & \t0.4909 &  0.2374   & \t0.1393        \\\\ \n",
      "    greedy-concat\t &  2.2891 & 1.5861\t& 0.3765 & \t0.5306 &  0.2617   & \t4.1786        \\\\ \n",
      "    ts-concat\t     &  4.8791 & 2.6541\t& 0.3191 & \t0.3010 &  0.1729   & \t9.5933        \\\\ \n",
      "    \\hline\n",
      "\\end{tabular}\n",
      "\\end{table}\n",
      "\n"
     ]
    }
   ],
   "source": [
    "symbol = symbols[2]\n",
    "_df = _filter(symbol)\n",
    "convert_latex(symbol, _df)"
   ]
  },
  {
   "cell_type": "code",
   "execution_count": 98,
   "metadata": {},
   "outputs": [
    {
     "name": "stdout",
     "output_type": "stream",
     "text": [
      "BA\n",
      "\\begin{table}[H]\n",
      "    \\label{table:BA}\n",
      "    \\caption{BA}\n",
      "    \\begin{tabular}{l c c c c c c}\n",
      "    \\hline\n",
      "                     & sortino & sharpe &\trisk &  mdd    &  downrisk &\tcumreturn     \\\\ \n",
      "    \\hline\n",
      "    B\\&H\t         &  -0.3730 & -0.2681\t& 0.5931 &  0.7515 &  0.4263   & \t-0.6353        \\\\ \n",
      "    profit-0\t     &  1.1624 & 0.8419\t& 0.5400 & \t0.7515 &  0.3916   & \t1.5320        \\\\ \n",
      "    regularized-0.01 &\t1.2195 & 0.8338\t& 0.4630 & \t0.7375 &  0.3260   & \t1.3352        \\\\ \n",
      "    regularized-0.05 & \t0.0000 & 0.0000\t& 0.0000 & \t0.0000 &  0.0000   & \t0.0000        \\\\ \n",
      "    regularized-0.1\t &  0.0000 & 0.0000\t& 0.0000 & \t0.0000 &  0.0000   & \t0.0000        \\\\ \n",
      "    regularized-0.2\t &  0.0000 & 0.0000\t& 0.0000 & \t0.0000 &  0.0000   & \t0.0000        \\\\ \n",
      "    sharpe-0.01\t     &  -0.3688 & -0.2630\t& 0.5909 & \t0.7515 &  0.4272   & \t-0.6263        \\\\ \n",
      "    volatility-10\t &  0.0000 & 0.0000\t& 0.3392 & \t0.5492 &  0.2634   & \t0.0000        \\\\ \n",
      "    greedy-concat\t &  1.3040 & 0.9440\t& 0.5179 & \t0.7375 &  0.3706   & \t1.9260        \\\\ \n",
      "    ts-concat\t     &  1.2195 & 0.8338\t& 0.4630 & \t0.7375 &  0.3260   & \t1.3352        \\\\ \n",
      "    \\hline\n",
      "\\end{tabular}\n",
      "\\end{table}\n",
      "\n"
     ]
    }
   ],
   "source": [
    "symbol = symbols[3]\n",
    "_df = _filter(symbol)\n",
    "convert_latex(symbol, _df)"
   ]
  },
  {
   "cell_type": "code",
   "execution_count": 99,
   "metadata": {},
   "outputs": [
    {
     "name": "stdout",
     "output_type": "stream",
     "text": [
      "CAT\n",
      "\\begin{table}[H]\n",
      "    \\label{table:CAT}\n",
      "    \\caption{CAT}\n",
      "    \\begin{tabular}{l c c c c c c}\n",
      "    \\hline\n",
      "                     & sortino & sharpe &\trisk &  mdd    &  downrisk &\tcumreturn     \\\\ \n",
      "    \\hline\n",
      "    B\\&H\t         &  0.7035 & 0.5221\t& 0.3429 &  0.3855 &  0.2544   & \t0.4339        \\\\ \n",
      "    profit-0\t     &  2.0071 & 1.4922\t& 0.3060 & \t0.3855 &  0.2272   & \t2.3927        \\\\ \n",
      "    regularized-0.01 &\t2.0712 & 1.5153\t& 0.2971 & \t0.3855 &  0.2189   & \t2.4169        \\\\ \n",
      "    regularized-0.05 & \t1.0122 & 0.6867\t& 0.1548 & \t0.2351 &  0.0969   & \t0.3237        \\\\ \n",
      "    regularized-0.1\t &  0.0000 & 0.0000\t& 0.0009 & \t0.0000 &  0.0000   & \t0.0000        \\\\ \n",
      "    regularized-0.2\t &  0.0000 & 0.0000\t& 0.0000 & \t0.0000 &  0.0000   & \t0.0000        \\\\ \n",
      "    sharpe-0.01\t     &  0.6651 & 0.4946\t& 0.3417 & \t0.3855 &  0.2541   & \t0.3951        \\\\ \n",
      "    volatility-10\t &  0.0000 & 0.0000\t& 0.1899 & \t0.3082 &  0.1935   & \t-0.0617        \\\\ \n",
      "    greedy-concat\t &  3.2207 & 2.1800\t& 0.2343 & \t0.2357 &  0.1565   & \t2.9918        \\\\ \n",
      "    ts-concat\t     &  3.1409 & 2.1114\t& 0.2305 & \t0.2357 &  0.1517   & \t2.6274        \\\\ \n",
      "    \\hline\n",
      "\\end{tabular}\n",
      "\\end{table}\n",
      "\n"
     ]
    }
   ],
   "source": [
    "symbol = symbols[4]\n",
    "_df = _filter(symbol)\n",
    "convert_latex(symbol, _df)"
   ]
  },
  {
   "cell_type": "code",
   "execution_count": 100,
   "metadata": {},
   "outputs": [
    {
     "name": "stdout",
     "output_type": "stream",
     "text": [
      "CRM\n",
      "\\begin{table}[H]\n",
      "    \\label{table:CRM}\n",
      "    \\caption{CRM}\n",
      "    \\begin{tabular}{l c c c c c c}\n",
      "    \\hline\n",
      "                     & sortino & sharpe &\trisk &  mdd    &  downrisk &\tcumreturn     \\\\ \n",
      "    \\hline\n",
      "    B\\&H\t         &  0.4257 & 0.3045\t& 0.4078 &  0.4980 &  0.2917   & \t0.1343        \\\\ \n",
      "    profit-0\t     &  2.5046 & 1.6716\t& 0.3457 & \t0.3742 &  0.2305   & \t3.8730        \\\\ \n",
      "    regularized-0.01 &\t3.1225 & 1.9846\t& 0.3275 & \t0.3572 &  0.2091   & \t5.1902        \\\\ \n",
      "    regularized-0.05 & \t0.7873 & 0.4939\t& 0.1194 & \t0.1491 &  0.0870   & \t0.1587        \\\\ \n",
      "    regularized-0.1\t &  0.0000 & 0.0000\t& 0.0255 & \t0.0602 &  0.0360   & \t-0.0052        \\\\ \n",
      "    regularized-0.2\t &  0.0000 & 0.0000\t& 0.0000 & \t0.0000 &  0.0000   & \t0.0000        \\\\ \n",
      "    sharpe-0.01\t     &  0.4623 & 0.3324\t& 0.4066 & \t0.4980 &  0.2922   & \t0.1749        \\\\ \n",
      "    volatility-10\t &  -0.1233 & -0.1667\t& 0.2705 & \t0.4765 &  0.2781   & \t-0.2091        \\\\ \n",
      "    greedy-concat\t &  3.3118 & 1.8144\t& 0.2907 & \t0.2217 &  0.1595   & \t3.3922        \\\\ \n",
      "    ts-concat\t     &  4.2818 & 2.1631\t& 0.2770 & \t0.1717 &  0.1403   & \t4.4606        \\\\ \n",
      "    \\hline\n",
      "\\end{tabular}\n",
      "\\end{table}\n",
      "\n"
     ]
    }
   ],
   "source": [
    "symbol = symbols[5]\n",
    "\n",
    "_df = _filter(symbol)\n",
    "convert_latex(symbol, _df)"
   ]
  },
  {
   "cell_type": "code",
   "execution_count": 101,
   "metadata": {},
   "outputs": [
    {
     "name": "stdout",
     "output_type": "stream",
     "text": [
      "CSCO\n",
      "\\begin{table}[H]\n",
      "    \\label{table:CSCO}\n",
      "    \\caption{CSCO}\n",
      "    \\begin{tabular}{l c c c c c c}\n",
      "    \\hline\n",
      "                     & sortino & sharpe &\trisk &  mdd    &  downrisk &\tcumreturn     \\\\ \n",
      "    \\hline\n",
      "    B\\&H\t         &  -0.0578 & -0.0479\t& 0.3161 &  0.4195 &  0.2618   & \t-0.1791        \\\\ \n",
      "    profit-0\t     &  1.3253 & 0.9981\t& 0.2561 & \t0.3557 &  0.1928   & \t0.9703        \\\\ \n",
      "    regularized-0.01 &\t1.3503 & 1.0126\t& 0.2501 & \t0.3566 &  0.1848   & \t0.9748        \\\\ \n",
      "    regularized-0.05 & \t1.4991 & 1.0981\t& 0.2196 & \t0.3759 &  0.1592   & \t0.9004        \\\\ \n",
      "    regularized-0.1\t &  1.5178 & 1.1240\t& 0.1883 & \t0.3166 &  0.1360   & \t0.7599        \\\\ \n",
      "    regularized-0.2\t &  0.0000 & 0.0000\t& 0.0340 & \t0.0451 &  0.0254   & \t0.0000        \\\\ \n",
      "    sharpe-0.01\t     &  -0.0305 & -0.0254\t& 0.3152 & \t0.4195 &  0.2625   & \t-0.1612        \\\\ \n",
      "    volatility-10\t &  -0.1219 & -0.2182\t& 0.1765 & \t0.3806 &  0.2307   & \t-0.1697        \\\\ \n",
      "    greedy-concat\t &  2.0921 & 1.5500\t& 0.2094 & \t0.3166 &  0.1534   & \t1.4388        \\\\ \n",
      "    ts-concat\t     &  2.0606 & 1.5356\t& 0.2053 & \t0.3166 &  0.1493   & \t1.3555        \\\\ \n",
      "    \\hline\n",
      "\\end{tabular}\n",
      "\\end{table}\n",
      "\n"
     ]
    }
   ],
   "source": [
    "symbol = symbols[6]\n",
    "_df = _filter(symbol)\n",
    "convert_latex(symbol, _df)"
   ]
  },
  {
   "cell_type": "code",
   "execution_count": 102,
   "metadata": {},
   "outputs": [
    {
     "name": "stdout",
     "output_type": "stream",
     "text": [
      "CVX\n",
      "\\begin{table}[H]\n",
      "    \\label{table:CVX}\n",
      "    \\caption{CVX}\n",
      "    \\begin{tabular}{l c c c c c c}\n",
      "    \\hline\n",
      "                     & sortino & sharpe &\trisk &  mdd    &  downrisk &\tcumreturn     \\\\ \n",
      "    \\hline\n",
      "    B\\&H\t         &  0.5405 & 0.4314\t& 0.4098 &  0.5577 &  0.3271   & \t0.3180        \\\\ \n",
      "    profit-0\t     &  2.8148 & 1.9858\t& 0.3300 & \t0.3807 &  0.2321   & \t5.0090        \\\\ \n",
      "    regularized-0.01 &\t2.7142 & 1.8792\t& 0.3152 & \t0.3755 &  0.2204   & \t4.1222        \\\\ \n",
      "    regularized-0.05 & \t0.0000 & -0.0054\t& 0.0813 & \t0.1791 &  0.0983   & \t-0.0119        \\\\ \n",
      "    regularized-0.1\t &  0.0000 & 0.0000\t& 0.0000 & \t0.0000 &  0.0000   & \t0.0000        \\\\ \n",
      "    regularized-0.2\t &  0.0000 & 0.0000\t& 0.0000 & \t0.0000 &  0.0000   & \t0.0000        \\\\ \n",
      "    sharpe-0.01\t     &  0.5441 & 0.4346\t& 0.4089 & \t0.5577 &  0.3265   & \t0.3245        \\\\ \n",
      "    volatility-10\t &  0.2051 & 0.1604\t& 0.2309 & \t0.3699 &  0.2036   & \t0.0000        \\\\ \n",
      "    greedy-concat\t &  2.9046 & 2.0329\t& 0.3246 & \t0.3755 &  0.2270   & \t5.2271        \\\\ \n",
      "    ts-concat\t     &  2.7142 & 1.8792\t& 0.3152 & \t0.3755 &  0.2204   & \t4.1222        \\\\ \n",
      "    \\hline\n",
      "\\end{tabular}\n",
      "\\end{table}\n",
      "\n"
     ]
    }
   ],
   "source": [
    "symbol = symbols[7]\n",
    "_df = _filter(symbol)\n",
    "convert_latex(symbol, _df)"
   ]
  },
  {
   "cell_type": "code",
   "execution_count": 103,
   "metadata": {},
   "outputs": [
    {
     "name": "stdout",
     "output_type": "stream",
     "text": [
      "DIS\n",
      "\\begin{table}[H]\n",
      "    \\label{table:DIS}\n",
      "    \\caption{DIS}\n",
      "    \\begin{tabular}{l c c c c c c}\n",
      "    \\hline\n",
      "                     & sortino & sharpe &\trisk &  mdd    &  downrisk &\tcumreturn     \\\\ \n",
      "    \\hline\n",
      "    B\\&H\t         &  -0.2549 & -0.1765\t& 0.3554 &  0.5380 &  0.2460   & \t-0.3144        \\\\ \n",
      "    profit-0\t     &  1.3874 & 0.9988\t& 0.2829 & \t0.4345 &  0.2046   & \t1.0866        \\\\ \n",
      "    regularized-0.01 &\t1.5375 & 1.1071\t& 0.2601 & \t0.3860 &  0.1881   & \t1.1271        \\\\ \n",
      "    regularized-0.05 & \t-0.0130 & -0.0471\t& 0.1282 & \t0.3130 &  0.3005   & \t-0.0438        \\\\ \n",
      "    regularized-0.1\t &  0.0000 & -0.1476\t& 0.0248 & \t0.0365 &  0.0000   & \t-0.0123        \\\\ \n",
      "    regularized-0.2\t &  0.0000 & 0.0000\t& 0.0000 & \t0.0000 &  0.0000   & \t0.0000        \\\\ \n",
      "    sharpe-0.01\t     &  -0.3028 & -0.2102\t& 0.3545 & \t0.5495 &  0.2460   & \t-0.3387        \\\\ \n",
      "    volatility-10\t &  -0.1348 & -0.1388\t& 0.2746 & \t0.4393 &  0.2320   & \t-0.1921        \\\\ \n",
      "    greedy-concat\t &  1.3874 & 0.9988\t& 0.2829 & \t0.4345 &  0.2046   & \t1.0866        \\\\ \n",
      "    ts-concat\t     &  1.6240 & 1.1540\t& 0.2684 & \t0.3860 &  0.1903   & \t1.2802        \\\\ \n",
      "    \\hline\n",
      "\\end{tabular}\n",
      "\\end{table}\n",
      "\n"
     ]
    }
   ],
   "source": [
    "symbol = symbols[8]\n",
    "_df = _filter(symbol)\n",
    "convert_latex(symbol, _df)"
   ]
  },
  {
   "cell_type": "code",
   "execution_count": 106,
   "metadata": {},
   "outputs": [
    {
     "name": "stdout",
     "output_type": "stream",
     "text": [
      "GS\n",
      "\\begin{table}[H]\n",
      "    \\label{table:GS}\n",
      "    \\caption{GS}\n",
      "    \\begin{tabular}{l c c c c c c}\n",
      "    \\hline\n",
      "                     & sortino & sharpe &\trisk &  mdd    &  downrisk &\tcumreturn     \\\\ \n",
      "    \\hline\n",
      "    B\\&H\t         &  0.7939 & 0.5781\t& 0.3676 &  0.4562 &  0.2677   & \t0.5464        \\\\ \n",
      "    profit-0\t     &  2.1619 & 1.6327\t& 0.2802 & \t0.5198 &  0.2106   & \t2.5271        \\\\ \n",
      "    regularized-0.01 &\t3.3878 & 2.1574\t& 0.2145 & \t0.2847 &  0.1353   & \t2.7323        \\\\ \n",
      "    regularized-0.05 & \t0.0000 & 0.0000\t& 0.0000 & \t0.0000 &  0.0000   & \t0.0000        \\\\ \n",
      "    regularized-0.1\t &  0.0000 & 0.0000\t& 0.0000 & \t0.0000 &  0.0000   & \t0.0000        \\\\ \n",
      "    regularized-0.2\t &  0.0000 & 0.0000\t& 0.0000 & \t0.0000 &  0.0000   & \t0.0000        \\\\ \n",
      "    sharpe-0.01\t     &  0.7538 & 0.5498\t& 0.3666 & \t0.4562 &  0.2674   & \t0.5003        \\\\ \n",
      "    volatility-10\t &  0.0980 & 0.1072\t& 0.1982 & \t0.3282 &  0.1889   & \t0.0075        \\\\ \n",
      "    greedy-concat\t &  2.1619 & 1.6327\t& 0.2802 & \t0.5198 &  0.2106   & \t2.5271        \\\\ \n",
      "    ts-concat\t     &  3.7766 & 2.3817\t& 0.2255 & \t0.2847 &  0.1430   & \t3.5667        \\\\ \n",
      "    \\hline\n",
      "\\end{tabular}\n",
      "\\end{table}\n",
      "\n"
     ]
    }
   ],
   "source": [
    "symbol = symbols[9]\n",
    "_df = _filter(symbol)\n",
    "convert_latex(symbol, _df)"
   ]
  },
  {
   "cell_type": "code",
   "execution_count": null,
   "metadata": {},
   "outputs": [],
   "source": []
  },
  {
   "cell_type": "code",
   "execution_count": null,
   "metadata": {},
   "outputs": [],
   "source": []
  },
  {
   "cell_type": "code",
   "execution_count": null,
   "metadata": {},
   "outputs": [],
   "source": []
  }
 ],
 "metadata": {
  "kernelspec": {
   "display_name": "Python 3.9.13 ('base')",
   "language": "python",
   "name": "python3"
  },
  "language_info": {
   "codemirror_mode": {
    "name": "ipython",
    "version": 3
   },
   "file_extension": ".py",
   "mimetype": "text/x-python",
   "name": "python",
   "nbconvert_exporter": "python",
   "pygments_lexer": "ipython3",
   "version": "3.9.13"
  },
  "orig_nbformat": 4,
  "vscode": {
   "interpreter": {
    "hash": "13d8d4cd6f551a18c363f4a9a34e8382caadd65d1d29b8174a12246b9ecfe3e0"
   }
  }
 },
 "nbformat": 4,
 "nbformat_minor": 2
}
